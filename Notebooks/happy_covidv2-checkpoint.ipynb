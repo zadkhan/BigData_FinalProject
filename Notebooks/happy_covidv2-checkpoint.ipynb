{
 "cells": [
  {
   "cell_type": "code",
   "execution_count": 3,
   "id": "3fa324fe",
   "metadata": {},
   "outputs": [],
   "source": [
    "import pandas as pd\n",
    "import matplotlib.pyplot as plt"
   ]
  },
  {
   "cell_type": "code",
   "execution_count": 4,
   "id": "a25ee2ec",
   "metadata": {},
   "outputs": [
    {
     "ename": "FileNotFoundError",
     "evalue": "[Errno 2] No such file or directory: '2015.csv'",
     "output_type": "error",
     "traceback": [
      "\u001B[1;31m---------------------------------------------------------------------------\u001B[0m",
      "\u001B[1;31mFileNotFoundError\u001B[0m                         Traceback (most recent call last)",
      "\u001B[1;32m~\\AppData\\Local\\Temp\\ipykernel_7704\\4075858532.py\u001B[0m in \u001B[0;36m<module>\u001B[1;34m\u001B[0m\n\u001B[1;32m----> 1\u001B[1;33m \u001B[0mdata_15\u001B[0m \u001B[1;33m=\u001B[0m \u001B[0mpd\u001B[0m\u001B[1;33m.\u001B[0m\u001B[0mread_csv\u001B[0m\u001B[1;33m(\u001B[0m\u001B[1;34m\"2015.csv\"\u001B[0m\u001B[1;33m)\u001B[0m\u001B[1;33m\u001B[0m\u001B[1;33m\u001B[0m\u001B[0m\n\u001B[0m\u001B[0;32m      2\u001B[0m \u001B[0mdata_16\u001B[0m \u001B[1;33m=\u001B[0m \u001B[0mpd\u001B[0m\u001B[1;33m.\u001B[0m\u001B[0mread_csv\u001B[0m\u001B[1;33m(\u001B[0m\u001B[1;34m\"2016.csv\"\u001B[0m\u001B[1;33m)\u001B[0m\u001B[1;33m\u001B[0m\u001B[1;33m\u001B[0m\u001B[0m\n\u001B[0;32m      3\u001B[0m \u001B[0mdata_17\u001B[0m \u001B[1;33m=\u001B[0m \u001B[0mpd\u001B[0m\u001B[1;33m.\u001B[0m\u001B[0mread_csv\u001B[0m\u001B[1;33m(\u001B[0m\u001B[1;34m\"2017.csv\"\u001B[0m\u001B[1;33m)\u001B[0m\u001B[1;33m\u001B[0m\u001B[1;33m\u001B[0m\u001B[0m\n\u001B[0;32m      4\u001B[0m \u001B[0mdata_18\u001B[0m \u001B[1;33m=\u001B[0m \u001B[0mpd\u001B[0m\u001B[1;33m.\u001B[0m\u001B[0mread_csv\u001B[0m\u001B[1;33m(\u001B[0m\u001B[1;34m\"2018.csv\"\u001B[0m\u001B[1;33m)\u001B[0m\u001B[1;33m\u001B[0m\u001B[1;33m\u001B[0m\u001B[0m\n\u001B[0;32m      5\u001B[0m \u001B[0mdata_19\u001B[0m \u001B[1;33m=\u001B[0m \u001B[0mpd\u001B[0m\u001B[1;33m.\u001B[0m\u001B[0mread_csv\u001B[0m\u001B[1;33m(\u001B[0m\u001B[1;34m\"2019.csv\"\u001B[0m\u001B[1;33m)\u001B[0m\u001B[1;33m\u001B[0m\u001B[1;33m\u001B[0m\u001B[0m\n",
      "\u001B[1;32m~\\anaconda3\\lib\\site-packages\\pandas\\util\\_decorators.py\u001B[0m in \u001B[0;36mwrapper\u001B[1;34m(*args, **kwargs)\u001B[0m\n\u001B[0;32m    309\u001B[0m                     \u001B[0mstacklevel\u001B[0m\u001B[1;33m=\u001B[0m\u001B[0mstacklevel\u001B[0m\u001B[1;33m,\u001B[0m\u001B[1;33m\u001B[0m\u001B[1;33m\u001B[0m\u001B[0m\n\u001B[0;32m    310\u001B[0m                 )\n\u001B[1;32m--> 311\u001B[1;33m             \u001B[1;32mreturn\u001B[0m \u001B[0mfunc\u001B[0m\u001B[1;33m(\u001B[0m\u001B[1;33m*\u001B[0m\u001B[0margs\u001B[0m\u001B[1;33m,\u001B[0m \u001B[1;33m**\u001B[0m\u001B[0mkwargs\u001B[0m\u001B[1;33m)\u001B[0m\u001B[1;33m\u001B[0m\u001B[1;33m\u001B[0m\u001B[0m\n\u001B[0m\u001B[0;32m    312\u001B[0m \u001B[1;33m\u001B[0m\u001B[0m\n\u001B[0;32m    313\u001B[0m         \u001B[1;32mreturn\u001B[0m \u001B[0mwrapper\u001B[0m\u001B[1;33m\u001B[0m\u001B[1;33m\u001B[0m\u001B[0m\n",
      "\u001B[1;32m~\\anaconda3\\lib\\site-packages\\pandas\\io\\parsers\\readers.py\u001B[0m in \u001B[0;36mread_csv\u001B[1;34m(filepath_or_buffer, sep, delimiter, header, names, index_col, usecols, squeeze, prefix, mangle_dupe_cols, dtype, engine, converters, true_values, false_values, skipinitialspace, skiprows, skipfooter, nrows, na_values, keep_default_na, na_filter, verbose, skip_blank_lines, parse_dates, infer_datetime_format, keep_date_col, date_parser, dayfirst, cache_dates, iterator, chunksize, compression, thousands, decimal, lineterminator, quotechar, quoting, doublequote, escapechar, comment, encoding, encoding_errors, dialect, error_bad_lines, warn_bad_lines, on_bad_lines, delim_whitespace, low_memory, memory_map, float_precision, storage_options)\u001B[0m\n\u001B[0;32m    676\u001B[0m     \u001B[0mkwds\u001B[0m\u001B[1;33m.\u001B[0m\u001B[0mupdate\u001B[0m\u001B[1;33m(\u001B[0m\u001B[0mkwds_defaults\u001B[0m\u001B[1;33m)\u001B[0m\u001B[1;33m\u001B[0m\u001B[1;33m\u001B[0m\u001B[0m\n\u001B[0;32m    677\u001B[0m \u001B[1;33m\u001B[0m\u001B[0m\n\u001B[1;32m--> 678\u001B[1;33m     \u001B[1;32mreturn\u001B[0m \u001B[0m_read\u001B[0m\u001B[1;33m(\u001B[0m\u001B[0mfilepath_or_buffer\u001B[0m\u001B[1;33m,\u001B[0m \u001B[0mkwds\u001B[0m\u001B[1;33m)\u001B[0m\u001B[1;33m\u001B[0m\u001B[1;33m\u001B[0m\u001B[0m\n\u001B[0m\u001B[0;32m    679\u001B[0m \u001B[1;33m\u001B[0m\u001B[0m\n\u001B[0;32m    680\u001B[0m \u001B[1;33m\u001B[0m\u001B[0m\n",
      "\u001B[1;32m~\\anaconda3\\lib\\site-packages\\pandas\\io\\parsers\\readers.py\u001B[0m in \u001B[0;36m_read\u001B[1;34m(filepath_or_buffer, kwds)\u001B[0m\n\u001B[0;32m    573\u001B[0m \u001B[1;33m\u001B[0m\u001B[0m\n\u001B[0;32m    574\u001B[0m     \u001B[1;31m# Create the parser.\u001B[0m\u001B[1;33m\u001B[0m\u001B[1;33m\u001B[0m\u001B[0m\n\u001B[1;32m--> 575\u001B[1;33m     \u001B[0mparser\u001B[0m \u001B[1;33m=\u001B[0m \u001B[0mTextFileReader\u001B[0m\u001B[1;33m(\u001B[0m\u001B[0mfilepath_or_buffer\u001B[0m\u001B[1;33m,\u001B[0m \u001B[1;33m**\u001B[0m\u001B[0mkwds\u001B[0m\u001B[1;33m)\u001B[0m\u001B[1;33m\u001B[0m\u001B[1;33m\u001B[0m\u001B[0m\n\u001B[0m\u001B[0;32m    576\u001B[0m \u001B[1;33m\u001B[0m\u001B[0m\n\u001B[0;32m    577\u001B[0m     \u001B[1;32mif\u001B[0m \u001B[0mchunksize\u001B[0m \u001B[1;32mor\u001B[0m \u001B[0miterator\u001B[0m\u001B[1;33m:\u001B[0m\u001B[1;33m\u001B[0m\u001B[1;33m\u001B[0m\u001B[0m\n",
      "\u001B[1;32m~\\anaconda3\\lib\\site-packages\\pandas\\io\\parsers\\readers.py\u001B[0m in \u001B[0;36m__init__\u001B[1;34m(self, f, engine, **kwds)\u001B[0m\n\u001B[0;32m    930\u001B[0m \u001B[1;33m\u001B[0m\u001B[0m\n\u001B[0;32m    931\u001B[0m         \u001B[0mself\u001B[0m\u001B[1;33m.\u001B[0m\u001B[0mhandles\u001B[0m\u001B[1;33m:\u001B[0m \u001B[0mIOHandles\u001B[0m \u001B[1;33m|\u001B[0m \u001B[1;32mNone\u001B[0m \u001B[1;33m=\u001B[0m \u001B[1;32mNone\u001B[0m\u001B[1;33m\u001B[0m\u001B[1;33m\u001B[0m\u001B[0m\n\u001B[1;32m--> 932\u001B[1;33m         \u001B[0mself\u001B[0m\u001B[1;33m.\u001B[0m\u001B[0m_engine\u001B[0m \u001B[1;33m=\u001B[0m \u001B[0mself\u001B[0m\u001B[1;33m.\u001B[0m\u001B[0m_make_engine\u001B[0m\u001B[1;33m(\u001B[0m\u001B[0mf\u001B[0m\u001B[1;33m,\u001B[0m \u001B[0mself\u001B[0m\u001B[1;33m.\u001B[0m\u001B[0mengine\u001B[0m\u001B[1;33m)\u001B[0m\u001B[1;33m\u001B[0m\u001B[1;33m\u001B[0m\u001B[0m\n\u001B[0m\u001B[0;32m    933\u001B[0m \u001B[1;33m\u001B[0m\u001B[0m\n\u001B[0;32m    934\u001B[0m     \u001B[1;32mdef\u001B[0m \u001B[0mclose\u001B[0m\u001B[1;33m(\u001B[0m\u001B[0mself\u001B[0m\u001B[1;33m)\u001B[0m\u001B[1;33m:\u001B[0m\u001B[1;33m\u001B[0m\u001B[1;33m\u001B[0m\u001B[0m\n",
      "\u001B[1;32m~\\anaconda3\\lib\\site-packages\\pandas\\io\\parsers\\readers.py\u001B[0m in \u001B[0;36m_make_engine\u001B[1;34m(self, f, engine)\u001B[0m\n\u001B[0;32m   1214\u001B[0m             \u001B[1;31m# \"Union[str, PathLike[str], ReadCsvBuffer[bytes], ReadCsvBuffer[str]]\"\u001B[0m\u001B[1;33m\u001B[0m\u001B[1;33m\u001B[0m\u001B[0m\n\u001B[0;32m   1215\u001B[0m             \u001B[1;31m# , \"str\", \"bool\", \"Any\", \"Any\", \"Any\", \"Any\", \"Any\"\u001B[0m\u001B[1;33m\u001B[0m\u001B[1;33m\u001B[0m\u001B[0m\n\u001B[1;32m-> 1216\u001B[1;33m             self.handles = get_handle(  # type: ignore[call-overload]\n\u001B[0m\u001B[0;32m   1217\u001B[0m                 \u001B[0mf\u001B[0m\u001B[1;33m,\u001B[0m\u001B[1;33m\u001B[0m\u001B[1;33m\u001B[0m\u001B[0m\n\u001B[0;32m   1218\u001B[0m                 \u001B[0mmode\u001B[0m\u001B[1;33m,\u001B[0m\u001B[1;33m\u001B[0m\u001B[1;33m\u001B[0m\u001B[0m\n",
      "\u001B[1;32m~\\anaconda3\\lib\\site-packages\\pandas\\io\\common.py\u001B[0m in \u001B[0;36mget_handle\u001B[1;34m(path_or_buf, mode, encoding, compression, memory_map, is_text, errors, storage_options)\u001B[0m\n\u001B[0;32m    784\u001B[0m         \u001B[1;32mif\u001B[0m \u001B[0mioargs\u001B[0m\u001B[1;33m.\u001B[0m\u001B[0mencoding\u001B[0m \u001B[1;32mand\u001B[0m \u001B[1;34m\"b\"\u001B[0m \u001B[1;32mnot\u001B[0m \u001B[1;32min\u001B[0m \u001B[0mioargs\u001B[0m\u001B[1;33m.\u001B[0m\u001B[0mmode\u001B[0m\u001B[1;33m:\u001B[0m\u001B[1;33m\u001B[0m\u001B[1;33m\u001B[0m\u001B[0m\n\u001B[0;32m    785\u001B[0m             \u001B[1;31m# Encoding\u001B[0m\u001B[1;33m\u001B[0m\u001B[1;33m\u001B[0m\u001B[0m\n\u001B[1;32m--> 786\u001B[1;33m             handle = open(\n\u001B[0m\u001B[0;32m    787\u001B[0m                 \u001B[0mhandle\u001B[0m\u001B[1;33m,\u001B[0m\u001B[1;33m\u001B[0m\u001B[1;33m\u001B[0m\u001B[0m\n\u001B[0;32m    788\u001B[0m                 \u001B[0mioargs\u001B[0m\u001B[1;33m.\u001B[0m\u001B[0mmode\u001B[0m\u001B[1;33m,\u001B[0m\u001B[1;33m\u001B[0m\u001B[1;33m\u001B[0m\u001B[0m\n",
      "\u001B[1;31mFileNotFoundError\u001B[0m: [Errno 2] No such file or directory: '2015.csv'"
     ]
    }
   ],
   "source": [
    "data_15 = pd.read_csv(\"2015.csv\")\n",
    "data_16 = pd.read_csv(\"2016.csv\")\n",
    "data_17 = pd.read_csv(\"2017.csv\")\n",
    "data_18 = pd.read_csv(\"2018.csv\")\n",
    "data_19 = pd.read_csv(\"2019.csv\")\n",
    "data_20 = pd.read_csv(\"2020.csv\")\n",
    "data_21 = pd.read_csv(\"2021.csv\")\n",
    "data_22 = pd.read_csv(\"2022.csv\")"
   ]
  },
  {
   "cell_type": "code",
   "execution_count": null,
   "id": "0e505184",
   "metadata": {},
   "outputs": [],
   "source": [
    "data_15 = data_15.iloc[:, :4]\n",
    "data_16 = data_16.iloc[:, :4]\n",
    "data_17 = data_17.iloc[:, :4]\n",
    "data_18 = data_18.iloc[:, :4]\n",
    "data_19 = data_19.iloc[:, :4]\n",
    "data_20 = data_20.iloc[:, :4]\n",
    "data_21 = data_21.iloc[:, :4]\n",
    "data_22 = data_22.iloc[:, :4]"
   ]
  },
  {
   "cell_type": "code",
   "execution_count": null,
   "id": "d3589f81",
   "metadata": {},
   "outputs": [],
   "source": [
    "data_15['Year'] = 2015\n",
    "data_16['Year'] = 2016\n",
    "data_17['Year'] = 2017\n",
    "data_18['Year'] = 2018\n",
    "data_19['Year'] = 2019\n",
    "data_20['Year'] = 2020\n",
    "data_21['Year'] = 2021\n",
    "data_22['Year'] = 2022"
   ]
  },
  {
   "cell_type": "code",
   "execution_count": null,
   "id": "a8e29b80",
   "metadata": {},
   "outputs": [],
   "source": [
    "data_15 = data_15.drop(columns='Region')\n",
    "data_15 = data_15.drop(columns='Happiness Rank')\n",
    "data_16 = data_16.drop(columns='Region')\n",
    "data_16 = data_16.drop(columns='Happiness Rank')"
   ]
  },
  {
   "cell_type": "code",
   "execution_count": null,
   "id": "1c7f8028",
   "metadata": {},
   "outputs": [],
   "source": [
    "data_17 = data_17.drop(columns='Whisker.high')\n",
    "data_17 = data_17.rename(columns={'Happiness.Rank': 'Happiness Rank', 'Happiness.Score': 'Happiness Score'})\n",
    "data_17 = data_17.drop(columns='Happiness Rank')"
   ]
  },
  {
   "cell_type": "code",
   "execution_count": null,
   "id": "b6d5d90e",
   "metadata": {},
   "outputs": [],
   "source": [
    "data_18 = data_18.drop(columns='GDP per capita')\n",
    "data_18 = data_18.drop(columns='Overall rank')\n",
    "data_18 = data_18.rename(columns={'Country or region': 'Country'})\n",
    "data_18 = data_18.rename(columns={'Score': 'Happiness Score'})\n",
    "data_19 = data_19.drop(columns='GDP per capita')\n",
    "data_19 = data_19.drop(columns='Overall rank')\n",
    "data_19 = data_19.rename(columns={'Country or region': 'Country'})\n",
    "data_19 = data_19.rename(columns={'Score': 'Happiness Score'})"
   ]
  },
  {
   "cell_type": "code",
   "execution_count": null,
   "id": "c57d4465",
   "metadata": {},
   "outputs": [],
   "source": [
    "data_20 = data_20.drop(columns='Regional indicator')\n",
    "data_20 = data_20.drop(columns='Standard error of ladder score')\n",
    "data_20 = data_20.rename(columns={'Ladder score': 'Happiness Score'})\n",
    "data_20 = data_20.rename(columns={'Country name': 'Country'})\n",
    "data_21 = data_21.drop(columns='Regional indicator')\n",
    "data_21 = data_21.drop(columns='Standard error of ladder score')\n",
    "data_21 = data_21.rename(columns={'Ladder score': 'Happiness Score'})\n",
    "data_21 = data_21.rename(columns={'Country name': 'Country'})"
   ]
  },
  {
   "cell_type": "code",
   "execution_count": null,
   "id": "5ab8f2d7",
   "metadata": {},
   "outputs": [],
   "source": [
    "data_22 = data_22.drop(columns='Whisker-high')\n",
    "data_22 = data_22.drop(columns='RANK')\n",
    "data_22 = data_22.drop(data_22.index[-1])\n",
    "data_22 = data_22.rename(columns={'Happiness score': 'Happiness Score'})\n",
    "data_22['Happiness Score'] = data_22['Happiness Score'].str.replace(',', '').astype(float)\n",
    "data_22['Happiness Score'] = data_22['Happiness Score'] / 1000"
   ]
  },
  {
   "cell_type": "code",
   "execution_count": null,
   "id": "432deea7",
   "metadata": {},
   "outputs": [],
   "source": [
    "happy_df = pd.concat([data_15, data_16, data_17, data_18, data_19, data_20, data_21, data_22])\n",
    "happy_df['Country'] = data_22['Country'].replace('*', '') #not working"
   ]
  },
  {
   "cell_type": "code",
   "execution_count": null,
   "id": "79458f3b",
   "metadata": {},
   "outputs": [],
   "source": [
    "population_df = pd.read_csv(\"population_by_country_2020.csv\")\n",
    "population_df = population_df.iloc[:, :2]"
   ]
  },
  {
   "cell_type": "code",
   "execution_count": null,
   "id": "880c766e",
   "metadata": {},
   "outputs": [],
   "source": [
    "data = pd.read_csv(\"total_deaths.csv\")\n",
    "death_df = pd.DataFrame(data)\n",
    "death_df = death_df.iloc[12:]\n",
    "death_df = death_df.iloc[::60, :]\n",
    "death_df.fillna(0, inplace=True)"
   ]
  },
  {
   "cell_type": "code",
   "execution_count": null,
   "id": "207bffd1",
   "metadata": {},
   "outputs": [],
   "source": [
    "pop_series = population_df.set_index('Country (or dependency)')['Population (2020)']\n",
    "death_div_pop = death_df.div(pop_series, axis=1)\n",
    "death_div_pop.fillna(0, inplace=True)"
   ]
  },
  {
   "cell_type": "code",
   "execution_count": null,
   "id": "8f9e9b46",
   "metadata": {},
   "outputs": [],
   "source": [
    "death_div_pop = death_div_pop.rename(columns={'date': 'average'})"
   ]
  },
  {
   "cell_type": "code",
   "execution_count": null,
   "id": "3f9b4aa6",
   "metadata": {},
   "outputs": [],
   "source": [
    "#deleting all countries / regions that have zero deaths / no population data resulting in zeros across every row\n",
    "last_row = death_div_pop.iloc[-1]\n",
    "null_cols = last_row == 0\n",
    "cols_to_keep = ~null_cols\n",
    "death_div_pop = death_div_pop.loc[:, cols_to_keep]"
   ]
  },
  {
   "cell_type": "code",
   "execution_count": null,
   "id": "edce28fa",
   "metadata": {},
   "outputs": [],
   "source": [
    "#old code but was working, black box at this point\n",
    "\n",
    "data = pd.read_csv(\"total_deaths.csv\")\n",
    "total_deaths = pd.DataFrame(data)\n",
    "total_deaths = total_deaths.iloc[12:]\n",
    "total_deaths = total_deaths.iloc[::60, :]\n",
    "\n",
    "population_data = pd.read_csv(\"population_by_country_2020.csv\")\n",
    "population_data = population_data.iloc[:, :2]\n",
    "\n",
    "deaths_div_population = pd.DataFrame(index=total_deaths.index, columns=total_deaths.columns)\n",
    "deaths_div_population.fillna(0, inplace=True)\n",
    "\n",
    "for country in total_deaths.columns:\n",
    "    population_series = population_data.loc[population_data['Country (or dependency)'] == country, 'Population (2020)']\n",
    "    if not population_series.empty:\n",
    "        population = population_series.values[0]\n",
    "        #normalized_deaths is a dataframe that is deaths/population\n",
    "        deaths_div_population[country] = total_deaths[country] / population\n",
    "    else:\n",
    "        pass\n",
    "        \n",
    "deaths_div_population.fillna(0, inplace=True)\n",
    "deaths_div_population.replace(0,-1, inplace=True)\n",
    "deaths_div_population['pop_death_average'] = deaths_div_population.apply(lambda row: row[row > 0].mean(), axis=1)\n",
    "\n",
    "dates = total_deaths\n",
    "dates = dates.iloc[:, 0:1]\n",
    "\n",
    "deaths_div_population = deaths_div_population * 100\n",
    "\n",
    "comparative_death_div_pop = deaths_div_population.apply(lambda row: row.sub(row.iloc[-1]), axis=1)\n",
    "\n",
    "for i in range(len(comparative_death_div_pop)):\n",
    "    for j in range(len(comparative_death_div_pop.columns)):\n",
    "        if (comparative_death_div_pop.iloc[i,j] < -5):\n",
    "            comparative_death_div_pop.iloc[i,j] = 0\n",
    "            \n",
    "relative_death_per_pop = pd.merge(dates, comparative_death_div_pop, left_index=True, right_index=True)\n",
    "\n",
    "start_date = 2020\n",
    "dates = []\n",
    "\n",
    "for i in range(20):\n",
    "    dates.append(start_date)\n",
    "    start_date += 0.16\n",
    "relative_death_per_pop['date_y'] = dates"
   ]
  },
  {
   "cell_type": "code",
   "execution_count": null,
   "id": "5d1fe3a9",
   "metadata": {},
   "outputs": [],
   "source": [
    "#           5 main dataframes have been created at this point       #\n",
    "\n",
    "# happy_df: big dataframe of all countries happiness scores from 2015-2022\n",
    "# population_df: dataframe of country populations in 2020\n",
    "# death_df: cumulative deaths per country in COVID\n",
    "# death_div_pop: deaths/population for countries\n",
    "# relative_death_per_pop: the difference for each country compared to the average amount of a country's death / pop \n",
    "happy_df.to_csv(\"happiness_df.csv\")\n",
    "population_df.to_csv(\"population_df.csv\")\n",
    "death_df.to_csv(\"death_df.csv\")\n",
    "death_div_pop.to_csv(\"death_div_pop_df.csv\")"
   ]
  },
  {
   "cell_type": "code",
   "execution_count": null,
   "id": "2d634943",
   "metadata": {},
   "outputs": [],
   "source": [
    "happiness_data_filtered = happy_df.loc[happy_df['Year'].isin([2018, 2022])]\n",
    "grouped_data = happiness_data_filtered.groupby(['Country', 'Year'])['Happiness Score'].mean().unstack()\n",
    "difference = grouped_data[2018] - grouped_data[2022]\n",
    "sorted_countries = difference.sort_values(ascending=False)\n",
    "#print('Top 10 countries with the biggest change in Cantril ladder score from 2022 to 2018:')\n",
    "#print(sorted_countries.head(10))\n",
    "greatest = grouped_data[2022] - grouped_data[2018]\n",
    "sorted_countries = difference.sort_values(ascending=True)\n",
    "#print('Top 10 countries with the biggest change in Cantril ladder score from 2022 to 2018:')\n",
    "#print(sorted_countries.head(10))"
   ]
  },
  {
   "cell_type": "code",
   "execution_count": null,
   "id": "6eb9f73b",
   "metadata": {},
   "outputs": [],
   "source": [
    "highest_vals = death_div_pop.iloc[-1].nlargest(10)\n",
    "highest_cols = highest_vals.index.tolist()\n",
    "print('Top 10 countries with the largest deaths / population')\n",
    "print(highest_cols)"
   ]
  },
  {
   "cell_type": "code",
   "execution_count": null,
   "id": "1374040a",
   "metadata": {},
   "outputs": [],
   "source": [
    "def get_happiness_scores(country_name):\n",
    "    mask = happy_df['Country'] == country_name\n",
    "    happiness_scores = happy_df.loc[mask, 'Happiness Score'].tolist()\n",
    "    return happiness_scores\n",
    "\n",
    "def plot_country(happiness_scores):\n",
    "    years = range(2015, 2023)\n",
    "    plt.plot(years, happiness_scores)\n",
    "    plt.xlabel('Year')\n",
    "    plt.ylabel('Happiness Scores')\n",
    "    plt.title('Change in Happiness from 2015 to 2022')\n",
    "    plt.show()"
   ]
  },
  {
   "cell_type": "code",
   "execution_count": null,
   "id": "04130241",
   "metadata": {},
   "outputs": [],
   "source": [
    "scores = get_happiness_scores(\"Russia\")\n",
    "plot_country(scores)"
   ]
  },
  {
   "cell_type": "code",
   "execution_count": null,
   "id": "6567a153",
   "metadata": {},
   "outputs": [],
   "source": [
    "def plot_countries_happiness(country_list, ymin, ymax):\n",
    "    num_countries = len(country_list)\n",
    "    num_cols = 3\n",
    "    num_rows = (num_countries + num_cols - 1) // num_cols\n",
    "    \n",
    "    fig, axes = plt.subplots(nrows=num_rows, ncols=num_cols, figsize=(12, 4*num_rows))\n",
    "    \n",
    "    for i, country in enumerate(country_list):\n",
    "        row = i // num_cols\n",
    "        col = i % num_cols\n",
    "        scores = get_happiness_scores(country)\n",
    "        ax = axes[row][col]\n",
    "        ax.plot(scores)\n",
    "        ax.set_title(country)\n",
    "        ax.set_ylim(ymin, ymax)\n",
    "        ax.set_xlabel('Year')\n",
    "        ax.set_ylabel('Happiness Score')\n",
    "        ax.set_xticks(range(0, 8, 3))\n",
    "        ax.set_xticklabels(range(2015, 2023, 3))\n",
    "        ax.plot(scores, marker='o', markersize=4)\n",
    "\n",
    "        \n",
    "    fig.subplots_adjust(hspace=0.5)\n",
    "    plt.show()\n",
    "\n",
    "def plot_countries_realtive_deaths(country_list):\n",
    "    n_rows = 3\n",
    "    n_cols = 3\n",
    "    fig, axes = plt.subplots(nrows=n_rows, ncols=n_cols, figsize=(12, 12), sharex=True)\n",
    "\n",
    "    for i, country in enumerate(country_list):\n",
    "        row = i // n_cols\n",
    "        col = i % n_cols\n",
    "        ax = axes[row][col]\n",
    "        ax.plot(relative_death_per_pop[\"date_y\"], relative_death_per_pop[country], color='red')\n",
    "        ax.set_title(country)\n",
    "        ax.set_xlabel('Date')\n",
    "        ax.set_ylabel('Value')\n",
    "    \n",
    "    fig.subplots_adjust(hspace=0.5, wspace=0.5)\n",
    "    \n",
    "    # show the plot\n",
    "    plt.show()\n"
   ]
  },
  {
   "cell_type": "code",
   "execution_count": null,
   "id": "50fc294f",
   "metadata": {},
   "outputs": [],
   "source": [
    "happy_df"
   ]
  },
  {
   "cell_type": "code",
   "execution_count": null,
   "id": "c2c75775",
   "metadata": {
    "scrolled": true
   },
   "outputs": [],
   "source": [
    "highest_cols.pop()"
   ]
  },
  {
   "cell_type": "code",
   "execution_count": null,
   "id": "037732ea",
   "metadata": {},
   "outputs": [],
   "source": [
    "plot_countries_realtive_deaths(highest_cols)"
   ]
  },
  {
   "cell_type": "code",
   "execution_count": null,
   "id": "910b92c7",
   "metadata": {},
   "outputs": [],
   "source": [
    "plot_countries_happiness(highest_cols)"
   ]
  },
  {
   "cell_type": "code",
   "execution_count": null,
   "id": "9a32757c",
   "metadata": {},
   "outputs": [],
   "source": [
    "def get_happiest_countries_2022():\n",
    "    # filter rows with year equal to 2022\n",
    "    happy_2022 = happy_df.loc[happy_df['Year'] == 2022]\n",
    "    \n",
    "    # sort values by happiness score in descending order\n",
    "    sorted_happy = happy_2022.sort_values(by='Happiness Score', ascending=False)\n",
    "    \n",
    "    # return the list of country names in descending order of happiness score\n",
    "    return list(sorted_happy['Country'][:9])"
   ]
  },
  {
   "cell_type": "code",
   "execution_count": null,
   "id": "b1ca84df",
   "metadata": {},
   "outputs": [],
   "source": [
    "plot_countries_happiness(get_happiest_countries_2022(), 7, 9)"
   ]
  },
  {
   "cell_type": "code",
   "execution_count": null,
   "id": "b1d0e642",
   "metadata": {},
   "outputs": [],
   "source": [
    "a = get_happiest_countries_2022()\n",
    "lux_index = a.index('Luxembourg*')\n",
    "a[lux_index] = 'Luxembourg'\n",
    "plot_countries_realtive_deaths(a)"
   ]
  },
  {
   "cell_type": "code",
   "execution_count": null,
   "id": "0f33a767",
   "metadata": {},
   "outputs": [],
   "source": []
  }
 ],
 "metadata": {
  "kernelspec": {
   "display_name": "Python 3 (ipykernel)",
   "language": "python",
   "name": "python3"
  },
  "language_info": {
   "codemirror_mode": {
    "name": "ipython",
    "version": 3
   },
   "file_extension": ".py",
   "mimetype": "text/x-python",
   "name": "python",
   "nbconvert_exporter": "python",
   "pygments_lexer": "ipython3",
   "version": "3.9.13"
  }
 },
 "nbformat": 4,
 "nbformat_minor": 5
}
