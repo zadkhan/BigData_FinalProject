{
 "cells": [
  {
   "cell_type": "code",
   "execution_count": 1,
   "id": "fb466243",
   "metadata": {},
   "outputs": [],
   "source": [
    "import pandas as pd\n",
    "import matplotlib.pyplot as plt\n",
    "\n",
    "happy_df = pd.read_csv(\"happiness_df.csv\")\n",
    "\n",
    "def get_happiness_scores(country_name):\n",
    "    mask = happy_df['Country'] == country_name\n",
    "    happiness_scores = happy_df.loc[mask, 'Happiness Score'].tolist()\n",
    "    return happiness_scores\n",
    "\n",
    "def plot_country(happiness_scores):\n",
    "    years = range(2018, 2023)\n",
    "    plt.plot(years, happiness_scores)\n",
    "    plt.xlabel('Year')\n",
    "    plt.ylabel('Happiness Scores')\n",
    "    plt.title('Change in Happiness from 2015 to 2022')\n",
    "    plt.show()"
   ]
  },
  {
   "cell_type": "code",
   "execution_count": 2,
   "id": "bd391831",
   "metadata": {},
   "outputs": [
    {
     "data": {
      "text/html": [
       "<div>\n",
       "<style scoped>\n",
       "    .dataframe tbody tr th:only-of-type {\n",
       "        vertical-align: middle;\n",
       "    }\n",
       "\n",
       "    .dataframe tbody tr th {\n",
       "        vertical-align: top;\n",
       "    }\n",
       "\n",
       "    .dataframe thead th {\n",
       "        text-align: right;\n",
       "    }\n",
       "</style>\n",
       "<table border=\"1\" class=\"dataframe\">\n",
       "  <thead>\n",
       "    <tr style=\"text-align: right;\">\n",
       "      <th></th>\n",
       "      <th>Country</th>\n",
       "      <th>2015</th>\n",
       "      <th>2016</th>\n",
       "      <th>2017</th>\n",
       "      <th>2018</th>\n",
       "      <th>2019</th>\n",
       "      <th>2020</th>\n",
       "      <th>2021</th>\n",
       "      <th>2022</th>\n",
       "    </tr>\n",
       "  </thead>\n",
       "  <tbody>\n",
       "    <tr>\n",
       "      <th>0</th>\n",
       "      <td>Finland</td>\n",
       "      <td>7.587</td>\n",
       "      <td>7.526</td>\n",
       "      <td>7.537</td>\n",
       "      <td>7.632</td>\n",
       "      <td>7.769</td>\n",
       "      <td>7.8087</td>\n",
       "      <td>7.842</td>\n",
       "      <td>7.821</td>\n",
       "    </tr>\n",
       "    <tr>\n",
       "      <th>1</th>\n",
       "      <td>Denmark</td>\n",
       "      <td>7.561</td>\n",
       "      <td>7.509</td>\n",
       "      <td>7.522</td>\n",
       "      <td>7.594</td>\n",
       "      <td>7.600</td>\n",
       "      <td>7.6456</td>\n",
       "      <td>7.620</td>\n",
       "      <td>7.636</td>\n",
       "    </tr>\n",
       "    <tr>\n",
       "      <th>2</th>\n",
       "      <td>Iceland</td>\n",
       "      <td>7.527</td>\n",
       "      <td>7.501</td>\n",
       "      <td>7.504</td>\n",
       "      <td>7.555</td>\n",
       "      <td>7.554</td>\n",
       "      <td>7.5599</td>\n",
       "      <td>7.571</td>\n",
       "      <td>7.557</td>\n",
       "    </tr>\n",
       "    <tr>\n",
       "      <th>3</th>\n",
       "      <td>Switzerland</td>\n",
       "      <td>7.522</td>\n",
       "      <td>7.498</td>\n",
       "      <td>7.494</td>\n",
       "      <td>7.495</td>\n",
       "      <td>7.494</td>\n",
       "      <td>7.5045</td>\n",
       "      <td>7.554</td>\n",
       "      <td>7.512</td>\n",
       "    </tr>\n",
       "    <tr>\n",
       "      <th>4</th>\n",
       "      <td>Netherlands</td>\n",
       "      <td>7.427</td>\n",
       "      <td>7.413</td>\n",
       "      <td>7.469</td>\n",
       "      <td>7.487</td>\n",
       "      <td>7.488</td>\n",
       "      <td>7.4880</td>\n",
       "      <td>7.464</td>\n",
       "      <td>7.415</td>\n",
       "    </tr>\n",
       "    <tr>\n",
       "      <th>...</th>\n",
       "      <td>...</td>\n",
       "      <td>...</td>\n",
       "      <td>...</td>\n",
       "      <td>...</td>\n",
       "      <td>...</td>\n",
       "      <td>...</td>\n",
       "      <td>...</td>\n",
       "      <td>...</td>\n",
       "      <td>...</td>\n",
       "    </tr>\n",
       "    <tr>\n",
       "      <th>141</th>\n",
       "      <td>Botswana*</td>\n",
       "      <td>3.904</td>\n",
       "      <td>3.856</td>\n",
       "      <td>3.766</td>\n",
       "      <td>3.795</td>\n",
       "      <td>3.973</td>\n",
       "      <td>3.7208</td>\n",
       "      <td>3.623</td>\n",
       "      <td>3.471</td>\n",
       "    </tr>\n",
       "    <tr>\n",
       "      <th>142</th>\n",
       "      <td>Rwanda*</td>\n",
       "      <td>3.896</td>\n",
       "      <td>3.832</td>\n",
       "      <td>3.657</td>\n",
       "      <td>3.774</td>\n",
       "      <td>3.933</td>\n",
       "      <td>3.6528</td>\n",
       "      <td>3.615</td>\n",
       "      <td>3.268</td>\n",
       "    </tr>\n",
       "    <tr>\n",
       "      <th>143</th>\n",
       "      <td>Zimbabwe</td>\n",
       "      <td>3.845</td>\n",
       "      <td>3.763</td>\n",
       "      <td>3.644</td>\n",
       "      <td>3.692</td>\n",
       "      <td>3.802</td>\n",
       "      <td>3.5733</td>\n",
       "      <td>3.600</td>\n",
       "      <td>2.995</td>\n",
       "    </tr>\n",
       "    <tr>\n",
       "      <th>144</th>\n",
       "      <td>Lebanon</td>\n",
       "      <td>3.819</td>\n",
       "      <td>3.739</td>\n",
       "      <td>3.603</td>\n",
       "      <td>3.632</td>\n",
       "      <td>3.775</td>\n",
       "      <td>3.5380</td>\n",
       "      <td>3.512</td>\n",
       "      <td>2.955</td>\n",
       "    </tr>\n",
       "    <tr>\n",
       "      <th>145</th>\n",
       "      <td>Afghanistan</td>\n",
       "      <td>3.781</td>\n",
       "      <td>3.739</td>\n",
       "      <td>3.593</td>\n",
       "      <td>3.590</td>\n",
       "      <td>3.663</td>\n",
       "      <td>3.5274</td>\n",
       "      <td>3.467</td>\n",
       "      <td>2.404</td>\n",
       "    </tr>\n",
       "  </tbody>\n",
       "</table>\n",
       "<p>146 rows × 9 columns</p>\n",
       "</div>"
      ],
      "text/plain": [
       "         Country   2015   2016   2017   2018   2019    2020   2021   2022\n",
       "0        Finland  7.587  7.526  7.537  7.632  7.769  7.8087  7.842  7.821\n",
       "1        Denmark  7.561  7.509  7.522  7.594  7.600  7.6456  7.620  7.636\n",
       "2        Iceland  7.527  7.501  7.504  7.555  7.554  7.5599  7.571  7.557\n",
       "3    Switzerland  7.522  7.498  7.494  7.495  7.494  7.5045  7.554  7.512\n",
       "4    Netherlands  7.427  7.413  7.469  7.487  7.488  7.4880  7.464  7.415\n",
       "..           ...    ...    ...    ...    ...    ...     ...    ...    ...\n",
       "141    Botswana*  3.904  3.856  3.766  3.795  3.973  3.7208  3.623  3.471\n",
       "142      Rwanda*  3.896  3.832  3.657  3.774  3.933  3.6528  3.615  3.268\n",
       "143     Zimbabwe  3.845  3.763  3.644  3.692  3.802  3.5733  3.600  2.995\n",
       "144      Lebanon  3.819  3.739  3.603  3.632  3.775  3.5380  3.512  2.955\n",
       "145  Afghanistan  3.781  3.739  3.593  3.590  3.663  3.5274  3.467  2.404\n",
       "\n",
       "[146 rows x 9 columns]"
      ]
     },
     "execution_count": 2,
     "metadata": {},
     "output_type": "execute_result"
    }
   ],
   "source": [
    "# THIS IS PROPERLY ORDERING, MOST UP TO DATE\n",
    "\n",
    "pivot = pd.DataFrame({'Country': happy_df['Country']})\n",
    "for year in range(2015, 2023):\n",
    "    pivot[str(year)] = pd.Series(dtype=float)\n",
    "\n",
    "    \n",
    "for i in range(len(pivot)):\n",
    "    # get the name of the current country\n",
    "    country = pivot.loc[i, 'Country']\n",
    "    \n",
    "    # loop through each year from 2015 to 2022\n",
    "    for year in range(2015, 2023):\n",
    "        # look up the happiness score for the current country in the happy_df dataframe for the current year\n",
    "        row = happy_df.loc[(happy_df['Country'] == country) & (happy_df['Year'] == year), 'Happiness Score']\n",
    "        if not row.empty:\n",
    "            happiness_score = row.values[0]\n",
    "            # fill in the corresponding cell in the pivot dataframe\n",
    "            pivot.loc[i, str(year)] = happiness_score\n",
    "\n",
    "pivot.drop_duplicates(subset=['Country'], inplace=True)\n",
    "pivot.drop(index=pivot.index[-1], inplace=True)\n",
    "\n",
    "# display the final dataframe\n",
    "pivoted_happy = pivot\n",
    "\n",
    "pivoted_happy"
   ]
  },
  {
   "cell_type": "code",
   "execution_count": 3,
   "id": "258ef110",
   "metadata": {
    "scrolled": true
   },
   "outputs": [],
   "source": [
    "country_codes = pd.read_csv(\"country_codes.csv\")\n",
    "country_codes = country_codes.iloc[:, :3]"
   ]
  },
  {
   "cell_type": "code",
   "execution_count": 4,
   "id": "c2b5e37e",
   "metadata": {},
   "outputs": [
    {
     "name": "stderr",
     "output_type": "stream",
     "text": [
      "/var/folders/qs/knw37k4949970ll3df3cmq5m0000gn/T/ipykernel_68164/2005239182.py:1: FutureWarning: The default value of regex will change from True to False in a future version. In addition, single character regular expressions will *not* be treated as literal strings when regex=True.\n",
      "  pivoted_happy['Country'] = pivoted_happy['Country'].str.replace('*', '')\n"
     ]
    }
   ],
   "source": [
    "pivoted_happy['Country'] = pivoted_happy['Country'].str.replace('*', '')"
   ]
  },
  {
   "cell_type": "code",
   "execution_count": 5,
   "id": "18f4fdad",
   "metadata": {},
   "outputs": [],
   "source": [
    "# Use merge to join the two DataFrames on the \"name\" column\n",
    "merged_df = pd.merge(pivoted_happy, country_codes[['name', 'alpha-3']], \n",
    "                     how='left', left_on='Country', right_on='name')\n",
    "\n",
    "merged_df = merged_df.rename(columns={'alpha-3': 'Country Code'})\n",
    "merged_df = merged_df.drop(columns=['name'])\n",
    "\n",
    "# Save the modified DataFrame back to the original variable\n",
    "pivoted_happy = merged_df"
   ]
  },
  {
   "cell_type": "code",
   "execution_count": 6,
   "id": "ea25fb14",
   "metadata": {},
   "outputs": [
    {
     "name": "stdout",
     "output_type": "stream",
     "text": [
      "                       Country   2015   2016   2017   2018   2019    2020  \\\n",
      "15               United States  6.983  6.994  6.951  6.927  7.021  7.0937   \n",
      "16              United Kingdom  6.946  6.952  6.891  6.910  6.985  7.0758   \n",
      "25    Taiwan Province of China  6.750  6.650  6.572  6.441  6.444  6.4401   \n",
      "31                      Kosovo  6.485  6.478  6.424  6.374  6.300  6.3756   \n",
      "58                 South Korea  5.813  5.822  5.822  5.810  5.860  5.9109   \n",
      "61                     Moldova  5.759  5.771  5.758  5.752  5.758  5.8708   \n",
      "70                     Bolivia  5.477  5.528  5.472  5.524  5.529  5.5557   \n",
      "76                     Vietnam  5.286  5.401  5.293  5.410  5.425  5.5150   \n",
      "78                North Cyprus  5.253  5.314  5.273  5.358  5.373  5.5047   \n",
      "79                      Russia  5.212  5.303  5.269  5.358  5.339  5.4888   \n",
      "80   Hong Kong S.A.R. of China  5.194  5.291  5.262  5.347  5.323  5.4562   \n",
      "87                 Ivory Coast  5.102  5.161  5.225  5.199  5.211  5.1944   \n",
      "94                        Laos  4.959  5.121  5.074  5.103  5.082  5.1191   \n",
      "107                  Venezuela  4.715  4.754  4.692  4.657  4.707  4.8293   \n",
      "109                       Iran  4.686  4.643  4.608  4.623  4.696  4.7848   \n",
      "121    Palestinian Territories  4.512  4.356  4.315  4.419  4.490  4.5711   \n",
      "124       Eswatini, Kingdom of  4.419  4.272  4.286  4.377  4.456  4.5528   \n",
      "138                   Tanzania  3.989  3.916  3.808  3.999  4.085  3.9264   \n",
      "\n",
      "      2021   2022 Country Code  \n",
      "15   7.069  6.977          NaN  \n",
      "16   7.064  6.943          NaN  \n",
      "25   6.494  6.512          NaN  \n",
      "31   6.377  6.455          NaN  \n",
      "58   5.919  5.935          NaN  \n",
      "61   5.845  5.857          NaN  \n",
      "70   5.653  5.600          NaN  \n",
      "76   5.477  5.485          NaN  \n",
      "78   5.411  5.467          NaN  \n",
      "79   5.410  5.459          NaN  \n",
      "80   5.384  5.425          NaN  \n",
      "87   5.266  5.235          NaN  \n",
      "94   5.088  5.140          NaN  \n",
      "107  4.891  4.925          NaN  \n",
      "109  4.875  4.888          NaN  \n",
      "121  4.596  4.483          NaN  \n",
      "124  4.517  4.396          NaN  \n",
      "138  3.819  3.702          NaN  \n"
     ]
    }
   ],
   "source": [
    "nan_rows = pivoted_happy[pd.isna(pivoted_happy['Country Code'])]\n",
    "print(nan_rows)"
   ]
  },
  {
   "cell_type": "code",
   "execution_count": 7,
   "id": "3f40a9f6",
   "metadata": {},
   "outputs": [],
   "source": [
    "# manually adding all country codes where the ISO uses different names than happiness\n",
    "\n",
    "pivoted_happy.loc[pivoted_happy['Country'] == 'United States', 'Country Code'] = 'USA'\n",
    "pivoted_happy.loc[pivoted_happy['Country'] == 'Russia', 'Country Code'] = 'RUS'\n",
    "pivoted_happy.loc[pivoted_happy['Country'] == 'United Kingdom', 'Country Code'] = 'GBR'\n",
    "pivoted_happy.loc[pivoted_happy['Country'] == 'Taiwan Province of China', 'Country Code'] = 'TWN'\n",
    "pivoted_happy.loc[pivoted_happy['Country'] == 'South Korea', 'Country Code'] = 'KOR'\n",
    "pivoted_happy.loc[pivoted_happy['Country'] == 'Bolivia', 'Country Code'] = 'BOL'\n",
    "pivoted_happy.loc[pivoted_happy['Country'] == 'Vietnam', 'Country Code'] = 'VNM'\n",
    "pivoted_happy.loc[pivoted_happy['Country'] == 'North Cyprus', 'Country Code'] = 'CYP'\n",
    "pivoted_happy.loc[pivoted_happy['Country'] == 'Hong Kong S.A.R. of China', 'Country Code'] = 'HKG'\n",
    "pivoted_happy.loc[pivoted_happy['Country'] == 'Ivory Coast', 'Country Code'] = 'CIV'\n",
    "pivoted_happy.loc[pivoted_happy['Country'] == 'Laos', 'Country Code'] = 'LAO'\n",
    "pivoted_happy.loc[pivoted_happy['Country'] == 'Venezuela', 'Country Code'] = 'VEN'\n",
    "pivoted_happy.loc[pivoted_happy['Country'] == 'Iran', 'Country Code'] = 'IRN'\n",
    "pivoted_happy.loc[pivoted_happy['Country'] == 'Tanzania', 'Country Code'] = 'TZA'"
   ]
  },
  {
   "cell_type": "code",
   "execution_count": 9,
   "id": "ec47fda2",
   "metadata": {},
   "outputs": [
    {
     "data": {
      "application/vnd.plotly.v1+json": {
       "config": {
        "plotlyServerURL": "https://plot.ly"
       },
       "data": [
        {
         "coloraxis": "coloraxis",
         "geo": "geo",
         "hovertemplate": "<b>%{hovertext}</b><br><br>Country Code=%{location}<br>2022=%{z}<extra></extra>",
         "hovertext": [
          "Finland",
          "Denmark",
          "Iceland",
          "Switzerland",
          "Netherlands",
          "Luxembourg",
          "Sweden",
          "Norway",
          "Israel",
          "New Zealand",
          "Austria",
          "Australia",
          "Ireland",
          "Germany",
          "Canada",
          "United States",
          "United Kingdom",
          "Czechia",
          "Belgium",
          "France",
          "Bahrain",
          "Slovenia",
          "Costa Rica",
          "United Arab Emirates",
          "Saudi Arabia",
          "Taiwan Province of China",
          "Singapore",
          "Romania",
          "Spain",
          "Uruguay",
          "Italy",
          "Kosovo",
          "Malta",
          "Lithuania",
          "Slovakia",
          "Estonia",
          "Panama",
          "Brazil",
          "Guatemala",
          "Kazakhstan",
          "Cyprus",
          "Latvia",
          "Serbia",
          "Chile",
          "Nicaragua",
          "Mexico",
          "Croatia",
          "Poland",
          "El Salvador",
          "Kuwait",
          "Hungary",
          "Mauritius",
          "Uzbekistan",
          "Japan",
          "Honduras",
          "Portugal",
          "Argentina",
          "Greece",
          "South Korea",
          "Philippines",
          "Thailand",
          "Moldova",
          "Jamaica",
          "Kyrgyzstan",
          "Belarus",
          "Colombia",
          "Bosnia and Herzegovina",
          "Mongolia",
          "Dominican Republic",
          "Malaysia",
          "Bolivia",
          "China",
          "Paraguay",
          "Peru",
          "Montenegro",
          "Ecuador",
          "Vietnam",
          "Turkmenistan",
          "North Cyprus",
          "Russia",
          "Hong Kong S.A.R. of China",
          "Armenia",
          "Tajikistan",
          "Nepal",
          "Bulgaria",
          "Libya",
          "Indonesia",
          "Ivory Coast",
          "North Macedonia",
          "Albania",
          "South Africa",
          "Azerbaijan",
          "Gambia",
          "Bangladesh",
          "Laos",
          "Algeria",
          "Liberia",
          "Ukraine",
          "Congo",
          "Morocco",
          "Mozambique",
          "Cameroon",
          "Senegal",
          "Niger",
          "Georgia",
          "Gabon",
          "Iraq",
          "Venezuela",
          "Guinea",
          "Iran",
          "Ghana",
          "Turkey",
          "Burkina Faso",
          "Cambodia",
          "Benin",
          "Comoros",
          "Uganda",
          "Nigeria",
          "Kenya",
          "Tunisia",
          "Pakistan",
          "Palestinian Territories",
          "Mali",
          "Namibia",
          "Eswatini, Kingdom of",
          "Myanmar",
          "Sri Lanka",
          "Madagascar",
          "Egypt",
          "Chad",
          "Ethiopia",
          "Yemen",
          "Mauritania",
          "Jordan",
          "Togo",
          "India",
          "Zambia",
          "Malawi",
          "Tanzania",
          "Sierra Leone",
          "Lesotho",
          "Botswana",
          "Rwanda",
          "Zimbabwe",
          "Lebanon",
          "Afghanistan"
         ],
         "locationmode": "ISO-3",
         "locations": [
          "FIN",
          "DNK",
          "ISL",
          "CHE",
          "NLD",
          "LUX",
          "SWE",
          "NOR",
          "ISR",
          "NZL",
          "AUT",
          "AUS",
          "IRL",
          "DEU",
          "CAN",
          "USA",
          "GBR",
          "CZE",
          "BEL",
          "FRA",
          "BHR",
          "SVN",
          "CRI",
          "ARE",
          "SAU",
          "TWN",
          "SGP",
          "ROU",
          "ESP",
          "URY",
          "ITA",
          null,
          "MLT",
          "LTU",
          "SVK",
          "EST",
          "PAN",
          "BRA",
          "GTM",
          "KAZ",
          "CYP",
          "LVA",
          "SRB",
          "CHL",
          "NIC",
          "MEX",
          "HRV",
          "POL",
          "SLV",
          "KWT",
          "HUN",
          "MUS",
          "UZB",
          "JPN",
          "HND",
          "PRT",
          "ARG",
          "GRC",
          "KOR",
          "PHL",
          "THA",
          null,
          "JAM",
          "KGZ",
          "BLR",
          "COL",
          "BIH",
          "MNG",
          "DOM",
          "MYS",
          "BOL",
          "CHN",
          "PRY",
          "PER",
          "MNE",
          "ECU",
          "VNM",
          "TKM",
          "CYP",
          "RUS",
          "HKG",
          "ARM",
          "TJK",
          "NPL",
          "BGR",
          "LBY",
          "IDN",
          "CIV",
          "MKD",
          "ALB",
          "ZAF",
          "AZE",
          "GMB",
          "BGD",
          "LAO",
          "DZA",
          "LBR",
          "UKR",
          "COG",
          "MAR",
          "MOZ",
          "CMR",
          "SEN",
          "NER",
          "GEO",
          "GAB",
          "IRQ",
          "VEN",
          "GIN",
          "IRN",
          "GHA",
          "TUR",
          "BFA",
          "KHM",
          "BEN",
          "COM",
          "UGA",
          "NGA",
          "KEN",
          "TUN",
          "PAK",
          null,
          "MLI",
          "NAM",
          null,
          "MMR",
          "LKA",
          "MDG",
          "EGY",
          "TCD",
          "ETH",
          "YEM",
          "MRT",
          "JOR",
          "TGO",
          "IND",
          "ZMB",
          "MWI",
          "TZA",
          "SLE",
          "LSO",
          "BWA",
          "RWA",
          "ZWE",
          "LBN",
          "AFG"
         ],
         "name": "",
         "type": "choropleth",
         "z": [
          7.821,
          7.636,
          7.557,
          7.512,
          7.415,
          7.404,
          7.384,
          7.365,
          7.364,
          7.2,
          7.163,
          7.162,
          7.041,
          7.034,
          7.025,
          6.977,
          6.943,
          6.92,
          6.805,
          6.687,
          6.647,
          6.63,
          6.582,
          6.576,
          6.523,
          6.512,
          6.48,
          6.477,
          6.476,
          6.474,
          6.467,
          6.455,
          6.447,
          6.446,
          6.391,
          6.341,
          6.309,
          6.293,
          6.262,
          6.234,
          6.221,
          6.18,
          6.178,
          6.172,
          6.165,
          6.128,
          6.125,
          6.123,
          6.12,
          6.106,
          6.086,
          6.071,
          6.063,
          6.039,
          6.022,
          6.016,
          5.967,
          5.948,
          5.935,
          5.904,
          5.891,
          5.857,
          5.85,
          5.828,
          5.821,
          5.781,
          5.768,
          5.761,
          5.737,
          5.711,
          5.6,
          5.585,
          5.578,
          5.559,
          5.547,
          5.533,
          5.485,
          5.474,
          5.467,
          5.459,
          5.425,
          5.399,
          5.377,
          5.377,
          5.371,
          5.33,
          5.24,
          5.235,
          5.199,
          5.199,
          5.194,
          5.173,
          5.164,
          5.155,
          5.14,
          5.122,
          5.122,
          5.084,
          5.075,
          5.06,
          5.048,
          5.048,
          5.046,
          5.003,
          4.973,
          4.958,
          4.941,
          4.925,
          4.891,
          4.888,
          4.872,
          4.744,
          4.67,
          4.64,
          4.623,
          4.609,
          4.603,
          4.552,
          4.543,
          4.516,
          4.516,
          4.483,
          4.479,
          4.459,
          4.396,
          4.394,
          4.362,
          4.339,
          4.288,
          4.251,
          4.241,
          4.197,
          4.153,
          4.152,
          4.112,
          3.777,
          3.76,
          3.75,
          3.702,
          3.574,
          3.512,
          3.471,
          3.268,
          2.995,
          2.955,
          2.404
         ]
        }
       ],
       "layout": {
        "coloraxis": {
         "colorbar": {
          "title": {
           "text": "2022"
          }
         },
         "colorscale": [
          [
           0,
           "#8B0000"
          ],
          [
           0.3333333333333333,
           "#FF4500"
          ],
          [
           0.6666666666666666,
           "#FFA500"
          ],
          [
           1,
           "#FFFF00"
          ]
         ]
        },
        "geo": {
         "center": {},
         "domain": {
          "x": [
           0,
           1
          ],
          "y": [
           0,
           1
          ]
         }
        },
        "legend": {
         "tracegroupgap": 0
        },
        "template": {
         "data": {
          "bar": [
           {
            "error_x": {
             "color": "#2a3f5f"
            },
            "error_y": {
             "color": "#2a3f5f"
            },
            "marker": {
             "line": {
              "color": "#E5ECF6",
              "width": 0.5
             },
             "pattern": {
              "fillmode": "overlay",
              "size": 10,
              "solidity": 0.2
             }
            },
            "type": "bar"
           }
          ],
          "barpolar": [
           {
            "marker": {
             "line": {
              "color": "#E5ECF6",
              "width": 0.5
             },
             "pattern": {
              "fillmode": "overlay",
              "size": 10,
              "solidity": 0.2
             }
            },
            "type": "barpolar"
           }
          ],
          "carpet": [
           {
            "aaxis": {
             "endlinecolor": "#2a3f5f",
             "gridcolor": "white",
             "linecolor": "white",
             "minorgridcolor": "white",
             "startlinecolor": "#2a3f5f"
            },
            "baxis": {
             "endlinecolor": "#2a3f5f",
             "gridcolor": "white",
             "linecolor": "white",
             "minorgridcolor": "white",
             "startlinecolor": "#2a3f5f"
            },
            "type": "carpet"
           }
          ],
          "choropleth": [
           {
            "colorbar": {
             "outlinewidth": 0,
             "ticks": ""
            },
            "type": "choropleth"
           }
          ],
          "contour": [
           {
            "colorbar": {
             "outlinewidth": 0,
             "ticks": ""
            },
            "colorscale": [
             [
              0,
              "#0d0887"
             ],
             [
              0.1111111111111111,
              "#46039f"
             ],
             [
              0.2222222222222222,
              "#7201a8"
             ],
             [
              0.3333333333333333,
              "#9c179e"
             ],
             [
              0.4444444444444444,
              "#bd3786"
             ],
             [
              0.5555555555555556,
              "#d8576b"
             ],
             [
              0.6666666666666666,
              "#ed7953"
             ],
             [
              0.7777777777777778,
              "#fb9f3a"
             ],
             [
              0.8888888888888888,
              "#fdca26"
             ],
             [
              1,
              "#f0f921"
             ]
            ],
            "type": "contour"
           }
          ],
          "contourcarpet": [
           {
            "colorbar": {
             "outlinewidth": 0,
             "ticks": ""
            },
            "type": "contourcarpet"
           }
          ],
          "heatmap": [
           {
            "colorbar": {
             "outlinewidth": 0,
             "ticks": ""
            },
            "colorscale": [
             [
              0,
              "#0d0887"
             ],
             [
              0.1111111111111111,
              "#46039f"
             ],
             [
              0.2222222222222222,
              "#7201a8"
             ],
             [
              0.3333333333333333,
              "#9c179e"
             ],
             [
              0.4444444444444444,
              "#bd3786"
             ],
             [
              0.5555555555555556,
              "#d8576b"
             ],
             [
              0.6666666666666666,
              "#ed7953"
             ],
             [
              0.7777777777777778,
              "#fb9f3a"
             ],
             [
              0.8888888888888888,
              "#fdca26"
             ],
             [
              1,
              "#f0f921"
             ]
            ],
            "type": "heatmap"
           }
          ],
          "heatmapgl": [
           {
            "colorbar": {
             "outlinewidth": 0,
             "ticks": ""
            },
            "colorscale": [
             [
              0,
              "#0d0887"
             ],
             [
              0.1111111111111111,
              "#46039f"
             ],
             [
              0.2222222222222222,
              "#7201a8"
             ],
             [
              0.3333333333333333,
              "#9c179e"
             ],
             [
              0.4444444444444444,
              "#bd3786"
             ],
             [
              0.5555555555555556,
              "#d8576b"
             ],
             [
              0.6666666666666666,
              "#ed7953"
             ],
             [
              0.7777777777777778,
              "#fb9f3a"
             ],
             [
              0.8888888888888888,
              "#fdca26"
             ],
             [
              1,
              "#f0f921"
             ]
            ],
            "type": "heatmapgl"
           }
          ],
          "histogram": [
           {
            "marker": {
             "pattern": {
              "fillmode": "overlay",
              "size": 10,
              "solidity": 0.2
             }
            },
            "type": "histogram"
           }
          ],
          "histogram2d": [
           {
            "colorbar": {
             "outlinewidth": 0,
             "ticks": ""
            },
            "colorscale": [
             [
              0,
              "#0d0887"
             ],
             [
              0.1111111111111111,
              "#46039f"
             ],
             [
              0.2222222222222222,
              "#7201a8"
             ],
             [
              0.3333333333333333,
              "#9c179e"
             ],
             [
              0.4444444444444444,
              "#bd3786"
             ],
             [
              0.5555555555555556,
              "#d8576b"
             ],
             [
              0.6666666666666666,
              "#ed7953"
             ],
             [
              0.7777777777777778,
              "#fb9f3a"
             ],
             [
              0.8888888888888888,
              "#fdca26"
             ],
             [
              1,
              "#f0f921"
             ]
            ],
            "type": "histogram2d"
           }
          ],
          "histogram2dcontour": [
           {
            "colorbar": {
             "outlinewidth": 0,
             "ticks": ""
            },
            "colorscale": [
             [
              0,
              "#0d0887"
             ],
             [
              0.1111111111111111,
              "#46039f"
             ],
             [
              0.2222222222222222,
              "#7201a8"
             ],
             [
              0.3333333333333333,
              "#9c179e"
             ],
             [
              0.4444444444444444,
              "#bd3786"
             ],
             [
              0.5555555555555556,
              "#d8576b"
             ],
             [
              0.6666666666666666,
              "#ed7953"
             ],
             [
              0.7777777777777778,
              "#fb9f3a"
             ],
             [
              0.8888888888888888,
              "#fdca26"
             ],
             [
              1,
              "#f0f921"
             ]
            ],
            "type": "histogram2dcontour"
           }
          ],
          "mesh3d": [
           {
            "colorbar": {
             "outlinewidth": 0,
             "ticks": ""
            },
            "type": "mesh3d"
           }
          ],
          "parcoords": [
           {
            "line": {
             "colorbar": {
              "outlinewidth": 0,
              "ticks": ""
             }
            },
            "type": "parcoords"
           }
          ],
          "pie": [
           {
            "automargin": true,
            "type": "pie"
           }
          ],
          "scatter": [
           {
            "fillpattern": {
             "fillmode": "overlay",
             "size": 10,
             "solidity": 0.2
            },
            "type": "scatter"
           }
          ],
          "scatter3d": [
           {
            "line": {
             "colorbar": {
              "outlinewidth": 0,
              "ticks": ""
             }
            },
            "marker": {
             "colorbar": {
              "outlinewidth": 0,
              "ticks": ""
             }
            },
            "type": "scatter3d"
           }
          ],
          "scattercarpet": [
           {
            "marker": {
             "colorbar": {
              "outlinewidth": 0,
              "ticks": ""
             }
            },
            "type": "scattercarpet"
           }
          ],
          "scattergeo": [
           {
            "marker": {
             "colorbar": {
              "outlinewidth": 0,
              "ticks": ""
             }
            },
            "type": "scattergeo"
           }
          ],
          "scattergl": [
           {
            "marker": {
             "colorbar": {
              "outlinewidth": 0,
              "ticks": ""
             }
            },
            "type": "scattergl"
           }
          ],
          "scattermapbox": [
           {
            "marker": {
             "colorbar": {
              "outlinewidth": 0,
              "ticks": ""
             }
            },
            "type": "scattermapbox"
           }
          ],
          "scatterpolar": [
           {
            "marker": {
             "colorbar": {
              "outlinewidth": 0,
              "ticks": ""
             }
            },
            "type": "scatterpolar"
           }
          ],
          "scatterpolargl": [
           {
            "marker": {
             "colorbar": {
              "outlinewidth": 0,
              "ticks": ""
             }
            },
            "type": "scatterpolargl"
           }
          ],
          "scatterternary": [
           {
            "marker": {
             "colorbar": {
              "outlinewidth": 0,
              "ticks": ""
             }
            },
            "type": "scatterternary"
           }
          ],
          "surface": [
           {
            "colorbar": {
             "outlinewidth": 0,
             "ticks": ""
            },
            "colorscale": [
             [
              0,
              "#0d0887"
             ],
             [
              0.1111111111111111,
              "#46039f"
             ],
             [
              0.2222222222222222,
              "#7201a8"
             ],
             [
              0.3333333333333333,
              "#9c179e"
             ],
             [
              0.4444444444444444,
              "#bd3786"
             ],
             [
              0.5555555555555556,
              "#d8576b"
             ],
             [
              0.6666666666666666,
              "#ed7953"
             ],
             [
              0.7777777777777778,
              "#fb9f3a"
             ],
             [
              0.8888888888888888,
              "#fdca26"
             ],
             [
              1,
              "#f0f921"
             ]
            ],
            "type": "surface"
           }
          ],
          "table": [
           {
            "cells": {
             "fill": {
              "color": "#EBF0F8"
             },
             "line": {
              "color": "white"
             }
            },
            "header": {
             "fill": {
              "color": "#C8D4E3"
             },
             "line": {
              "color": "white"
             }
            },
            "type": "table"
           }
          ]
         },
         "layout": {
          "annotationdefaults": {
           "arrowcolor": "#2a3f5f",
           "arrowhead": 0,
           "arrowwidth": 1
          },
          "autotypenumbers": "strict",
          "coloraxis": {
           "colorbar": {
            "outlinewidth": 0,
            "ticks": ""
           }
          },
          "colorscale": {
           "diverging": [
            [
             0,
             "#8e0152"
            ],
            [
             0.1,
             "#c51b7d"
            ],
            [
             0.2,
             "#de77ae"
            ],
            [
             0.3,
             "#f1b6da"
            ],
            [
             0.4,
             "#fde0ef"
            ],
            [
             0.5,
             "#f7f7f7"
            ],
            [
             0.6,
             "#e6f5d0"
            ],
            [
             0.7,
             "#b8e186"
            ],
            [
             0.8,
             "#7fbc41"
            ],
            [
             0.9,
             "#4d9221"
            ],
            [
             1,
             "#276419"
            ]
           ],
           "sequential": [
            [
             0,
             "#0d0887"
            ],
            [
             0.1111111111111111,
             "#46039f"
            ],
            [
             0.2222222222222222,
             "#7201a8"
            ],
            [
             0.3333333333333333,
             "#9c179e"
            ],
            [
             0.4444444444444444,
             "#bd3786"
            ],
            [
             0.5555555555555556,
             "#d8576b"
            ],
            [
             0.6666666666666666,
             "#ed7953"
            ],
            [
             0.7777777777777778,
             "#fb9f3a"
            ],
            [
             0.8888888888888888,
             "#fdca26"
            ],
            [
             1,
             "#f0f921"
            ]
           ],
           "sequentialminus": [
            [
             0,
             "#0d0887"
            ],
            [
             0.1111111111111111,
             "#46039f"
            ],
            [
             0.2222222222222222,
             "#7201a8"
            ],
            [
             0.3333333333333333,
             "#9c179e"
            ],
            [
             0.4444444444444444,
             "#bd3786"
            ],
            [
             0.5555555555555556,
             "#d8576b"
            ],
            [
             0.6666666666666666,
             "#ed7953"
            ],
            [
             0.7777777777777778,
             "#fb9f3a"
            ],
            [
             0.8888888888888888,
             "#fdca26"
            ],
            [
             1,
             "#f0f921"
            ]
           ]
          },
          "colorway": [
           "#636efa",
           "#EF553B",
           "#00cc96",
           "#ab63fa",
           "#FFA15A",
           "#19d3f3",
           "#FF6692",
           "#B6E880",
           "#FF97FF",
           "#FECB52"
          ],
          "font": {
           "color": "#2a3f5f"
          },
          "geo": {
           "bgcolor": "white",
           "lakecolor": "white",
           "landcolor": "#E5ECF6",
           "showlakes": true,
           "showland": true,
           "subunitcolor": "white"
          },
          "hoverlabel": {
           "align": "left"
          },
          "hovermode": "closest",
          "mapbox": {
           "style": "light"
          },
          "paper_bgcolor": "white",
          "plot_bgcolor": "#E5ECF6",
          "polar": {
           "angularaxis": {
            "gridcolor": "white",
            "linecolor": "white",
            "ticks": ""
           },
           "bgcolor": "#E5ECF6",
           "radialaxis": {
            "gridcolor": "white",
            "linecolor": "white",
            "ticks": ""
           }
          },
          "scene": {
           "xaxis": {
            "backgroundcolor": "#E5ECF6",
            "gridcolor": "white",
            "gridwidth": 2,
            "linecolor": "white",
            "showbackground": true,
            "ticks": "",
            "zerolinecolor": "white"
           },
           "yaxis": {
            "backgroundcolor": "#E5ECF6",
            "gridcolor": "white",
            "gridwidth": 2,
            "linecolor": "white",
            "showbackground": true,
            "ticks": "",
            "zerolinecolor": "white"
           },
           "zaxis": {
            "backgroundcolor": "#E5ECF6",
            "gridcolor": "white",
            "gridwidth": 2,
            "linecolor": "white",
            "showbackground": true,
            "ticks": "",
            "zerolinecolor": "white"
           }
          },
          "shapedefaults": {
           "line": {
            "color": "#2a3f5f"
           }
          },
          "ternary": {
           "aaxis": {
            "gridcolor": "white",
            "linecolor": "white",
            "ticks": ""
           },
           "baxis": {
            "gridcolor": "white",
            "linecolor": "white",
            "ticks": ""
           },
           "bgcolor": "#E5ECF6",
           "caxis": {
            "gridcolor": "white",
            "linecolor": "white",
            "ticks": ""
           }
          },
          "title": {
           "x": 0.05
          },
          "xaxis": {
           "automargin": true,
           "gridcolor": "white",
           "linecolor": "white",
           "ticks": "",
           "title": {
            "standoff": 15
           },
           "zerolinecolor": "white",
           "zerolinewidth": 2
          },
          "yaxis": {
           "automargin": true,
           "gridcolor": "white",
           "linecolor": "white",
           "ticks": "",
           "title": {
            "standoff": 15
           },
           "zerolinecolor": "white",
           "zerolinewidth": 2
          }
         }
        },
        "title": {
         "text": "Happiness Scores by Country in 2022"
        }
       }
      },
      "text/html": [
       "<div>                            <div id=\"e2b7c5e4-6f29-4d1a-ac20-825d0ee9446b\" class=\"plotly-graph-div\" style=\"height:525px; width:100%;\"></div>            <script type=\"text/javascript\">                require([\"plotly\"], function(Plotly) {                    window.PLOTLYENV=window.PLOTLYENV || {};                                    if (document.getElementById(\"e2b7c5e4-6f29-4d1a-ac20-825d0ee9446b\")) {                    Plotly.newPlot(                        \"e2b7c5e4-6f29-4d1a-ac20-825d0ee9446b\",                        [{\"coloraxis\":\"coloraxis\",\"geo\":\"geo\",\"hovertemplate\":\"<b>%{hovertext}</b><br><br>Country Code=%{location}<br>2022=%{z}<extra></extra>\",\"hovertext\":[\"Finland\",\"Denmark\",\"Iceland\",\"Switzerland\",\"Netherlands\",\"Luxembourg\",\"Sweden\",\"Norway\",\"Israel\",\"New Zealand\",\"Austria\",\"Australia\",\"Ireland\",\"Germany\",\"Canada\",\"United States\",\"United Kingdom\",\"Czechia\",\"Belgium\",\"France\",\"Bahrain\",\"Slovenia\",\"Costa Rica\",\"United Arab Emirates\",\"Saudi Arabia\",\"Taiwan Province of China\",\"Singapore\",\"Romania\",\"Spain\",\"Uruguay\",\"Italy\",\"Kosovo\",\"Malta\",\"Lithuania\",\"Slovakia\",\"Estonia\",\"Panama\",\"Brazil\",\"Guatemala\",\"Kazakhstan\",\"Cyprus\",\"Latvia\",\"Serbia\",\"Chile\",\"Nicaragua\",\"Mexico\",\"Croatia\",\"Poland\",\"El Salvador\",\"Kuwait\",\"Hungary\",\"Mauritius\",\"Uzbekistan\",\"Japan\",\"Honduras\",\"Portugal\",\"Argentina\",\"Greece\",\"South Korea\",\"Philippines\",\"Thailand\",\"Moldova\",\"Jamaica\",\"Kyrgyzstan\",\"Belarus\",\"Colombia\",\"Bosnia and Herzegovina\",\"Mongolia\",\"Dominican Republic\",\"Malaysia\",\"Bolivia\",\"China\",\"Paraguay\",\"Peru\",\"Montenegro\",\"Ecuador\",\"Vietnam\",\"Turkmenistan\",\"North Cyprus\",\"Russia\",\"Hong Kong S.A.R. of China\",\"Armenia\",\"Tajikistan\",\"Nepal\",\"Bulgaria\",\"Libya\",\"Indonesia\",\"Ivory Coast\",\"North Macedonia\",\"Albania\",\"South Africa\",\"Azerbaijan\",\"Gambia\",\"Bangladesh\",\"Laos\",\"Algeria\",\"Liberia\",\"Ukraine\",\"Congo\",\"Morocco\",\"Mozambique\",\"Cameroon\",\"Senegal\",\"Niger\",\"Georgia\",\"Gabon\",\"Iraq\",\"Venezuela\",\"Guinea\",\"Iran\",\"Ghana\",\"Turkey\",\"Burkina Faso\",\"Cambodia\",\"Benin\",\"Comoros\",\"Uganda\",\"Nigeria\",\"Kenya\",\"Tunisia\",\"Pakistan\",\"Palestinian Territories\",\"Mali\",\"Namibia\",\"Eswatini, Kingdom of\",\"Myanmar\",\"Sri Lanka\",\"Madagascar\",\"Egypt\",\"Chad\",\"Ethiopia\",\"Yemen\",\"Mauritania\",\"Jordan\",\"Togo\",\"India\",\"Zambia\",\"Malawi\",\"Tanzania\",\"Sierra Leone\",\"Lesotho\",\"Botswana\",\"Rwanda\",\"Zimbabwe\",\"Lebanon\",\"Afghanistan\"],\"locationmode\":\"ISO-3\",\"locations\":[\"FIN\",\"DNK\",\"ISL\",\"CHE\",\"NLD\",\"LUX\",\"SWE\",\"NOR\",\"ISR\",\"NZL\",\"AUT\",\"AUS\",\"IRL\",\"DEU\",\"CAN\",\"USA\",\"GBR\",\"CZE\",\"BEL\",\"FRA\",\"BHR\",\"SVN\",\"CRI\",\"ARE\",\"SAU\",\"TWN\",\"SGP\",\"ROU\",\"ESP\",\"URY\",\"ITA\",null,\"MLT\",\"LTU\",\"SVK\",\"EST\",\"PAN\",\"BRA\",\"GTM\",\"KAZ\",\"CYP\",\"LVA\",\"SRB\",\"CHL\",\"NIC\",\"MEX\",\"HRV\",\"POL\",\"SLV\",\"KWT\",\"HUN\",\"MUS\",\"UZB\",\"JPN\",\"HND\",\"PRT\",\"ARG\",\"GRC\",\"KOR\",\"PHL\",\"THA\",null,\"JAM\",\"KGZ\",\"BLR\",\"COL\",\"BIH\",\"MNG\",\"DOM\",\"MYS\",\"BOL\",\"CHN\",\"PRY\",\"PER\",\"MNE\",\"ECU\",\"VNM\",\"TKM\",\"CYP\",\"RUS\",\"HKG\",\"ARM\",\"TJK\",\"NPL\",\"BGR\",\"LBY\",\"IDN\",\"CIV\",\"MKD\",\"ALB\",\"ZAF\",\"AZE\",\"GMB\",\"BGD\",\"LAO\",\"DZA\",\"LBR\",\"UKR\",\"COG\",\"MAR\",\"MOZ\",\"CMR\",\"SEN\",\"NER\",\"GEO\",\"GAB\",\"IRQ\",\"VEN\",\"GIN\",\"IRN\",\"GHA\",\"TUR\",\"BFA\",\"KHM\",\"BEN\",\"COM\",\"UGA\",\"NGA\",\"KEN\",\"TUN\",\"PAK\",null,\"MLI\",\"NAM\",null,\"MMR\",\"LKA\",\"MDG\",\"EGY\",\"TCD\",\"ETH\",\"YEM\",\"MRT\",\"JOR\",\"TGO\",\"IND\",\"ZMB\",\"MWI\",\"TZA\",\"SLE\",\"LSO\",\"BWA\",\"RWA\",\"ZWE\",\"LBN\",\"AFG\"],\"name\":\"\",\"z\":[7.821,7.636,7.557,7.512,7.415,7.404,7.384,7.365,7.364,7.2,7.163,7.162,7.041,7.034,7.025,6.977,6.943,6.92,6.805,6.687,6.647,6.63,6.582,6.576,6.523,6.512,6.48,6.477,6.476,6.474,6.467,6.455,6.447,6.446,6.391,6.341,6.309,6.293,6.262,6.234,6.221,6.18,6.178,6.172,6.165,6.128,6.125,6.123,6.12,6.106,6.086,6.071,6.063,6.039,6.022,6.016,5.967,5.948,5.935,5.904,5.891,5.857,5.85,5.828,5.821,5.781,5.768,5.761,5.737,5.711,5.6,5.585,5.578,5.559,5.547,5.533,5.485,5.474,5.467,5.459,5.425,5.399,5.377,5.377,5.371,5.33,5.24,5.235,5.199,5.199,5.194,5.173,5.164,5.155,5.14,5.122,5.122,5.084,5.075,5.06,5.048,5.048,5.046,5.003,4.973,4.958,4.941,4.925,4.891,4.888,4.872,4.744,4.67,4.64,4.623,4.609,4.603,4.552,4.543,4.516,4.516,4.483,4.479,4.459,4.396,4.394,4.362,4.339,4.288,4.251,4.241,4.197,4.153,4.152,4.112,3.777,3.76,3.75,3.702,3.574,3.512,3.471,3.268,2.995,2.955,2.404],\"type\":\"choropleth\"}],                        {\"template\":{\"data\":{\"histogram2dcontour\":[{\"type\":\"histogram2dcontour\",\"colorbar\":{\"outlinewidth\":0,\"ticks\":\"\"},\"colorscale\":[[0.0,\"#0d0887\"],[0.1111111111111111,\"#46039f\"],[0.2222222222222222,\"#7201a8\"],[0.3333333333333333,\"#9c179e\"],[0.4444444444444444,\"#bd3786\"],[0.5555555555555556,\"#d8576b\"],[0.6666666666666666,\"#ed7953\"],[0.7777777777777778,\"#fb9f3a\"],[0.8888888888888888,\"#fdca26\"],[1.0,\"#f0f921\"]]}],\"choropleth\":[{\"type\":\"choropleth\",\"colorbar\":{\"outlinewidth\":0,\"ticks\":\"\"}}],\"histogram2d\":[{\"type\":\"histogram2d\",\"colorbar\":{\"outlinewidth\":0,\"ticks\":\"\"},\"colorscale\":[[0.0,\"#0d0887\"],[0.1111111111111111,\"#46039f\"],[0.2222222222222222,\"#7201a8\"],[0.3333333333333333,\"#9c179e\"],[0.4444444444444444,\"#bd3786\"],[0.5555555555555556,\"#d8576b\"],[0.6666666666666666,\"#ed7953\"],[0.7777777777777778,\"#fb9f3a\"],[0.8888888888888888,\"#fdca26\"],[1.0,\"#f0f921\"]]}],\"heatmap\":[{\"type\":\"heatmap\",\"colorbar\":{\"outlinewidth\":0,\"ticks\":\"\"},\"colorscale\":[[0.0,\"#0d0887\"],[0.1111111111111111,\"#46039f\"],[0.2222222222222222,\"#7201a8\"],[0.3333333333333333,\"#9c179e\"],[0.4444444444444444,\"#bd3786\"],[0.5555555555555556,\"#d8576b\"],[0.6666666666666666,\"#ed7953\"],[0.7777777777777778,\"#fb9f3a\"],[0.8888888888888888,\"#fdca26\"],[1.0,\"#f0f921\"]]}],\"heatmapgl\":[{\"type\":\"heatmapgl\",\"colorbar\":{\"outlinewidth\":0,\"ticks\":\"\"},\"colorscale\":[[0.0,\"#0d0887\"],[0.1111111111111111,\"#46039f\"],[0.2222222222222222,\"#7201a8\"],[0.3333333333333333,\"#9c179e\"],[0.4444444444444444,\"#bd3786\"],[0.5555555555555556,\"#d8576b\"],[0.6666666666666666,\"#ed7953\"],[0.7777777777777778,\"#fb9f3a\"],[0.8888888888888888,\"#fdca26\"],[1.0,\"#f0f921\"]]}],\"contourcarpet\":[{\"type\":\"contourcarpet\",\"colorbar\":{\"outlinewidth\":0,\"ticks\":\"\"}}],\"contour\":[{\"type\":\"contour\",\"colorbar\":{\"outlinewidth\":0,\"ticks\":\"\"},\"colorscale\":[[0.0,\"#0d0887\"],[0.1111111111111111,\"#46039f\"],[0.2222222222222222,\"#7201a8\"],[0.3333333333333333,\"#9c179e\"],[0.4444444444444444,\"#bd3786\"],[0.5555555555555556,\"#d8576b\"],[0.6666666666666666,\"#ed7953\"],[0.7777777777777778,\"#fb9f3a\"],[0.8888888888888888,\"#fdca26\"],[1.0,\"#f0f921\"]]}],\"surface\":[{\"type\":\"surface\",\"colorbar\":{\"outlinewidth\":0,\"ticks\":\"\"},\"colorscale\":[[0.0,\"#0d0887\"],[0.1111111111111111,\"#46039f\"],[0.2222222222222222,\"#7201a8\"],[0.3333333333333333,\"#9c179e\"],[0.4444444444444444,\"#bd3786\"],[0.5555555555555556,\"#d8576b\"],[0.6666666666666666,\"#ed7953\"],[0.7777777777777778,\"#fb9f3a\"],[0.8888888888888888,\"#fdca26\"],[1.0,\"#f0f921\"]]}],\"mesh3d\":[{\"type\":\"mesh3d\",\"colorbar\":{\"outlinewidth\":0,\"ticks\":\"\"}}],\"scatter\":[{\"fillpattern\":{\"fillmode\":\"overlay\",\"size\":10,\"solidity\":0.2},\"type\":\"scatter\"}],\"parcoords\":[{\"type\":\"parcoords\",\"line\":{\"colorbar\":{\"outlinewidth\":0,\"ticks\":\"\"}}}],\"scatterpolargl\":[{\"type\":\"scatterpolargl\",\"marker\":{\"colorbar\":{\"outlinewidth\":0,\"ticks\":\"\"}}}],\"bar\":[{\"error_x\":{\"color\":\"#2a3f5f\"},\"error_y\":{\"color\":\"#2a3f5f\"},\"marker\":{\"line\":{\"color\":\"#E5ECF6\",\"width\":0.5},\"pattern\":{\"fillmode\":\"overlay\",\"size\":10,\"solidity\":0.2}},\"type\":\"bar\"}],\"scattergeo\":[{\"type\":\"scattergeo\",\"marker\":{\"colorbar\":{\"outlinewidth\":0,\"ticks\":\"\"}}}],\"scatterpolar\":[{\"type\":\"scatterpolar\",\"marker\":{\"colorbar\":{\"outlinewidth\":0,\"ticks\":\"\"}}}],\"histogram\":[{\"marker\":{\"pattern\":{\"fillmode\":\"overlay\",\"size\":10,\"solidity\":0.2}},\"type\":\"histogram\"}],\"scattergl\":[{\"type\":\"scattergl\",\"marker\":{\"colorbar\":{\"outlinewidth\":0,\"ticks\":\"\"}}}],\"scatter3d\":[{\"type\":\"scatter3d\",\"line\":{\"colorbar\":{\"outlinewidth\":0,\"ticks\":\"\"}},\"marker\":{\"colorbar\":{\"outlinewidth\":0,\"ticks\":\"\"}}}],\"scattermapbox\":[{\"type\":\"scattermapbox\",\"marker\":{\"colorbar\":{\"outlinewidth\":0,\"ticks\":\"\"}}}],\"scatterternary\":[{\"type\":\"scatterternary\",\"marker\":{\"colorbar\":{\"outlinewidth\":0,\"ticks\":\"\"}}}],\"scattercarpet\":[{\"type\":\"scattercarpet\",\"marker\":{\"colorbar\":{\"outlinewidth\":0,\"ticks\":\"\"}}}],\"carpet\":[{\"aaxis\":{\"endlinecolor\":\"#2a3f5f\",\"gridcolor\":\"white\",\"linecolor\":\"white\",\"minorgridcolor\":\"white\",\"startlinecolor\":\"#2a3f5f\"},\"baxis\":{\"endlinecolor\":\"#2a3f5f\",\"gridcolor\":\"white\",\"linecolor\":\"white\",\"minorgridcolor\":\"white\",\"startlinecolor\":\"#2a3f5f\"},\"type\":\"carpet\"}],\"table\":[{\"cells\":{\"fill\":{\"color\":\"#EBF0F8\"},\"line\":{\"color\":\"white\"}},\"header\":{\"fill\":{\"color\":\"#C8D4E3\"},\"line\":{\"color\":\"white\"}},\"type\":\"table\"}],\"barpolar\":[{\"marker\":{\"line\":{\"color\":\"#E5ECF6\",\"width\":0.5},\"pattern\":{\"fillmode\":\"overlay\",\"size\":10,\"solidity\":0.2}},\"type\":\"barpolar\"}],\"pie\":[{\"automargin\":true,\"type\":\"pie\"}]},\"layout\":{\"autotypenumbers\":\"strict\",\"colorway\":[\"#636efa\",\"#EF553B\",\"#00cc96\",\"#ab63fa\",\"#FFA15A\",\"#19d3f3\",\"#FF6692\",\"#B6E880\",\"#FF97FF\",\"#FECB52\"],\"font\":{\"color\":\"#2a3f5f\"},\"hovermode\":\"closest\",\"hoverlabel\":{\"align\":\"left\"},\"paper_bgcolor\":\"white\",\"plot_bgcolor\":\"#E5ECF6\",\"polar\":{\"bgcolor\":\"#E5ECF6\",\"angularaxis\":{\"gridcolor\":\"white\",\"linecolor\":\"white\",\"ticks\":\"\"},\"radialaxis\":{\"gridcolor\":\"white\",\"linecolor\":\"white\",\"ticks\":\"\"}},\"ternary\":{\"bgcolor\":\"#E5ECF6\",\"aaxis\":{\"gridcolor\":\"white\",\"linecolor\":\"white\",\"ticks\":\"\"},\"baxis\":{\"gridcolor\":\"white\",\"linecolor\":\"white\",\"ticks\":\"\"},\"caxis\":{\"gridcolor\":\"white\",\"linecolor\":\"white\",\"ticks\":\"\"}},\"coloraxis\":{\"colorbar\":{\"outlinewidth\":0,\"ticks\":\"\"}},\"colorscale\":{\"sequential\":[[0.0,\"#0d0887\"],[0.1111111111111111,\"#46039f\"],[0.2222222222222222,\"#7201a8\"],[0.3333333333333333,\"#9c179e\"],[0.4444444444444444,\"#bd3786\"],[0.5555555555555556,\"#d8576b\"],[0.6666666666666666,\"#ed7953\"],[0.7777777777777778,\"#fb9f3a\"],[0.8888888888888888,\"#fdca26\"],[1.0,\"#f0f921\"]],\"sequentialminus\":[[0.0,\"#0d0887\"],[0.1111111111111111,\"#46039f\"],[0.2222222222222222,\"#7201a8\"],[0.3333333333333333,\"#9c179e\"],[0.4444444444444444,\"#bd3786\"],[0.5555555555555556,\"#d8576b\"],[0.6666666666666666,\"#ed7953\"],[0.7777777777777778,\"#fb9f3a\"],[0.8888888888888888,\"#fdca26\"],[1.0,\"#f0f921\"]],\"diverging\":[[0,\"#8e0152\"],[0.1,\"#c51b7d\"],[0.2,\"#de77ae\"],[0.3,\"#f1b6da\"],[0.4,\"#fde0ef\"],[0.5,\"#f7f7f7\"],[0.6,\"#e6f5d0\"],[0.7,\"#b8e186\"],[0.8,\"#7fbc41\"],[0.9,\"#4d9221\"],[1,\"#276419\"]]},\"xaxis\":{\"gridcolor\":\"white\",\"linecolor\":\"white\",\"ticks\":\"\",\"title\":{\"standoff\":15},\"zerolinecolor\":\"white\",\"automargin\":true,\"zerolinewidth\":2},\"yaxis\":{\"gridcolor\":\"white\",\"linecolor\":\"white\",\"ticks\":\"\",\"title\":{\"standoff\":15},\"zerolinecolor\":\"white\",\"automargin\":true,\"zerolinewidth\":2},\"scene\":{\"xaxis\":{\"backgroundcolor\":\"#E5ECF6\",\"gridcolor\":\"white\",\"linecolor\":\"white\",\"showbackground\":true,\"ticks\":\"\",\"zerolinecolor\":\"white\",\"gridwidth\":2},\"yaxis\":{\"backgroundcolor\":\"#E5ECF6\",\"gridcolor\":\"white\",\"linecolor\":\"white\",\"showbackground\":true,\"ticks\":\"\",\"zerolinecolor\":\"white\",\"gridwidth\":2},\"zaxis\":{\"backgroundcolor\":\"#E5ECF6\",\"gridcolor\":\"white\",\"linecolor\":\"white\",\"showbackground\":true,\"ticks\":\"\",\"zerolinecolor\":\"white\",\"gridwidth\":2}},\"shapedefaults\":{\"line\":{\"color\":\"#2a3f5f\"}},\"annotationdefaults\":{\"arrowcolor\":\"#2a3f5f\",\"arrowhead\":0,\"arrowwidth\":1},\"geo\":{\"bgcolor\":\"white\",\"landcolor\":\"#E5ECF6\",\"subunitcolor\":\"white\",\"showland\":true,\"showlakes\":true,\"lakecolor\":\"white\"},\"title\":{\"x\":0.05},\"mapbox\":{\"style\":\"light\"}}},\"geo\":{\"domain\":{\"x\":[0.0,1.0],\"y\":[0.0,1.0]},\"center\":{}},\"coloraxis\":{\"colorbar\":{\"title\":{\"text\":\"2022\"}},\"colorscale\":[[0.0,\"#8B0000\"],[0.3333333333333333,\"#FF4500\"],[0.6666666666666666,\"#FFA500\"],[1.0,\"#FFFF00\"]]},\"legend\":{\"tracegroupgap\":0},\"title\":{\"text\":\"Happiness Scores by Country in 2022\"}},                        {\"responsive\": true}                    ).then(function(){\n",
       "                            \n",
       "var gd = document.getElementById('e2b7c5e4-6f29-4d1a-ac20-825d0ee9446b');\n",
       "var x = new MutationObserver(function (mutations, observer) {{\n",
       "        var display = window.getComputedStyle(gd).display;\n",
       "        if (!display || display === 'none') {{\n",
       "            console.log([gd, 'removed!']);\n",
       "            Plotly.purge(gd);\n",
       "            observer.disconnect();\n",
       "        }}\n",
       "}});\n",
       "\n",
       "// Listen for the removal of the full notebook cells\n",
       "var notebookContainer = gd.closest('#notebook-container');\n",
       "if (notebookContainer) {{\n",
       "    x.observe(notebookContainer, {childList: true});\n",
       "}}\n",
       "\n",
       "// Listen for the clearing of the current output cell\n",
       "var outputEl = gd.closest('.output');\n",
       "if (outputEl) {{\n",
       "    x.observe(outputEl, {childList: true});\n",
       "}}\n",
       "\n",
       "                        })                };                });            </script>        </div>"
      ]
     },
     "metadata": {},
     "output_type": "display_data"
    }
   ],
   "source": [
    "import plotly.express as px\n",
    "\n",
    "df_2022 = pivoted_happy[['Country', 'Country Code', '2022']]\n",
    "color_scale = [\"#8B0000\", \"#FF4500\", \"#FFA500\", \"#FFFF00\"]\n",
    "\n",
    "# Create a choropleth map using Plotly Express\n",
    "fig = px.choropleth(df_2022, \n",
    "                    locations='Country Code', \n",
    "                    locationmode='ISO-3',\n",
    "                    color='2022', \n",
    "                    hover_name='Country',\n",
    "                    color_continuous_scale=color_scale, \n",
    "                    title='Happiness Scores by Country in 2022')\n",
    "\n",
    "# Display the map\n",
    "fig.show()"
   ]
  },
  {
   "cell_type": "code",
   "execution_count": 19,
   "id": "faae6deb",
   "metadata": {},
   "outputs": [],
   "source": [
    "# Calculate the difference between 2022 and 2015 happiness scores\n",
    "pivoted_happy['Happiness Score Difference'] = pivoted_happy['2022'] - pivoted_happy['2019']"
   ]
  },
  {
   "cell_type": "code",
   "execution_count": 20,
   "id": "19e5e162",
   "metadata": {},
   "outputs": [],
   "source": [
    "def get_largest_9():\n",
    "    largest = pivoted_happy.nlargest(9, 'Happiness Score Difference')\n",
    "    return largest['Country'].tolist()\n",
    "    \n",
    "def get_smallest_9():\n",
    "    smallest = pivoted_happy.nsmallest(9, 'Happiness Score Difference')\n",
    "    return smallest['Country'].tolist()"
   ]
  },
  {
   "cell_type": "code",
   "execution_count": 24,
   "id": "55738883",
   "metadata": {},
   "outputs": [
    {
     "data": {
      "application/vnd.plotly.v1+json": {
       "config": {
        "plotlyServerURL": "https://plot.ly"
       },
       "data": [
        {
         "coloraxis": "coloraxis",
         "geo": "geo",
         "hovertemplate": "<b>%{hovertext}</b><br><br>Country Code=%{location}<br>Happiness Score Difference=%{z}<extra></extra>",
         "hovertext": [
          "Finland",
          "Denmark",
          "Iceland",
          "Switzerland",
          "Netherlands",
          "Luxembourg",
          "Sweden",
          "Norway",
          "Israel",
          "New Zealand",
          "Austria",
          "Australia",
          "Ireland",
          "Germany",
          "Canada",
          "United States",
          "United Kingdom",
          "Czechia",
          "Belgium",
          "France",
          "Bahrain",
          "Slovenia",
          "Costa Rica",
          "United Arab Emirates",
          "Saudi Arabia",
          "Taiwan Province of China",
          "Singapore",
          "Romania",
          "Spain",
          "Uruguay",
          "Italy",
          "Kosovo",
          "Malta",
          "Lithuania",
          "Slovakia",
          "Estonia",
          "Panama",
          "Brazil",
          "Guatemala",
          "Kazakhstan",
          "Cyprus",
          "Latvia",
          "Serbia",
          "Chile",
          "Nicaragua",
          "Mexico",
          "Croatia",
          "Poland",
          "El Salvador",
          "Kuwait",
          "Hungary",
          "Mauritius",
          "Uzbekistan",
          "Japan",
          "Honduras",
          "Portugal",
          "Argentina",
          "Greece",
          "South Korea",
          "Philippines",
          "Thailand",
          "Moldova",
          "Jamaica",
          "Kyrgyzstan",
          "Belarus",
          "Colombia",
          "Bosnia and Herzegovina",
          "Mongolia",
          "Dominican Republic",
          "Malaysia",
          "Bolivia",
          "China",
          "Paraguay",
          "Peru",
          "Montenegro",
          "Ecuador",
          "Vietnam",
          "Turkmenistan",
          "North Cyprus",
          "Russia",
          "Hong Kong S.A.R. of China",
          "Armenia",
          "Tajikistan",
          "Nepal",
          "Bulgaria",
          "Libya",
          "Indonesia",
          "Ivory Coast",
          "North Macedonia",
          "Albania",
          "South Africa",
          "Azerbaijan",
          "Gambia",
          "Bangladesh",
          "Laos",
          "Algeria",
          "Liberia",
          "Ukraine",
          "Congo",
          "Morocco",
          "Mozambique",
          "Cameroon",
          "Senegal",
          "Niger",
          "Georgia",
          "Gabon",
          "Iraq",
          "Venezuela",
          "Guinea",
          "Iran",
          "Ghana",
          "Turkey",
          "Burkina Faso",
          "Cambodia",
          "Benin",
          "Comoros",
          "Uganda",
          "Nigeria",
          "Kenya",
          "Tunisia",
          "Pakistan",
          "Palestinian Territories",
          "Mali",
          "Namibia",
          "Eswatini, Kingdom of",
          "Myanmar",
          "Sri Lanka",
          "Madagascar",
          "Egypt",
          "Chad",
          "Ethiopia",
          "Yemen",
          "Mauritania",
          "Jordan",
          "Togo",
          "India",
          "Zambia",
          "Malawi",
          "Tanzania",
          "Sierra Leone",
          "Lesotho",
          "Botswana",
          "Rwanda",
          "Zimbabwe",
          "Lebanon",
          "Afghanistan"
         ],
         "locationmode": "ISO-3",
         "locations": [
          "FIN",
          "DNK",
          "ISL",
          "CHE",
          "NLD",
          "LUX",
          "SWE",
          "NOR",
          "ISR",
          "NZL",
          "AUT",
          "AUS",
          "IRL",
          "DEU",
          "CAN",
          "USA",
          "GBR",
          "CZE",
          "BEL",
          "FRA",
          "BHR",
          "SVN",
          "CRI",
          "ARE",
          "SAU",
          "TWN",
          "SGP",
          "ROU",
          "ESP",
          "URY",
          "ITA",
          null,
          "MLT",
          "LTU",
          "SVK",
          "EST",
          "PAN",
          "BRA",
          "GTM",
          "KAZ",
          "CYP",
          "LVA",
          "SRB",
          "CHL",
          "NIC",
          "MEX",
          "HRV",
          "POL",
          "SLV",
          "KWT",
          "HUN",
          "MUS",
          "UZB",
          "JPN",
          "HND",
          "PRT",
          "ARG",
          "GRC",
          "KOR",
          "PHL",
          "THA",
          null,
          "JAM",
          "KGZ",
          "BLR",
          "COL",
          "BIH",
          "MNG",
          "DOM",
          "MYS",
          "BOL",
          "CHN",
          "PRY",
          "PER",
          "MNE",
          "ECU",
          "VNM",
          "TKM",
          "CYP",
          "RUS",
          "HKG",
          "ARM",
          "TJK",
          "NPL",
          "BGR",
          "LBY",
          "IDN",
          "CIV",
          "MKD",
          "ALB",
          "ZAF",
          "AZE",
          "GMB",
          "BGD",
          "LAO",
          "DZA",
          "LBR",
          "UKR",
          "COG",
          "MAR",
          "MOZ",
          "CMR",
          "SEN",
          "NER",
          "GEO",
          "GAB",
          "IRQ",
          "VEN",
          "GIN",
          "IRN",
          "GHA",
          "TUR",
          "BFA",
          "KHM",
          "BEN",
          "COM",
          "UGA",
          "NGA",
          "KEN",
          "TUN",
          "PAK",
          null,
          "MLI",
          "NAM",
          null,
          "MMR",
          "LKA",
          "MDG",
          "EGY",
          "TCD",
          "ETH",
          "YEM",
          "MRT",
          "JOR",
          "TGO",
          "IND",
          "ZMB",
          "MWI",
          "TZA",
          "SLE",
          "LSO",
          "BWA",
          "RWA",
          "ZWE",
          "LBN",
          "AFG"
         ],
         "name": "",
         "type": "choropleth",
         "z": [
          0.0519999999999996,
          0.036000000000000476,
          0.0030000000000001137,
          0.017999999999999794,
          -0.0730000000000004,
          -0.07600000000000051,
          0.04100000000000037,
          0.05799999999999983,
          0.0860000000000003,
          -0.04600000000000026,
          -0.0649999999999995,
          -0.004999999999999893,
          -0.09799999999999986,
          -0.05600000000000005,
          -0.028999999999999915,
          -0.043999999999999595,
          -0.0420000000000007,
          -0.0030000000000001137,
          -0.08700000000000063,
          -0.16500000000000004,
          -0.17799999999999994,
          -0.09600000000000009,
          -0.0129999999999999,
          -0.016000000000000014,
          0.07699999999999996,
          0.06799999999999962,
          0.04400000000000048,
          0.10200000000000031,
          0.10200000000000031,
          0.1200000000000001,
          0.1459999999999999,
          0.15500000000000025,
          0.15399999999999991,
          0.18400000000000016,
          0.1379999999999999,
          0.11800000000000033,
          0.11000000000000032,
          0.09499999999999975,
          0.0699999999999994,
          0.0519999999999996,
          0.04699999999999971,
          0.030999999999999694,
          0.052999999999999936,
          0.05399999999999938,
          0.05999999999999961,
          0.02800000000000047,
          0.0389999999999997,
          0.052999999999999936,
          0.07399999999999984,
          0.07800000000000029,
          0.06500000000000039,
          0.06299999999999972,
          0.12299999999999933,
          0.14400000000000013,
          0.12900000000000045,
          0.12600000000000033,
          0.07899999999999974,
          0.06200000000000028,
          0.07499999999999929,
          0.09499999999999975,
          0.1120000000000001,
          0.0990000000000002,
          0.10699999999999932,
          0.11000000000000032,
          0.12399999999999967,
          0.08800000000000008,
          0.11500000000000021,
          0.11300000000000043,
          0.10599999999999987,
          0.10800000000000054,
          0.07099999999999973,
          0.05999999999999961,
          0.055000000000000604,
          0.09200000000000053,
          0.11499999999999932,
          0.10300000000000065,
          0.0600000000000005,
          0.08800000000000008,
          0.09399999999999942,
          0.11999999999999922,
          0.10199999999999942,
          0.1120000000000001,
          0.09199999999999964,
          0.10299999999999976,
          0.10600000000000076,
          0.06899999999999995,
          -0.006999999999999673,
          0.02400000000000002,
          -0.009000000000000341,
          -0.009000000000000341,
          -0.0030000000000001137,
          -0.019000000000000128,
          -0.027000000000000135,
          -0.019999999999999574,
          0.05799999999999983,
          0.07800000000000029,
          0.11099999999999977,
          0.08799999999999919,
          0.13100000000000023,
          0.14699999999999935,
          0.14200000000000035,
          0.16500000000000004,
          0.23399999999999999,
          0.20399999999999974,
          0.1769999999999996,
          0.23599999999999977,
          0.22199999999999953,
          0.21799999999999997,
          0.19099999999999984,
          0.19200000000000017,
          0.19099999999999984,
          0.07599999999999962,
          0.030999999999999694,
          0.011999999999999567,
          0.036000000000000476,
          0.04999999999999982,
          0.054999999999999716,
          0.017999999999999794,
          0.02400000000000002,
          0,
          0.006999999999999673,
          -0.007000000000000561,
          0.0129999999999999,
          -0.002000000000000668,
          -0.0600000000000005,
          -0.04300000000000015,
          -0.05600000000000005,
          -0.05099999999999927,
          -0.08599999999999941,
          -0.11499999999999932,
          -0.11900000000000066,
          -0.15299999999999958,
          -0.17900000000000027,
          -0.13399999999999945,
          -0.09999999999999964,
          -0.4119999999999999,
          -0.4060000000000006,
          -0.3570000000000002,
          -0.383,
          -0.44099999999999984,
          -0.4630000000000001,
          -0.5019999999999998,
          -0.665,
          -0.8069999999999999,
          -0.8199999999999998,
          -1.259
         ]
        }
       ],
       "layout": {
        "coloraxis": {
         "colorbar": {
          "title": {
           "text": "Happiness Score Difference"
          }
         },
         "colorscale": [
          [
           0,
           "#8B0000"
          ],
          [
           0.5400246305418719,
           "#FF4500"
          ],
          [
           0.8479064039408867,
           "#FFA500"
          ],
          [
           1,
           "#FFFF00"
          ]
         ]
        },
        "geo": {
         "center": {},
         "domain": {
          "x": [
           0,
           1
          ],
          "y": [
           0,
           1
          ]
         }
        },
        "legend": {
         "tracegroupgap": 0
        },
        "template": {
         "data": {
          "bar": [
           {
            "error_x": {
             "color": "#2a3f5f"
            },
            "error_y": {
             "color": "#2a3f5f"
            },
            "marker": {
             "line": {
              "color": "#E5ECF6",
              "width": 0.5
             },
             "pattern": {
              "fillmode": "overlay",
              "size": 10,
              "solidity": 0.2
             }
            },
            "type": "bar"
           }
          ],
          "barpolar": [
           {
            "marker": {
             "line": {
              "color": "#E5ECF6",
              "width": 0.5
             },
             "pattern": {
              "fillmode": "overlay",
              "size": 10,
              "solidity": 0.2
             }
            },
            "type": "barpolar"
           }
          ],
          "carpet": [
           {
            "aaxis": {
             "endlinecolor": "#2a3f5f",
             "gridcolor": "white",
             "linecolor": "white",
             "minorgridcolor": "white",
             "startlinecolor": "#2a3f5f"
            },
            "baxis": {
             "endlinecolor": "#2a3f5f",
             "gridcolor": "white",
             "linecolor": "white",
             "minorgridcolor": "white",
             "startlinecolor": "#2a3f5f"
            },
            "type": "carpet"
           }
          ],
          "choropleth": [
           {
            "colorbar": {
             "outlinewidth": 0,
             "ticks": ""
            },
            "type": "choropleth"
           }
          ],
          "contour": [
           {
            "colorbar": {
             "outlinewidth": 0,
             "ticks": ""
            },
            "colorscale": [
             [
              0,
              "#0d0887"
             ],
             [
              0.1111111111111111,
              "#46039f"
             ],
             [
              0.2222222222222222,
              "#7201a8"
             ],
             [
              0.3333333333333333,
              "#9c179e"
             ],
             [
              0.4444444444444444,
              "#bd3786"
             ],
             [
              0.5555555555555556,
              "#d8576b"
             ],
             [
              0.6666666666666666,
              "#ed7953"
             ],
             [
              0.7777777777777778,
              "#fb9f3a"
             ],
             [
              0.8888888888888888,
              "#fdca26"
             ],
             [
              1,
              "#f0f921"
             ]
            ],
            "type": "contour"
           }
          ],
          "contourcarpet": [
           {
            "colorbar": {
             "outlinewidth": 0,
             "ticks": ""
            },
            "type": "contourcarpet"
           }
          ],
          "heatmap": [
           {
            "colorbar": {
             "outlinewidth": 0,
             "ticks": ""
            },
            "colorscale": [
             [
              0,
              "#0d0887"
             ],
             [
              0.1111111111111111,
              "#46039f"
             ],
             [
              0.2222222222222222,
              "#7201a8"
             ],
             [
              0.3333333333333333,
              "#9c179e"
             ],
             [
              0.4444444444444444,
              "#bd3786"
             ],
             [
              0.5555555555555556,
              "#d8576b"
             ],
             [
              0.6666666666666666,
              "#ed7953"
             ],
             [
              0.7777777777777778,
              "#fb9f3a"
             ],
             [
              0.8888888888888888,
              "#fdca26"
             ],
             [
              1,
              "#f0f921"
             ]
            ],
            "type": "heatmap"
           }
          ],
          "heatmapgl": [
           {
            "colorbar": {
             "outlinewidth": 0,
             "ticks": ""
            },
            "colorscale": [
             [
              0,
              "#0d0887"
             ],
             [
              0.1111111111111111,
              "#46039f"
             ],
             [
              0.2222222222222222,
              "#7201a8"
             ],
             [
              0.3333333333333333,
              "#9c179e"
             ],
             [
              0.4444444444444444,
              "#bd3786"
             ],
             [
              0.5555555555555556,
              "#d8576b"
             ],
             [
              0.6666666666666666,
              "#ed7953"
             ],
             [
              0.7777777777777778,
              "#fb9f3a"
             ],
             [
              0.8888888888888888,
              "#fdca26"
             ],
             [
              1,
              "#f0f921"
             ]
            ],
            "type": "heatmapgl"
           }
          ],
          "histogram": [
           {
            "marker": {
             "pattern": {
              "fillmode": "overlay",
              "size": 10,
              "solidity": 0.2
             }
            },
            "type": "histogram"
           }
          ],
          "histogram2d": [
           {
            "colorbar": {
             "outlinewidth": 0,
             "ticks": ""
            },
            "colorscale": [
             [
              0,
              "#0d0887"
             ],
             [
              0.1111111111111111,
              "#46039f"
             ],
             [
              0.2222222222222222,
              "#7201a8"
             ],
             [
              0.3333333333333333,
              "#9c179e"
             ],
             [
              0.4444444444444444,
              "#bd3786"
             ],
             [
              0.5555555555555556,
              "#d8576b"
             ],
             [
              0.6666666666666666,
              "#ed7953"
             ],
             [
              0.7777777777777778,
              "#fb9f3a"
             ],
             [
              0.8888888888888888,
              "#fdca26"
             ],
             [
              1,
              "#f0f921"
             ]
            ],
            "type": "histogram2d"
           }
          ],
          "histogram2dcontour": [
           {
            "colorbar": {
             "outlinewidth": 0,
             "ticks": ""
            },
            "colorscale": [
             [
              0,
              "#0d0887"
             ],
             [
              0.1111111111111111,
              "#46039f"
             ],
             [
              0.2222222222222222,
              "#7201a8"
             ],
             [
              0.3333333333333333,
              "#9c179e"
             ],
             [
              0.4444444444444444,
              "#bd3786"
             ],
             [
              0.5555555555555556,
              "#d8576b"
             ],
             [
              0.6666666666666666,
              "#ed7953"
             ],
             [
              0.7777777777777778,
              "#fb9f3a"
             ],
             [
              0.8888888888888888,
              "#fdca26"
             ],
             [
              1,
              "#f0f921"
             ]
            ],
            "type": "histogram2dcontour"
           }
          ],
          "mesh3d": [
           {
            "colorbar": {
             "outlinewidth": 0,
             "ticks": ""
            },
            "type": "mesh3d"
           }
          ],
          "parcoords": [
           {
            "line": {
             "colorbar": {
              "outlinewidth": 0,
              "ticks": ""
             }
            },
            "type": "parcoords"
           }
          ],
          "pie": [
           {
            "automargin": true,
            "type": "pie"
           }
          ],
          "scatter": [
           {
            "fillpattern": {
             "fillmode": "overlay",
             "size": 10,
             "solidity": 0.2
            },
            "type": "scatter"
           }
          ],
          "scatter3d": [
           {
            "line": {
             "colorbar": {
              "outlinewidth": 0,
              "ticks": ""
             }
            },
            "marker": {
             "colorbar": {
              "outlinewidth": 0,
              "ticks": ""
             }
            },
            "type": "scatter3d"
           }
          ],
          "scattercarpet": [
           {
            "marker": {
             "colorbar": {
              "outlinewidth": 0,
              "ticks": ""
             }
            },
            "type": "scattercarpet"
           }
          ],
          "scattergeo": [
           {
            "marker": {
             "colorbar": {
              "outlinewidth": 0,
              "ticks": ""
             }
            },
            "type": "scattergeo"
           }
          ],
          "scattergl": [
           {
            "marker": {
             "colorbar": {
              "outlinewidth": 0,
              "ticks": ""
             }
            },
            "type": "scattergl"
           }
          ],
          "scattermapbox": [
           {
            "marker": {
             "colorbar": {
              "outlinewidth": 0,
              "ticks": ""
             }
            },
            "type": "scattermapbox"
           }
          ],
          "scatterpolar": [
           {
            "marker": {
             "colorbar": {
              "outlinewidth": 0,
              "ticks": ""
             }
            },
            "type": "scatterpolar"
           }
          ],
          "scatterpolargl": [
           {
            "marker": {
             "colorbar": {
              "outlinewidth": 0,
              "ticks": ""
             }
            },
            "type": "scatterpolargl"
           }
          ],
          "scatterternary": [
           {
            "marker": {
             "colorbar": {
              "outlinewidth": 0,
              "ticks": ""
             }
            },
            "type": "scatterternary"
           }
          ],
          "surface": [
           {
            "colorbar": {
             "outlinewidth": 0,
             "ticks": ""
            },
            "colorscale": [
             [
              0,
              "#0d0887"
             ],
             [
              0.1111111111111111,
              "#46039f"
             ],
             [
              0.2222222222222222,
              "#7201a8"
             ],
             [
              0.3333333333333333,
              "#9c179e"
             ],
             [
              0.4444444444444444,
              "#bd3786"
             ],
             [
              0.5555555555555556,
              "#d8576b"
             ],
             [
              0.6666666666666666,
              "#ed7953"
             ],
             [
              0.7777777777777778,
              "#fb9f3a"
             ],
             [
              0.8888888888888888,
              "#fdca26"
             ],
             [
              1,
              "#f0f921"
             ]
            ],
            "type": "surface"
           }
          ],
          "table": [
           {
            "cells": {
             "fill": {
              "color": "#EBF0F8"
             },
             "line": {
              "color": "white"
             }
            },
            "header": {
             "fill": {
              "color": "#C8D4E3"
             },
             "line": {
              "color": "white"
             }
            },
            "type": "table"
           }
          ]
         },
         "layout": {
          "annotationdefaults": {
           "arrowcolor": "#2a3f5f",
           "arrowhead": 0,
           "arrowwidth": 1
          },
          "autotypenumbers": "strict",
          "coloraxis": {
           "colorbar": {
            "outlinewidth": 0,
            "ticks": ""
           }
          },
          "colorscale": {
           "diverging": [
            [
             0,
             "#8e0152"
            ],
            [
             0.1,
             "#c51b7d"
            ],
            [
             0.2,
             "#de77ae"
            ],
            [
             0.3,
             "#f1b6da"
            ],
            [
             0.4,
             "#fde0ef"
            ],
            [
             0.5,
             "#f7f7f7"
            ],
            [
             0.6,
             "#e6f5d0"
            ],
            [
             0.7,
             "#b8e186"
            ],
            [
             0.8,
             "#7fbc41"
            ],
            [
             0.9,
             "#4d9221"
            ],
            [
             1,
             "#276419"
            ]
           ],
           "sequential": [
            [
             0,
             "#0d0887"
            ],
            [
             0.1111111111111111,
             "#46039f"
            ],
            [
             0.2222222222222222,
             "#7201a8"
            ],
            [
             0.3333333333333333,
             "#9c179e"
            ],
            [
             0.4444444444444444,
             "#bd3786"
            ],
            [
             0.5555555555555556,
             "#d8576b"
            ],
            [
             0.6666666666666666,
             "#ed7953"
            ],
            [
             0.7777777777777778,
             "#fb9f3a"
            ],
            [
             0.8888888888888888,
             "#fdca26"
            ],
            [
             1,
             "#f0f921"
            ]
           ],
           "sequentialminus": [
            [
             0,
             "#0d0887"
            ],
            [
             0.1111111111111111,
             "#46039f"
            ],
            [
             0.2222222222222222,
             "#7201a8"
            ],
            [
             0.3333333333333333,
             "#9c179e"
            ],
            [
             0.4444444444444444,
             "#bd3786"
            ],
            [
             0.5555555555555556,
             "#d8576b"
            ],
            [
             0.6666666666666666,
             "#ed7953"
            ],
            [
             0.7777777777777778,
             "#fb9f3a"
            ],
            [
             0.8888888888888888,
             "#fdca26"
            ],
            [
             1,
             "#f0f921"
            ]
           ]
          },
          "colorway": [
           "#636efa",
           "#EF553B",
           "#00cc96",
           "#ab63fa",
           "#FFA15A",
           "#19d3f3",
           "#FF6692",
           "#B6E880",
           "#FF97FF",
           "#FECB52"
          ],
          "font": {
           "color": "#2a3f5f"
          },
          "geo": {
           "bgcolor": "white",
           "lakecolor": "white",
           "landcolor": "#E5ECF6",
           "showlakes": true,
           "showland": true,
           "subunitcolor": "white"
          },
          "hoverlabel": {
           "align": "left"
          },
          "hovermode": "closest",
          "mapbox": {
           "style": "light"
          },
          "paper_bgcolor": "white",
          "plot_bgcolor": "#E5ECF6",
          "polar": {
           "angularaxis": {
            "gridcolor": "white",
            "linecolor": "white",
            "ticks": ""
           },
           "bgcolor": "#E5ECF6",
           "radialaxis": {
            "gridcolor": "white",
            "linecolor": "white",
            "ticks": ""
           }
          },
          "scene": {
           "xaxis": {
            "backgroundcolor": "#E5ECF6",
            "gridcolor": "white",
            "gridwidth": 2,
            "linecolor": "white",
            "showbackground": true,
            "ticks": "",
            "zerolinecolor": "white"
           },
           "yaxis": {
            "backgroundcolor": "#E5ECF6",
            "gridcolor": "white",
            "gridwidth": 2,
            "linecolor": "white",
            "showbackground": true,
            "ticks": "",
            "zerolinecolor": "white"
           },
           "zaxis": {
            "backgroundcolor": "#E5ECF6",
            "gridcolor": "white",
            "gridwidth": 2,
            "linecolor": "white",
            "showbackground": true,
            "ticks": "",
            "zerolinecolor": "white"
           }
          },
          "shapedefaults": {
           "line": {
            "color": "#2a3f5f"
           }
          },
          "ternary": {
           "aaxis": {
            "gridcolor": "white",
            "linecolor": "white",
            "ticks": ""
           },
           "baxis": {
            "gridcolor": "white",
            "linecolor": "white",
            "ticks": ""
           },
           "bgcolor": "#E5ECF6",
           "caxis": {
            "gridcolor": "white",
            "linecolor": "white",
            "ticks": ""
           }
          },
          "title": {
           "x": 0.05
          },
          "xaxis": {
           "automargin": true,
           "gridcolor": "white",
           "linecolor": "white",
           "ticks": "",
           "title": {
            "standoff": 15
           },
           "zerolinecolor": "white",
           "zerolinewidth": 2
          },
          "yaxis": {
           "automargin": true,
           "gridcolor": "white",
           "linecolor": "white",
           "ticks": "",
           "title": {
            "standoff": 15
           },
           "zerolinecolor": "white",
           "zerolinewidth": 2
          }
         }
        },
        "title": {
         "text": "Happiness Score Difference from 2022 to 2019"
        }
       }
      },
      "text/html": [
       "<div>                            <div id=\"fedc30a2-1896-4575-af31-bc81e86e5026\" class=\"plotly-graph-div\" style=\"height:525px; width:100%;\"></div>            <script type=\"text/javascript\">                require([\"plotly\"], function(Plotly) {                    window.PLOTLYENV=window.PLOTLYENV || {};                                    if (document.getElementById(\"fedc30a2-1896-4575-af31-bc81e86e5026\")) {                    Plotly.newPlot(                        \"fedc30a2-1896-4575-af31-bc81e86e5026\",                        [{\"coloraxis\":\"coloraxis\",\"geo\":\"geo\",\"hovertemplate\":\"<b>%{hovertext}</b><br><br>Country Code=%{location}<br>Happiness Score Difference=%{z}<extra></extra>\",\"hovertext\":[\"Finland\",\"Denmark\",\"Iceland\",\"Switzerland\",\"Netherlands\",\"Luxembourg\",\"Sweden\",\"Norway\",\"Israel\",\"New Zealand\",\"Austria\",\"Australia\",\"Ireland\",\"Germany\",\"Canada\",\"United States\",\"United Kingdom\",\"Czechia\",\"Belgium\",\"France\",\"Bahrain\",\"Slovenia\",\"Costa Rica\",\"United Arab Emirates\",\"Saudi Arabia\",\"Taiwan Province of China\",\"Singapore\",\"Romania\",\"Spain\",\"Uruguay\",\"Italy\",\"Kosovo\",\"Malta\",\"Lithuania\",\"Slovakia\",\"Estonia\",\"Panama\",\"Brazil\",\"Guatemala\",\"Kazakhstan\",\"Cyprus\",\"Latvia\",\"Serbia\",\"Chile\",\"Nicaragua\",\"Mexico\",\"Croatia\",\"Poland\",\"El Salvador\",\"Kuwait\",\"Hungary\",\"Mauritius\",\"Uzbekistan\",\"Japan\",\"Honduras\",\"Portugal\",\"Argentina\",\"Greece\",\"South Korea\",\"Philippines\",\"Thailand\",\"Moldova\",\"Jamaica\",\"Kyrgyzstan\",\"Belarus\",\"Colombia\",\"Bosnia and Herzegovina\",\"Mongolia\",\"Dominican Republic\",\"Malaysia\",\"Bolivia\",\"China\",\"Paraguay\",\"Peru\",\"Montenegro\",\"Ecuador\",\"Vietnam\",\"Turkmenistan\",\"North Cyprus\",\"Russia\",\"Hong Kong S.A.R. of China\",\"Armenia\",\"Tajikistan\",\"Nepal\",\"Bulgaria\",\"Libya\",\"Indonesia\",\"Ivory Coast\",\"North Macedonia\",\"Albania\",\"South Africa\",\"Azerbaijan\",\"Gambia\",\"Bangladesh\",\"Laos\",\"Algeria\",\"Liberia\",\"Ukraine\",\"Congo\",\"Morocco\",\"Mozambique\",\"Cameroon\",\"Senegal\",\"Niger\",\"Georgia\",\"Gabon\",\"Iraq\",\"Venezuela\",\"Guinea\",\"Iran\",\"Ghana\",\"Turkey\",\"Burkina Faso\",\"Cambodia\",\"Benin\",\"Comoros\",\"Uganda\",\"Nigeria\",\"Kenya\",\"Tunisia\",\"Pakistan\",\"Palestinian Territories\",\"Mali\",\"Namibia\",\"Eswatini, Kingdom of\",\"Myanmar\",\"Sri Lanka\",\"Madagascar\",\"Egypt\",\"Chad\",\"Ethiopia\",\"Yemen\",\"Mauritania\",\"Jordan\",\"Togo\",\"India\",\"Zambia\",\"Malawi\",\"Tanzania\",\"Sierra Leone\",\"Lesotho\",\"Botswana\",\"Rwanda\",\"Zimbabwe\",\"Lebanon\",\"Afghanistan\"],\"locationmode\":\"ISO-3\",\"locations\":[\"FIN\",\"DNK\",\"ISL\",\"CHE\",\"NLD\",\"LUX\",\"SWE\",\"NOR\",\"ISR\",\"NZL\",\"AUT\",\"AUS\",\"IRL\",\"DEU\",\"CAN\",\"USA\",\"GBR\",\"CZE\",\"BEL\",\"FRA\",\"BHR\",\"SVN\",\"CRI\",\"ARE\",\"SAU\",\"TWN\",\"SGP\",\"ROU\",\"ESP\",\"URY\",\"ITA\",null,\"MLT\",\"LTU\",\"SVK\",\"EST\",\"PAN\",\"BRA\",\"GTM\",\"KAZ\",\"CYP\",\"LVA\",\"SRB\",\"CHL\",\"NIC\",\"MEX\",\"HRV\",\"POL\",\"SLV\",\"KWT\",\"HUN\",\"MUS\",\"UZB\",\"JPN\",\"HND\",\"PRT\",\"ARG\",\"GRC\",\"KOR\",\"PHL\",\"THA\",null,\"JAM\",\"KGZ\",\"BLR\",\"COL\",\"BIH\",\"MNG\",\"DOM\",\"MYS\",\"BOL\",\"CHN\",\"PRY\",\"PER\",\"MNE\",\"ECU\",\"VNM\",\"TKM\",\"CYP\",\"RUS\",\"HKG\",\"ARM\",\"TJK\",\"NPL\",\"BGR\",\"LBY\",\"IDN\",\"CIV\",\"MKD\",\"ALB\",\"ZAF\",\"AZE\",\"GMB\",\"BGD\",\"LAO\",\"DZA\",\"LBR\",\"UKR\",\"COG\",\"MAR\",\"MOZ\",\"CMR\",\"SEN\",\"NER\",\"GEO\",\"GAB\",\"IRQ\",\"VEN\",\"GIN\",\"IRN\",\"GHA\",\"TUR\",\"BFA\",\"KHM\",\"BEN\",\"COM\",\"UGA\",\"NGA\",\"KEN\",\"TUN\",\"PAK\",null,\"MLI\",\"NAM\",null,\"MMR\",\"LKA\",\"MDG\",\"EGY\",\"TCD\",\"ETH\",\"YEM\",\"MRT\",\"JOR\",\"TGO\",\"IND\",\"ZMB\",\"MWI\",\"TZA\",\"SLE\",\"LSO\",\"BWA\",\"RWA\",\"ZWE\",\"LBN\",\"AFG\"],\"name\":\"\",\"z\":[0.0519999999999996,0.036000000000000476,0.0030000000000001137,0.017999999999999794,-0.0730000000000004,-0.07600000000000051,0.04100000000000037,0.05799999999999983,0.0860000000000003,-0.04600000000000026,-0.0649999999999995,-0.004999999999999893,-0.09799999999999986,-0.05600000000000005,-0.028999999999999915,-0.043999999999999595,-0.0420000000000007,-0.0030000000000001137,-0.08700000000000063,-0.16500000000000004,-0.17799999999999994,-0.09600000000000009,-0.0129999999999999,-0.016000000000000014,0.07699999999999996,0.06799999999999962,0.04400000000000048,0.10200000000000031,0.10200000000000031,0.1200000000000001,0.1459999999999999,0.15500000000000025,0.15399999999999991,0.18400000000000016,0.1379999999999999,0.11800000000000033,0.11000000000000032,0.09499999999999975,0.0699999999999994,0.0519999999999996,0.04699999999999971,0.030999999999999694,0.052999999999999936,0.05399999999999938,0.05999999999999961,0.02800000000000047,0.0389999999999997,0.052999999999999936,0.07399999999999984,0.07800000000000029,0.06500000000000039,0.06299999999999972,0.12299999999999933,0.14400000000000013,0.12900000000000045,0.12600000000000033,0.07899999999999974,0.06200000000000028,0.07499999999999929,0.09499999999999975,0.1120000000000001,0.0990000000000002,0.10699999999999932,0.11000000000000032,0.12399999999999967,0.08800000000000008,0.11500000000000021,0.11300000000000043,0.10599999999999987,0.10800000000000054,0.07099999999999973,0.05999999999999961,0.055000000000000604,0.09200000000000053,0.11499999999999932,0.10300000000000065,0.0600000000000005,0.08800000000000008,0.09399999999999942,0.11999999999999922,0.10199999999999942,0.1120000000000001,0.09199999999999964,0.10299999999999976,0.10600000000000076,0.06899999999999995,-0.006999999999999673,0.02400000000000002,-0.009000000000000341,-0.009000000000000341,-0.0030000000000001137,-0.019000000000000128,-0.027000000000000135,-0.019999999999999574,0.05799999999999983,0.07800000000000029,0.11099999999999977,0.08799999999999919,0.13100000000000023,0.14699999999999935,0.14200000000000035,0.16500000000000004,0.23399999999999999,0.20399999999999974,0.1769999999999996,0.23599999999999977,0.22199999999999953,0.21799999999999997,0.19099999999999984,0.19200000000000017,0.19099999999999984,0.07599999999999962,0.030999999999999694,0.011999999999999567,0.036000000000000476,0.04999999999999982,0.054999999999999716,0.017999999999999794,0.02400000000000002,0.0,0.006999999999999673,-0.007000000000000561,0.0129999999999999,-0.002000000000000668,-0.0600000000000005,-0.04300000000000015,-0.05600000000000005,-0.05099999999999927,-0.08599999999999941,-0.11499999999999932,-0.11900000000000066,-0.15299999999999958,-0.17900000000000027,-0.13399999999999945,-0.09999999999999964,-0.4119999999999999,-0.4060000000000006,-0.3570000000000002,-0.383,-0.44099999999999984,-0.4630000000000001,-0.5019999999999998,-0.665,-0.8069999999999999,-0.8199999999999998,-1.259],\"type\":\"choropleth\"}],                        {\"template\":{\"data\":{\"histogram2dcontour\":[{\"type\":\"histogram2dcontour\",\"colorbar\":{\"outlinewidth\":0,\"ticks\":\"\"},\"colorscale\":[[0.0,\"#0d0887\"],[0.1111111111111111,\"#46039f\"],[0.2222222222222222,\"#7201a8\"],[0.3333333333333333,\"#9c179e\"],[0.4444444444444444,\"#bd3786\"],[0.5555555555555556,\"#d8576b\"],[0.6666666666666666,\"#ed7953\"],[0.7777777777777778,\"#fb9f3a\"],[0.8888888888888888,\"#fdca26\"],[1.0,\"#f0f921\"]]}],\"choropleth\":[{\"type\":\"choropleth\",\"colorbar\":{\"outlinewidth\":0,\"ticks\":\"\"}}],\"histogram2d\":[{\"type\":\"histogram2d\",\"colorbar\":{\"outlinewidth\":0,\"ticks\":\"\"},\"colorscale\":[[0.0,\"#0d0887\"],[0.1111111111111111,\"#46039f\"],[0.2222222222222222,\"#7201a8\"],[0.3333333333333333,\"#9c179e\"],[0.4444444444444444,\"#bd3786\"],[0.5555555555555556,\"#d8576b\"],[0.6666666666666666,\"#ed7953\"],[0.7777777777777778,\"#fb9f3a\"],[0.8888888888888888,\"#fdca26\"],[1.0,\"#f0f921\"]]}],\"heatmap\":[{\"type\":\"heatmap\",\"colorbar\":{\"outlinewidth\":0,\"ticks\":\"\"},\"colorscale\":[[0.0,\"#0d0887\"],[0.1111111111111111,\"#46039f\"],[0.2222222222222222,\"#7201a8\"],[0.3333333333333333,\"#9c179e\"],[0.4444444444444444,\"#bd3786\"],[0.5555555555555556,\"#d8576b\"],[0.6666666666666666,\"#ed7953\"],[0.7777777777777778,\"#fb9f3a\"],[0.8888888888888888,\"#fdca26\"],[1.0,\"#f0f921\"]]}],\"heatmapgl\":[{\"type\":\"heatmapgl\",\"colorbar\":{\"outlinewidth\":0,\"ticks\":\"\"},\"colorscale\":[[0.0,\"#0d0887\"],[0.1111111111111111,\"#46039f\"],[0.2222222222222222,\"#7201a8\"],[0.3333333333333333,\"#9c179e\"],[0.4444444444444444,\"#bd3786\"],[0.5555555555555556,\"#d8576b\"],[0.6666666666666666,\"#ed7953\"],[0.7777777777777778,\"#fb9f3a\"],[0.8888888888888888,\"#fdca26\"],[1.0,\"#f0f921\"]]}],\"contourcarpet\":[{\"type\":\"contourcarpet\",\"colorbar\":{\"outlinewidth\":0,\"ticks\":\"\"}}],\"contour\":[{\"type\":\"contour\",\"colorbar\":{\"outlinewidth\":0,\"ticks\":\"\"},\"colorscale\":[[0.0,\"#0d0887\"],[0.1111111111111111,\"#46039f\"],[0.2222222222222222,\"#7201a8\"],[0.3333333333333333,\"#9c179e\"],[0.4444444444444444,\"#bd3786\"],[0.5555555555555556,\"#d8576b\"],[0.6666666666666666,\"#ed7953\"],[0.7777777777777778,\"#fb9f3a\"],[0.8888888888888888,\"#fdca26\"],[1.0,\"#f0f921\"]]}],\"surface\":[{\"type\":\"surface\",\"colorbar\":{\"outlinewidth\":0,\"ticks\":\"\"},\"colorscale\":[[0.0,\"#0d0887\"],[0.1111111111111111,\"#46039f\"],[0.2222222222222222,\"#7201a8\"],[0.3333333333333333,\"#9c179e\"],[0.4444444444444444,\"#bd3786\"],[0.5555555555555556,\"#d8576b\"],[0.6666666666666666,\"#ed7953\"],[0.7777777777777778,\"#fb9f3a\"],[0.8888888888888888,\"#fdca26\"],[1.0,\"#f0f921\"]]}],\"mesh3d\":[{\"type\":\"mesh3d\",\"colorbar\":{\"outlinewidth\":0,\"ticks\":\"\"}}],\"scatter\":[{\"fillpattern\":{\"fillmode\":\"overlay\",\"size\":10,\"solidity\":0.2},\"type\":\"scatter\"}],\"parcoords\":[{\"type\":\"parcoords\",\"line\":{\"colorbar\":{\"outlinewidth\":0,\"ticks\":\"\"}}}],\"scatterpolargl\":[{\"type\":\"scatterpolargl\",\"marker\":{\"colorbar\":{\"outlinewidth\":0,\"ticks\":\"\"}}}],\"bar\":[{\"error_x\":{\"color\":\"#2a3f5f\"},\"error_y\":{\"color\":\"#2a3f5f\"},\"marker\":{\"line\":{\"color\":\"#E5ECF6\",\"width\":0.5},\"pattern\":{\"fillmode\":\"overlay\",\"size\":10,\"solidity\":0.2}},\"type\":\"bar\"}],\"scattergeo\":[{\"type\":\"scattergeo\",\"marker\":{\"colorbar\":{\"outlinewidth\":0,\"ticks\":\"\"}}}],\"scatterpolar\":[{\"type\":\"scatterpolar\",\"marker\":{\"colorbar\":{\"outlinewidth\":0,\"ticks\":\"\"}}}],\"histogram\":[{\"marker\":{\"pattern\":{\"fillmode\":\"overlay\",\"size\":10,\"solidity\":0.2}},\"type\":\"histogram\"}],\"scattergl\":[{\"type\":\"scattergl\",\"marker\":{\"colorbar\":{\"outlinewidth\":0,\"ticks\":\"\"}}}],\"scatter3d\":[{\"type\":\"scatter3d\",\"line\":{\"colorbar\":{\"outlinewidth\":0,\"ticks\":\"\"}},\"marker\":{\"colorbar\":{\"outlinewidth\":0,\"ticks\":\"\"}}}],\"scattermapbox\":[{\"type\":\"scattermapbox\",\"marker\":{\"colorbar\":{\"outlinewidth\":0,\"ticks\":\"\"}}}],\"scatterternary\":[{\"type\":\"scatterternary\",\"marker\":{\"colorbar\":{\"outlinewidth\":0,\"ticks\":\"\"}}}],\"scattercarpet\":[{\"type\":\"scattercarpet\",\"marker\":{\"colorbar\":{\"outlinewidth\":0,\"ticks\":\"\"}}}],\"carpet\":[{\"aaxis\":{\"endlinecolor\":\"#2a3f5f\",\"gridcolor\":\"white\",\"linecolor\":\"white\",\"minorgridcolor\":\"white\",\"startlinecolor\":\"#2a3f5f\"},\"baxis\":{\"endlinecolor\":\"#2a3f5f\",\"gridcolor\":\"white\",\"linecolor\":\"white\",\"minorgridcolor\":\"white\",\"startlinecolor\":\"#2a3f5f\"},\"type\":\"carpet\"}],\"table\":[{\"cells\":{\"fill\":{\"color\":\"#EBF0F8\"},\"line\":{\"color\":\"white\"}},\"header\":{\"fill\":{\"color\":\"#C8D4E3\"},\"line\":{\"color\":\"white\"}},\"type\":\"table\"}],\"barpolar\":[{\"marker\":{\"line\":{\"color\":\"#E5ECF6\",\"width\":0.5},\"pattern\":{\"fillmode\":\"overlay\",\"size\":10,\"solidity\":0.2}},\"type\":\"barpolar\"}],\"pie\":[{\"automargin\":true,\"type\":\"pie\"}]},\"layout\":{\"autotypenumbers\":\"strict\",\"colorway\":[\"#636efa\",\"#EF553B\",\"#00cc96\",\"#ab63fa\",\"#FFA15A\",\"#19d3f3\",\"#FF6692\",\"#B6E880\",\"#FF97FF\",\"#FECB52\"],\"font\":{\"color\":\"#2a3f5f\"},\"hovermode\":\"closest\",\"hoverlabel\":{\"align\":\"left\"},\"paper_bgcolor\":\"white\",\"plot_bgcolor\":\"#E5ECF6\",\"polar\":{\"bgcolor\":\"#E5ECF6\",\"angularaxis\":{\"gridcolor\":\"white\",\"linecolor\":\"white\",\"ticks\":\"\"},\"radialaxis\":{\"gridcolor\":\"white\",\"linecolor\":\"white\",\"ticks\":\"\"}},\"ternary\":{\"bgcolor\":\"#E5ECF6\",\"aaxis\":{\"gridcolor\":\"white\",\"linecolor\":\"white\",\"ticks\":\"\"},\"baxis\":{\"gridcolor\":\"white\",\"linecolor\":\"white\",\"ticks\":\"\"},\"caxis\":{\"gridcolor\":\"white\",\"linecolor\":\"white\",\"ticks\":\"\"}},\"coloraxis\":{\"colorbar\":{\"outlinewidth\":0,\"ticks\":\"\"}},\"colorscale\":{\"sequential\":[[0.0,\"#0d0887\"],[0.1111111111111111,\"#46039f\"],[0.2222222222222222,\"#7201a8\"],[0.3333333333333333,\"#9c179e\"],[0.4444444444444444,\"#bd3786\"],[0.5555555555555556,\"#d8576b\"],[0.6666666666666666,\"#ed7953\"],[0.7777777777777778,\"#fb9f3a\"],[0.8888888888888888,\"#fdca26\"],[1.0,\"#f0f921\"]],\"sequentialminus\":[[0.0,\"#0d0887\"],[0.1111111111111111,\"#46039f\"],[0.2222222222222222,\"#7201a8\"],[0.3333333333333333,\"#9c179e\"],[0.4444444444444444,\"#bd3786\"],[0.5555555555555556,\"#d8576b\"],[0.6666666666666666,\"#ed7953\"],[0.7777777777777778,\"#fb9f3a\"],[0.8888888888888888,\"#fdca26\"],[1.0,\"#f0f921\"]],\"diverging\":[[0,\"#8e0152\"],[0.1,\"#c51b7d\"],[0.2,\"#de77ae\"],[0.3,\"#f1b6da\"],[0.4,\"#fde0ef\"],[0.5,\"#f7f7f7\"],[0.6,\"#e6f5d0\"],[0.7,\"#b8e186\"],[0.8,\"#7fbc41\"],[0.9,\"#4d9221\"],[1,\"#276419\"]]},\"xaxis\":{\"gridcolor\":\"white\",\"linecolor\":\"white\",\"ticks\":\"\",\"title\":{\"standoff\":15},\"zerolinecolor\":\"white\",\"automargin\":true,\"zerolinewidth\":2},\"yaxis\":{\"gridcolor\":\"white\",\"linecolor\":\"white\",\"ticks\":\"\",\"title\":{\"standoff\":15},\"zerolinecolor\":\"white\",\"automargin\":true,\"zerolinewidth\":2},\"scene\":{\"xaxis\":{\"backgroundcolor\":\"#E5ECF6\",\"gridcolor\":\"white\",\"linecolor\":\"white\",\"showbackground\":true,\"ticks\":\"\",\"zerolinecolor\":\"white\",\"gridwidth\":2},\"yaxis\":{\"backgroundcolor\":\"#E5ECF6\",\"gridcolor\":\"white\",\"linecolor\":\"white\",\"showbackground\":true,\"ticks\":\"\",\"zerolinecolor\":\"white\",\"gridwidth\":2},\"zaxis\":{\"backgroundcolor\":\"#E5ECF6\",\"gridcolor\":\"white\",\"linecolor\":\"white\",\"showbackground\":true,\"ticks\":\"\",\"zerolinecolor\":\"white\",\"gridwidth\":2}},\"shapedefaults\":{\"line\":{\"color\":\"#2a3f5f\"}},\"annotationdefaults\":{\"arrowcolor\":\"#2a3f5f\",\"arrowhead\":0,\"arrowwidth\":1},\"geo\":{\"bgcolor\":\"white\",\"landcolor\":\"#E5ECF6\",\"subunitcolor\":\"white\",\"showland\":true,\"showlakes\":true,\"lakecolor\":\"white\"},\"title\":{\"x\":0.05},\"mapbox\":{\"style\":\"light\"}}},\"geo\":{\"domain\":{\"x\":[0.0,1.0],\"y\":[0.0,1.0]},\"center\":{}},\"coloraxis\":{\"colorbar\":{\"title\":{\"text\":\"Happiness Score Difference\"}},\"colorscale\":[[0.0,\"#8B0000\"],[0.5400246305418719,\"#FF4500\"],[0.8479064039408867,\"#FFA500\"],[1.0,\"#FFFF00\"]]},\"legend\":{\"tracegroupgap\":0},\"title\":{\"text\":\"Happiness Score Difference from 2022 to 2019\"}},                        {\"responsive\": true}                    ).then(function(){\n",
       "                            \n",
       "var gd = document.getElementById('fedc30a2-1896-4575-af31-bc81e86e5026');\n",
       "var x = new MutationObserver(function (mutations, observer) {{\n",
       "        var display = window.getComputedStyle(gd).display;\n",
       "        if (!display || display === 'none') {{\n",
       "            console.log([gd, 'removed!']);\n",
       "            Plotly.purge(gd);\n",
       "            observer.disconnect();\n",
       "        }}\n",
       "}});\n",
       "\n",
       "// Listen for the removal of the full notebook cells\n",
       "var notebookContainer = gd.closest('#notebook-container');\n",
       "if (notebookContainer) {{\n",
       "    x.observe(notebookContainer, {childList: true});\n",
       "}}\n",
       "\n",
       "// Listen for the clearing of the current output cell\n",
       "var outputEl = gd.closest('.output');\n",
       "if (outputEl) {{\n",
       "    x.observe(outputEl, {childList: true});\n",
       "}}\n",
       "\n",
       "                        })                };                });            </script>        </div>"
      ]
     },
     "metadata": {},
     "output_type": "display_data"
    }
   ],
   "source": [
    "#pivoted_happy is a cleaned df with country's happiness by year from WHR\n",
    "pivoted_happy['Happiness Score Difference'] = pivoted_happy['2022'] - pivoted_happy['2019']\n",
    "#creating a more specific dp for our map to lookup values in\n",
    "df_2022 = pivoted_happy[['Country', 'Country Code', 'Happiness Score Difference']]\n",
    "\n",
    "#color scale\n",
    "norm = plt.Normalize(vmin=-1.377, vmax=0.247)\n",
    "color_scale = [[norm(-1.377), \"#8B0000\"], \n",
    "               [norm(-0.5), \"#FF4500\"], \n",
    "               [norm(0), \"#FFA500\"], \n",
    "               [norm(0.247), \"#FFFF00\"]]\n",
    "\n",
    "# Creating a choropleth map\n",
    "fig = px.choropleth(df_2022, \n",
    "                    locations='Country Code', # needed to use country code to have choropleth know countries to shade\n",
    "                    locationmode='ISO-3', # locations are a built in feature of plotly express, just need to link data\n",
    "                    color='Happiness Score Difference', \n",
    "                    hover_name='Country',\n",
    "                    color_continuous_scale=color_scale, \n",
    "                    title='Happiness Score Difference from 2022 to 2019')\n",
    "\n",
    "# Display the map\n",
    "fig.show()"
   ]
  },
  {
   "cell_type": "code",
   "execution_count": 88,
   "id": "00add0af",
   "metadata": {},
   "outputs": [
    {
     "data": {
      "text/plain": [
       "['Afghanistan',\n",
       " 'Lebanon',\n",
       " 'Zimbabwe',\n",
       " 'Rwanda',\n",
       " 'Botswana',\n",
       " 'Lesotho',\n",
       " 'Sierra Leone',\n",
       " 'India',\n",
       " 'Tanzania']"
      ]
     },
     "execution_count": 88,
     "metadata": {},
     "output_type": "execute_result"
    }
   ],
   "source": [
    "get_smallest_9()"
   ]
  },
  {
   "cell_type": "code",
   "execution_count": 89,
   "id": "57b67503",
   "metadata": {
    "scrolled": true
   },
   "outputs": [
    {
     "data": {
      "text/plain": [
       "['Russia',\n",
       " 'Bulgaria',\n",
       " 'Nepal',\n",
       " 'Finland',\n",
       " 'Hong Kong S.A.R. of China',\n",
       " 'Liberia',\n",
       " 'North Cyprus',\n",
       " 'Venezuela',\n",
       " 'Armenia']"
      ]
     },
     "execution_count": 89,
     "metadata": {},
     "output_type": "execute_result"
    }
   ],
   "source": [
    "get_largest_9()"
   ]
  },
  {
   "cell_type": "code",
   "execution_count": 90,
   "id": "e91c11ea",
   "metadata": {},
   "outputs": [
    {
     "data": {
      "text/html": [
       "<div>\n",
       "<style scoped>\n",
       "    .dataframe tbody tr th:only-of-type {\n",
       "        vertical-align: middle;\n",
       "    }\n",
       "\n",
       "    .dataframe tbody tr th {\n",
       "        vertical-align: top;\n",
       "    }\n",
       "\n",
       "    .dataframe thead th {\n",
       "        text-align: right;\n",
       "    }\n",
       "</style>\n",
       "<table border=\"1\" class=\"dataframe\">\n",
       "  <thead>\n",
       "    <tr style=\"text-align: right;\">\n",
       "      <th></th>\n",
       "      <th>Country</th>\n",
       "      <th>2015</th>\n",
       "      <th>2016</th>\n",
       "      <th>2017</th>\n",
       "      <th>2018</th>\n",
       "      <th>2019</th>\n",
       "      <th>2020</th>\n",
       "      <th>2021</th>\n",
       "      <th>2022</th>\n",
       "      <th>Country Code</th>\n",
       "      <th>Happiness Score Difference</th>\n",
       "    </tr>\n",
       "  </thead>\n",
       "  <tbody>\n",
       "    <tr>\n",
       "      <th>0</th>\n",
       "      <td>Finland</td>\n",
       "      <td>7.587</td>\n",
       "      <td>7.526</td>\n",
       "      <td>7.537</td>\n",
       "      <td>7.632</td>\n",
       "      <td>7.769</td>\n",
       "      <td>7.8087</td>\n",
       "      <td>7.842</td>\n",
       "      <td>7.821</td>\n",
       "      <td>FIN</td>\n",
       "      <td>0.234</td>\n",
       "    </tr>\n",
       "    <tr>\n",
       "      <th>1</th>\n",
       "      <td>Denmark</td>\n",
       "      <td>7.561</td>\n",
       "      <td>7.509</td>\n",
       "      <td>7.522</td>\n",
       "      <td>7.594</td>\n",
       "      <td>7.600</td>\n",
       "      <td>7.6456</td>\n",
       "      <td>7.620</td>\n",
       "      <td>7.636</td>\n",
       "      <td>DNK</td>\n",
       "      <td>0.075</td>\n",
       "    </tr>\n",
       "    <tr>\n",
       "      <th>2</th>\n",
       "      <td>Iceland</td>\n",
       "      <td>7.527</td>\n",
       "      <td>7.501</td>\n",
       "      <td>7.504</td>\n",
       "      <td>7.555</td>\n",
       "      <td>7.554</td>\n",
       "      <td>7.5599</td>\n",
       "      <td>7.571</td>\n",
       "      <td>7.557</td>\n",
       "      <td>ISL</td>\n",
       "      <td>0.030</td>\n",
       "    </tr>\n",
       "    <tr>\n",
       "      <th>3</th>\n",
       "      <td>Switzerland</td>\n",
       "      <td>7.522</td>\n",
       "      <td>7.498</td>\n",
       "      <td>7.494</td>\n",
       "      <td>7.495</td>\n",
       "      <td>7.494</td>\n",
       "      <td>7.5045</td>\n",
       "      <td>7.554</td>\n",
       "      <td>7.512</td>\n",
       "      <td>CHE</td>\n",
       "      <td>-0.010</td>\n",
       "    </tr>\n",
       "    <tr>\n",
       "      <th>4</th>\n",
       "      <td>Netherlands</td>\n",
       "      <td>7.427</td>\n",
       "      <td>7.413</td>\n",
       "      <td>7.469</td>\n",
       "      <td>7.487</td>\n",
       "      <td>7.488</td>\n",
       "      <td>7.4880</td>\n",
       "      <td>7.464</td>\n",
       "      <td>7.415</td>\n",
       "      <td>NLD</td>\n",
       "      <td>-0.012</td>\n",
       "    </tr>\n",
       "    <tr>\n",
       "      <th>...</th>\n",
       "      <td>...</td>\n",
       "      <td>...</td>\n",
       "      <td>...</td>\n",
       "      <td>...</td>\n",
       "      <td>...</td>\n",
       "      <td>...</td>\n",
       "      <td>...</td>\n",
       "      <td>...</td>\n",
       "      <td>...</td>\n",
       "      <td>...</td>\n",
       "      <td>...</td>\n",
       "    </tr>\n",
       "    <tr>\n",
       "      <th>141</th>\n",
       "      <td>Botswana</td>\n",
       "      <td>3.904</td>\n",
       "      <td>3.856</td>\n",
       "      <td>3.766</td>\n",
       "      <td>3.795</td>\n",
       "      <td>3.973</td>\n",
       "      <td>3.7208</td>\n",
       "      <td>3.623</td>\n",
       "      <td>3.471</td>\n",
       "      <td>BWA</td>\n",
       "      <td>-0.433</td>\n",
       "    </tr>\n",
       "    <tr>\n",
       "      <th>142</th>\n",
       "      <td>Rwanda</td>\n",
       "      <td>3.896</td>\n",
       "      <td>3.832</td>\n",
       "      <td>3.657</td>\n",
       "      <td>3.774</td>\n",
       "      <td>3.933</td>\n",
       "      <td>3.6528</td>\n",
       "      <td>3.615</td>\n",
       "      <td>3.268</td>\n",
       "      <td>RWA</td>\n",
       "      <td>-0.628</td>\n",
       "    </tr>\n",
       "    <tr>\n",
       "      <th>143</th>\n",
       "      <td>Zimbabwe</td>\n",
       "      <td>3.845</td>\n",
       "      <td>3.763</td>\n",
       "      <td>3.644</td>\n",
       "      <td>3.692</td>\n",
       "      <td>3.802</td>\n",
       "      <td>3.5733</td>\n",
       "      <td>3.600</td>\n",
       "      <td>2.995</td>\n",
       "      <td>ZWE</td>\n",
       "      <td>-0.850</td>\n",
       "    </tr>\n",
       "    <tr>\n",
       "      <th>144</th>\n",
       "      <td>Lebanon</td>\n",
       "      <td>3.819</td>\n",
       "      <td>3.739</td>\n",
       "      <td>3.603</td>\n",
       "      <td>3.632</td>\n",
       "      <td>3.775</td>\n",
       "      <td>3.5380</td>\n",
       "      <td>3.512</td>\n",
       "      <td>2.955</td>\n",
       "      <td>LBN</td>\n",
       "      <td>-0.864</td>\n",
       "    </tr>\n",
       "    <tr>\n",
       "      <th>145</th>\n",
       "      <td>Afghanistan</td>\n",
       "      <td>3.781</td>\n",
       "      <td>3.739</td>\n",
       "      <td>3.593</td>\n",
       "      <td>3.590</td>\n",
       "      <td>3.663</td>\n",
       "      <td>3.5274</td>\n",
       "      <td>3.467</td>\n",
       "      <td>2.404</td>\n",
       "      <td>AFG</td>\n",
       "      <td>-1.377</td>\n",
       "    </tr>\n",
       "  </tbody>\n",
       "</table>\n",
       "<p>146 rows × 11 columns</p>\n",
       "</div>"
      ],
      "text/plain": [
       "         Country   2015   2016   2017   2018   2019    2020   2021   2022  \\\n",
       "0        Finland  7.587  7.526  7.537  7.632  7.769  7.8087  7.842  7.821   \n",
       "1        Denmark  7.561  7.509  7.522  7.594  7.600  7.6456  7.620  7.636   \n",
       "2        Iceland  7.527  7.501  7.504  7.555  7.554  7.5599  7.571  7.557   \n",
       "3    Switzerland  7.522  7.498  7.494  7.495  7.494  7.5045  7.554  7.512   \n",
       "4    Netherlands  7.427  7.413  7.469  7.487  7.488  7.4880  7.464  7.415   \n",
       "..           ...    ...    ...    ...    ...    ...     ...    ...    ...   \n",
       "141     Botswana  3.904  3.856  3.766  3.795  3.973  3.7208  3.623  3.471   \n",
       "142       Rwanda  3.896  3.832  3.657  3.774  3.933  3.6528  3.615  3.268   \n",
       "143     Zimbabwe  3.845  3.763  3.644  3.692  3.802  3.5733  3.600  2.995   \n",
       "144      Lebanon  3.819  3.739  3.603  3.632  3.775  3.5380  3.512  2.955   \n",
       "145  Afghanistan  3.781  3.739  3.593  3.590  3.663  3.5274  3.467  2.404   \n",
       "\n",
       "    Country Code  Happiness Score Difference  \n",
       "0            FIN                       0.234  \n",
       "1            DNK                       0.075  \n",
       "2            ISL                       0.030  \n",
       "3            CHE                      -0.010  \n",
       "4            NLD                      -0.012  \n",
       "..           ...                         ...  \n",
       "141          BWA                      -0.433  \n",
       "142          RWA                      -0.628  \n",
       "143          ZWE                      -0.850  \n",
       "144          LBN                      -0.864  \n",
       "145          AFG                      -1.377  \n",
       "\n",
       "[146 rows x 11 columns]"
      ]
     },
     "execution_count": 90,
     "metadata": {},
     "output_type": "execute_result"
    }
   ],
   "source": [
    "pivoted_happy"
   ]
  },
  {
   "cell_type": "code",
   "execution_count": 91,
   "id": "762e744a",
   "metadata": {},
   "outputs": [
    {
     "data": {
      "text/html": [
       "<div>\n",
       "<style scoped>\n",
       "    .dataframe tbody tr th:only-of-type {\n",
       "        vertical-align: middle;\n",
       "    }\n",
       "\n",
       "    .dataframe tbody tr th {\n",
       "        vertical-align: top;\n",
       "    }\n",
       "\n",
       "    .dataframe thead th {\n",
       "        text-align: right;\n",
       "    }\n",
       "</style>\n",
       "<table border=\"1\" class=\"dataframe\">\n",
       "  <thead>\n",
       "    <tr style=\"text-align: right;\">\n",
       "      <th></th>\n",
       "      <th>Country</th>\n",
       "      <th>Region</th>\n",
       "    </tr>\n",
       "  </thead>\n",
       "  <tbody>\n",
       "    <tr>\n",
       "      <th>0</th>\n",
       "      <td>Switzerland</td>\n",
       "      <td>Western Europe</td>\n",
       "    </tr>\n",
       "    <tr>\n",
       "      <th>1</th>\n",
       "      <td>Iceland</td>\n",
       "      <td>Western Europe</td>\n",
       "    </tr>\n",
       "    <tr>\n",
       "      <th>2</th>\n",
       "      <td>Denmark</td>\n",
       "      <td>Western Europe</td>\n",
       "    </tr>\n",
       "    <tr>\n",
       "      <th>3</th>\n",
       "      <td>Norway</td>\n",
       "      <td>Western Europe</td>\n",
       "    </tr>\n",
       "    <tr>\n",
       "      <th>4</th>\n",
       "      <td>Canada</td>\n",
       "      <td>North America</td>\n",
       "    </tr>\n",
       "    <tr>\n",
       "      <th>...</th>\n",
       "      <td>...</td>\n",
       "      <td>...</td>\n",
       "    </tr>\n",
       "    <tr>\n",
       "      <th>153</th>\n",
       "      <td>Rwanda</td>\n",
       "      <td>Sub-Saharan Africa</td>\n",
       "    </tr>\n",
       "    <tr>\n",
       "      <th>154</th>\n",
       "      <td>Benin</td>\n",
       "      <td>Sub-Saharan Africa</td>\n",
       "    </tr>\n",
       "    <tr>\n",
       "      <th>155</th>\n",
       "      <td>Syria</td>\n",
       "      <td>Middle East and Northern Africa</td>\n",
       "    </tr>\n",
       "    <tr>\n",
       "      <th>156</th>\n",
       "      <td>Burundi</td>\n",
       "      <td>Sub-Saharan Africa</td>\n",
       "    </tr>\n",
       "    <tr>\n",
       "      <th>157</th>\n",
       "      <td>Togo</td>\n",
       "      <td>Sub-Saharan Africa</td>\n",
       "    </tr>\n",
       "  </tbody>\n",
       "</table>\n",
       "<p>158 rows × 2 columns</p>\n",
       "</div>"
      ],
      "text/plain": [
       "         Country                           Region\n",
       "0    Switzerland                   Western Europe\n",
       "1        Iceland                   Western Europe\n",
       "2        Denmark                   Western Europe\n",
       "3         Norway                   Western Europe\n",
       "4         Canada                    North America\n",
       "..           ...                              ...\n",
       "153       Rwanda               Sub-Saharan Africa\n",
       "154        Benin               Sub-Saharan Africa\n",
       "155        Syria  Middle East and Northern Africa\n",
       "156      Burundi               Sub-Saharan Africa\n",
       "157         Togo               Sub-Saharan Africa\n",
       "\n",
       "[158 rows x 2 columns]"
      ]
     },
     "execution_count": 91,
     "metadata": {},
     "output_type": "execute_result"
    }
   ],
   "source": [
    "# Adding continents for happy_df\n",
    "df_2015 = pd.read_csv(\"2015.csv\")\n",
    "df_2015 = df_2015.iloc[:, :2]\n",
    "#df_2015[\"Region\"] = df_2015[\"Region\"].replace(\"Sub-Saharan Africa\", \"Africa\")\n",
    "#df_2015[\"Region\"] = df_2015[\"Region\"].replace(\"Western Europe\", \"Europe\")\n",
    "df_2015"
   ]
  },
  {
   "cell_type": "code",
   "execution_count": 92,
   "id": "902b763f",
   "metadata": {},
   "outputs": [],
   "source": [
    "region_map = df_2015.set_index('Country')['Region'].to_dict()\n",
    "\n",
    "# create a new column in the happy_df dataframe that maps country names to region values\n",
    "pivoted_happy['Region'] = pivoted_happy['Country'].map(region_map)"
   ]
  },
  {
   "cell_type": "code",
   "execution_count": 93,
   "id": "386b62b7",
   "metadata": {},
   "outputs": [
    {
     "data": {
      "text/html": [
       "<div>\n",
       "<style scoped>\n",
       "    .dataframe tbody tr th:only-of-type {\n",
       "        vertical-align: middle;\n",
       "    }\n",
       "\n",
       "    .dataframe tbody tr th {\n",
       "        vertical-align: top;\n",
       "    }\n",
       "\n",
       "    .dataframe thead th {\n",
       "        text-align: right;\n",
       "    }\n",
       "</style>\n",
       "<table border=\"1\" class=\"dataframe\">\n",
       "  <thead>\n",
       "    <tr style=\"text-align: right;\">\n",
       "      <th></th>\n",
       "      <th>Country</th>\n",
       "      <th>2015</th>\n",
       "      <th>2016</th>\n",
       "      <th>2017</th>\n",
       "      <th>2018</th>\n",
       "      <th>2019</th>\n",
       "      <th>2020</th>\n",
       "      <th>2021</th>\n",
       "      <th>2022</th>\n",
       "      <th>Country Code</th>\n",
       "      <th>Happiness Score Difference</th>\n",
       "      <th>Region</th>\n",
       "    </tr>\n",
       "  </thead>\n",
       "  <tbody>\n",
       "    <tr>\n",
       "      <th>0</th>\n",
       "      <td>Finland</td>\n",
       "      <td>7.587</td>\n",
       "      <td>7.526</td>\n",
       "      <td>7.537</td>\n",
       "      <td>7.632</td>\n",
       "      <td>7.769</td>\n",
       "      <td>7.8087</td>\n",
       "      <td>7.842</td>\n",
       "      <td>7.821</td>\n",
       "      <td>FIN</td>\n",
       "      <td>0.234</td>\n",
       "      <td>Western Europe</td>\n",
       "    </tr>\n",
       "    <tr>\n",
       "      <th>1</th>\n",
       "      <td>Denmark</td>\n",
       "      <td>7.561</td>\n",
       "      <td>7.509</td>\n",
       "      <td>7.522</td>\n",
       "      <td>7.594</td>\n",
       "      <td>7.600</td>\n",
       "      <td>7.6456</td>\n",
       "      <td>7.620</td>\n",
       "      <td>7.636</td>\n",
       "      <td>DNK</td>\n",
       "      <td>0.075</td>\n",
       "      <td>Western Europe</td>\n",
       "    </tr>\n",
       "    <tr>\n",
       "      <th>2</th>\n",
       "      <td>Iceland</td>\n",
       "      <td>7.527</td>\n",
       "      <td>7.501</td>\n",
       "      <td>7.504</td>\n",
       "      <td>7.555</td>\n",
       "      <td>7.554</td>\n",
       "      <td>7.5599</td>\n",
       "      <td>7.571</td>\n",
       "      <td>7.557</td>\n",
       "      <td>ISL</td>\n",
       "      <td>0.030</td>\n",
       "      <td>Western Europe</td>\n",
       "    </tr>\n",
       "    <tr>\n",
       "      <th>3</th>\n",
       "      <td>Switzerland</td>\n",
       "      <td>7.522</td>\n",
       "      <td>7.498</td>\n",
       "      <td>7.494</td>\n",
       "      <td>7.495</td>\n",
       "      <td>7.494</td>\n",
       "      <td>7.5045</td>\n",
       "      <td>7.554</td>\n",
       "      <td>7.512</td>\n",
       "      <td>CHE</td>\n",
       "      <td>-0.010</td>\n",
       "      <td>Western Europe</td>\n",
       "    </tr>\n",
       "    <tr>\n",
       "      <th>4</th>\n",
       "      <td>Netherlands</td>\n",
       "      <td>7.427</td>\n",
       "      <td>7.413</td>\n",
       "      <td>7.469</td>\n",
       "      <td>7.487</td>\n",
       "      <td>7.488</td>\n",
       "      <td>7.4880</td>\n",
       "      <td>7.464</td>\n",
       "      <td>7.415</td>\n",
       "      <td>NLD</td>\n",
       "      <td>-0.012</td>\n",
       "      <td>Western Europe</td>\n",
       "    </tr>\n",
       "    <tr>\n",
       "      <th>...</th>\n",
       "      <td>...</td>\n",
       "      <td>...</td>\n",
       "      <td>...</td>\n",
       "      <td>...</td>\n",
       "      <td>...</td>\n",
       "      <td>...</td>\n",
       "      <td>...</td>\n",
       "      <td>...</td>\n",
       "      <td>...</td>\n",
       "      <td>...</td>\n",
       "      <td>...</td>\n",
       "      <td>...</td>\n",
       "    </tr>\n",
       "    <tr>\n",
       "      <th>141</th>\n",
       "      <td>Botswana</td>\n",
       "      <td>3.904</td>\n",
       "      <td>3.856</td>\n",
       "      <td>3.766</td>\n",
       "      <td>3.795</td>\n",
       "      <td>3.973</td>\n",
       "      <td>3.7208</td>\n",
       "      <td>3.623</td>\n",
       "      <td>3.471</td>\n",
       "      <td>BWA</td>\n",
       "      <td>-0.433</td>\n",
       "      <td>Sub-Saharan Africa</td>\n",
       "    </tr>\n",
       "    <tr>\n",
       "      <th>142</th>\n",
       "      <td>Rwanda</td>\n",
       "      <td>3.896</td>\n",
       "      <td>3.832</td>\n",
       "      <td>3.657</td>\n",
       "      <td>3.774</td>\n",
       "      <td>3.933</td>\n",
       "      <td>3.6528</td>\n",
       "      <td>3.615</td>\n",
       "      <td>3.268</td>\n",
       "      <td>RWA</td>\n",
       "      <td>-0.628</td>\n",
       "      <td>Sub-Saharan Africa</td>\n",
       "    </tr>\n",
       "    <tr>\n",
       "      <th>143</th>\n",
       "      <td>Zimbabwe</td>\n",
       "      <td>3.845</td>\n",
       "      <td>3.763</td>\n",
       "      <td>3.644</td>\n",
       "      <td>3.692</td>\n",
       "      <td>3.802</td>\n",
       "      <td>3.5733</td>\n",
       "      <td>3.600</td>\n",
       "      <td>2.995</td>\n",
       "      <td>ZWE</td>\n",
       "      <td>-0.850</td>\n",
       "      <td>Sub-Saharan Africa</td>\n",
       "    </tr>\n",
       "    <tr>\n",
       "      <th>144</th>\n",
       "      <td>Lebanon</td>\n",
       "      <td>3.819</td>\n",
       "      <td>3.739</td>\n",
       "      <td>3.603</td>\n",
       "      <td>3.632</td>\n",
       "      <td>3.775</td>\n",
       "      <td>3.5380</td>\n",
       "      <td>3.512</td>\n",
       "      <td>2.955</td>\n",
       "      <td>LBN</td>\n",
       "      <td>-0.864</td>\n",
       "      <td>Middle East and Northern Africa</td>\n",
       "    </tr>\n",
       "    <tr>\n",
       "      <th>145</th>\n",
       "      <td>Afghanistan</td>\n",
       "      <td>3.781</td>\n",
       "      <td>3.739</td>\n",
       "      <td>3.593</td>\n",
       "      <td>3.590</td>\n",
       "      <td>3.663</td>\n",
       "      <td>3.5274</td>\n",
       "      <td>3.467</td>\n",
       "      <td>2.404</td>\n",
       "      <td>AFG</td>\n",
       "      <td>-1.377</td>\n",
       "      <td>Southern Asia</td>\n",
       "    </tr>\n",
       "  </tbody>\n",
       "</table>\n",
       "<p>146 rows × 12 columns</p>\n",
       "</div>"
      ],
      "text/plain": [
       "         Country   2015   2016   2017   2018   2019    2020   2021   2022  \\\n",
       "0        Finland  7.587  7.526  7.537  7.632  7.769  7.8087  7.842  7.821   \n",
       "1        Denmark  7.561  7.509  7.522  7.594  7.600  7.6456  7.620  7.636   \n",
       "2        Iceland  7.527  7.501  7.504  7.555  7.554  7.5599  7.571  7.557   \n",
       "3    Switzerland  7.522  7.498  7.494  7.495  7.494  7.5045  7.554  7.512   \n",
       "4    Netherlands  7.427  7.413  7.469  7.487  7.488  7.4880  7.464  7.415   \n",
       "..           ...    ...    ...    ...    ...    ...     ...    ...    ...   \n",
       "141     Botswana  3.904  3.856  3.766  3.795  3.973  3.7208  3.623  3.471   \n",
       "142       Rwanda  3.896  3.832  3.657  3.774  3.933  3.6528  3.615  3.268   \n",
       "143     Zimbabwe  3.845  3.763  3.644  3.692  3.802  3.5733  3.600  2.995   \n",
       "144      Lebanon  3.819  3.739  3.603  3.632  3.775  3.5380  3.512  2.955   \n",
       "145  Afghanistan  3.781  3.739  3.593  3.590  3.663  3.5274  3.467  2.404   \n",
       "\n",
       "    Country Code  Happiness Score Difference                           Region  \n",
       "0            FIN                       0.234                   Western Europe  \n",
       "1            DNK                       0.075                   Western Europe  \n",
       "2            ISL                       0.030                   Western Europe  \n",
       "3            CHE                      -0.010                   Western Europe  \n",
       "4            NLD                      -0.012                   Western Europe  \n",
       "..           ...                         ...                              ...  \n",
       "141          BWA                      -0.433               Sub-Saharan Africa  \n",
       "142          RWA                      -0.628               Sub-Saharan Africa  \n",
       "143          ZWE                      -0.850               Sub-Saharan Africa  \n",
       "144          LBN                      -0.864  Middle East and Northern Africa  \n",
       "145          AFG                      -1.377                    Southern Asia  \n",
       "\n",
       "[146 rows x 12 columns]"
      ]
     },
     "execution_count": 93,
     "metadata": {},
     "output_type": "execute_result"
    }
   ],
   "source": [
    "pivoted_happy"
   ]
  },
  {
   "cell_type": "code",
   "execution_count": 117,
   "id": "eed2d47e",
   "metadata": {},
   "outputs": [
    {
     "name": "stdout",
     "output_type": "stream",
     "text": [
      "Number of unique regions: 7\n",
      "['Western Europe' 'Middle East and Northern Africa' 'Oceania'\n",
      " 'North America' 'Central and Eastern Europe' 'Asia' 'Sub-Saharan Africa']\n"
     ]
    }
   ],
   "source": [
    "num_regions = pivoted_happy['Region'].nunique()\n",
    "print(\"Number of unique regions:\", num_regions)\n",
    "regions = pivoted_happy['Region'].unique()\n",
    "print(regions)"
   ]
  },
  {
   "cell_type": "code",
   "execution_count": 110,
   "id": "4c925dfc",
   "metadata": {},
   "outputs": [
    {
     "name": "stdout",
     "output_type": "stream",
     "text": [
      "Empty DataFrame\n",
      "Columns: [Country, 2015, 2016, 2017, 2018, 2019, 2020, 2021, 2022, Country Code, Happiness Score Difference, Region]\n",
      "Index: []\n"
     ]
    }
   ],
   "source": [
    "mask = pivoted_happy['Region'].isnull()\n",
    "rows_with_nan = pivoted_happy[mask]\n",
    "print(rows_with_nan)"
   ]
  },
  {
   "cell_type": "code",
   "execution_count": 116,
   "id": "db5a0629",
   "metadata": {},
   "outputs": [],
   "source": [
    "pivoted_happy.loc[pivoted_happy['Country'] == 'Czechia', 'Region'] = 'Central and Eastern Europe'\n",
    "pivoted_happy.loc[pivoted_happy['Country'] == 'Taiwan Province of China', 'Region'] = 'Eastern Asia'\n",
    "pivoted_happy.loc[pivoted_happy['Country'] == 'Hong Kong S.A.R. of China', 'Region'] = 'Eastern Asia'\n",
    "pivoted_happy.loc[pivoted_happy['Country'] == 'North Macedonia', 'Region'] = 'Central and Eastern Europe'\n",
    "pivoted_happy.loc[pivoted_happy['Country'] == 'Gambia', 'Region'] = 'Middle East and Northern Africa'\n",
    "pivoted_happy.loc[pivoted_happy['Country'] == 'Congo', 'Region'] = 'Sub-Saharan Africa'\n",
    "pivoted_happy.loc[pivoted_happy['Country'] == 'Namibia', 'Region'] = 'Sub-Saharan Africa'\n",
    "pivoted_happy.loc[pivoted_happy['Country'] == 'Eswatini, Kingdom of', 'Region'] = 'Sub-Saharan Africa'\n",
    "\n",
    "pivoted_happy['Region'] = pivoted_happy['Region'].replace('Australia and New Zealand', 'Oceania')\n",
    "pivoted_happy['Region'] = pivoted_happy['Region'].replace('Southeastern Asia', 'Asia')\n",
    "pivoted_happy['Region'] = pivoted_happy['Region'].replace('Southern Asia', 'Asia')\n",
    "pivoted_happy['Region'] = pivoted_happy['Region'].replace('Eastern Asia', 'Asia')\n",
    "pivoted_happy['Region'] = pivoted_happy['Region'].replace('Latin America and Caribbean', 'North America')"
   ]
  },
  {
   "cell_type": "code",
   "execution_count": 133,
   "id": "165ee55b",
   "metadata": {},
   "outputs": [
    {
     "name": "stdout",
     "output_type": "stream",
     "text": [
      "        Country   2015   2016   2017   2018   2019    2020   2021   2022  \\\n",
      "9   New Zealand  7.284  7.291  7.284  7.272  7.246  7.2375  7.268  7.200   \n",
      "11    Australia  7.226  7.119  7.079  7.139  7.167  7.2228  7.157  7.162   \n",
      "\n",
      "   Country Code  Happiness Score Difference   Region  \n",
      "9           NZL                      -0.084  Oceania  \n",
      "11          AUS                      -0.064  Oceania  \n"
     ]
    }
   ],
   "source": [
    "oceania_data = pivoted_happy[pivoted_happy['Region'] == 'Oceania']\n",
    "print(oceania_data)\n"
   ]
  },
  {
   "cell_type": "code",
   "execution_count": 135,
   "id": "78b47c06",
   "metadata": {},
   "outputs": [
    {
     "ename": "KeyError",
     "evalue": "'New Zealand'",
     "output_type": "error",
     "traceback": [
      "\u001b[0;31m---------------------------------------------------------------------------\u001b[0m",
      "\u001b[0;31mKeyError\u001b[0m                                  Traceback (most recent call last)",
      "\u001b[0;32m/var/folders/qs/knw37k4949970ll3df3cmq5m0000gn/T/ipykernel_20347/2619043273.py\u001b[0m in \u001b[0;36m<module>\u001b[0;34m\u001b[0m\n\u001b[1;32m      5\u001b[0m \u001b[0;32mfor\u001b[0m \u001b[0mcountry\u001b[0m \u001b[0;32min\u001b[0m \u001b[0moceania_data\u001b[0m\u001b[0;34m[\u001b[0m\u001b[0;34m'Country'\u001b[0m\u001b[0;34m]\u001b[0m\u001b[0;34m:\u001b[0m\u001b[0;34m\u001b[0m\u001b[0;34m\u001b[0m\u001b[0m\n\u001b[1;32m      6\u001b[0m     \u001b[0;32mif\u001b[0m \u001b[0mcountry\u001b[0m \u001b[0;32mnot\u001b[0m \u001b[0;32min\u001b[0m \u001b[0mpos\u001b[0m\u001b[0;34m:\u001b[0m\u001b[0;34m\u001b[0m\u001b[0;34m\u001b[0m\u001b[0m\n\u001b[0;32m----> 7\u001b[0;31m         \u001b[0mpos\u001b[0m\u001b[0;34m[\u001b[0m\u001b[0mcountry\u001b[0m\u001b[0;34m]\u001b[0m \u001b[0;34m=\u001b[0m \u001b[0mnx\u001b[0m\u001b[0;34m.\u001b[0m\u001b[0mspring_layout\u001b[0m\u001b[0;34m(\u001b[0m\u001b[0mG\u001b[0m\u001b[0;34m,\u001b[0m \u001b[0mk\u001b[0m\u001b[0;34m=\u001b[0m\u001b[0;36m0.3\u001b[0m\u001b[0;34m,\u001b[0m \u001b[0miterations\u001b[0m\u001b[0;34m=\u001b[0m\u001b[0;36m50\u001b[0m\u001b[0;34m)\u001b[0m\u001b[0;34m[\u001b[0m\u001b[0mcountry\u001b[0m\u001b[0;34m]\u001b[0m\u001b[0;34m\u001b[0m\u001b[0;34m\u001b[0m\u001b[0m\n\u001b[0m\u001b[1;32m      8\u001b[0m \u001b[0;34m\u001b[0m\u001b[0m\n\u001b[1;32m      9\u001b[0m \u001b[0;31m# add edges to the graph\u001b[0m\u001b[0;34m\u001b[0m\u001b[0;34m\u001b[0m\u001b[0m\n",
      "\u001b[0;31mKeyError\u001b[0m: 'New Zealand'"
     ]
    }
   ],
   "source": [
    "oceania_data = pivoted_happy[pivoted_happy['Region'] == 'Oceania']\n",
    "oceania_size = oceania_data['2022'].mean() * 500\n",
    "\n",
    "# add nodes to the graph\n",
    "for country in oceania_data['Country']:\n",
    "    if country not in pos:\n",
    "        pos[country] = nx.spring_layout(G, k=0.3, iterations=50)[country]\n",
    "\n",
    "# add edges to the graph\n",
    "for country in oceania_data['Country']:\n",
    "    G.add_edge('Oceania', country, weight=oceania_size)\n",
    "\n",
    "# set node colors and sizes\n",
    "node_colors = [blues(i/len(regions)) for i in range(len(regions))]\n",
    "node_sizes = [pivoted_happy[pivoted_happy['Region'] == region]['2022'].mean() * 500 for region in regions]\n",
    "\n",
    "# draw the graph\n",
    "fig, ax = plt.subplots(figsize=(10, 10))\n",
    "nx.draw(G, pos, node_color=node_colors, node_size=node_sizes, with_labels=True, font_size=10, font_weight='bold', ax=ax)\n",
    "\n",
    "# add edge labels\n",
    "edge_labels = nx.get_edge_attributes(G, 'weight')\n",
    "nx.draw_networkx_edge_labels(G, pos, edge_labels=edge_labels, font_size=8, font_color='gray')\n",
    "\n",
    "# set axis limits\n",
    "plt.xlim(-1.5, 1.5)\n",
    "plt.ylim(-1.5, 1.5)\n",
    "\n",
    "# show the plot\n",
    "plt.show()\n"
   ]
  },
  {
   "cell_type": "code",
   "execution_count": null,
   "id": "65cffa3b",
   "metadata": {},
   "outputs": [],
   "source": []
  }
 ],
 "metadata": {
  "kernelspec": {
   "display_name": "Python 3 (ipykernel)",
   "language": "python",
   "name": "python3"
  },
  "language_info": {
   "codemirror_mode": {
    "name": "ipython",
    "version": 3
   },
   "file_extension": ".py",
   "mimetype": "text/x-python",
   "name": "python",
   "nbconvert_exporter": "python",
   "pygments_lexer": "ipython3",
   "version": "3.9.13"
  }
 },
 "nbformat": 4,
 "nbformat_minor": 5
}
