{
 "cells": [
  {
   "cell_type": "code",
   "execution_count": 3,
   "id": "fb466243",
   "metadata": {},
   "outputs": [],
   "source": [
    "import pandas as pd\n",
    "import matplotlib.pyplot as plt\n",
    "\n",
    "happy_df = pd.read_csv(\"happiness_df.csv\")\n",
    "\n",
    "def get_happiness_scores(country_name):\n",
    "    mask = happy_df['Country'] == country_name\n",
    "    happiness_scores = happy_df.loc[mask, 'Happiness Score'].tolist()\n",
    "    return happiness_scores\n",
    "\n",
    "def plot_country(happiness_scores):\n",
    "    years = range(2018, 2023)\n",
    "    plt.plot(years, happiness_scores)\n",
    "    plt.xlabel('Year')\n",
    "    plt.ylabel('Happiness Scores')\n",
    "    plt.title('Change in Happiness from 2015 to 2022')\n",
    "    plt.show()"
   ]
  },
  {
   "cell_type": "code",
   "execution_count": 4,
   "id": "ddf74d43",
   "metadata": {},
   "outputs": [],
   "source": [
    "# Get a list of unique countries in the original data frame\n",
    "countries = happy_df['Country'].unique()\n",
    "\n",
    "# Create a new data frame with columns for each year\n",
    "new_df = pd.DataFrame(columns=['Country', '2015', '2016', '2017', '2018', '2019', '2020', '2021', '2022'])\n",
    "\n",
    "# Iterate over each country and year, and fill in the values in the new data frame\n",
    "for country in countries:\n",
    "    country_values = [country]\n",
    "    for year in range(2015, 2023):\n",
    "        value = happy_df[(happy_df['Country'] == country) & (happy_df['Year'] == year)]['Happiness Score']\n",
    "        if len(value) > 0:\n",
    "            country_values.append(value.values[0])\n",
    "        else:\n",
    "            country_values.append(None)\n",
    "    new_df.loc[len(new_df)] = country_values\n",
    "\n",
    "new_df = new_df.drop(new_df.index[-1])\n",
    "pivoted_happy = new_df"
   ]
  },
  {
   "cell_type": "code",
   "execution_count": 5,
   "id": "258ef110",
   "metadata": {
    "scrolled": true
   },
   "outputs": [],
   "source": [
    "country_codes = pd.read_csv(\"country_codes.csv\")\n",
    "country_codes = country_codes.iloc[:, :3]"
   ]
  },
  {
   "cell_type": "code",
   "execution_count": 6,
   "id": "c2b5e37e",
   "metadata": {},
   "outputs": [
    {
     "name": "stderr",
     "output_type": "stream",
     "text": [
      "/var/folders/qs/knw37k4949970ll3df3cmq5m0000gn/T/ipykernel_18626/2005239182.py:1: FutureWarning: The default value of regex will change from True to False in a future version. In addition, single character regular expressions will *not* be treated as literal strings when regex=True.\n",
      "  pivoted_happy['Country'] = pivoted_happy['Country'].str.replace('*', '')\n"
     ]
    }
   ],
   "source": [
    "pivoted_happy['Country'] = pivoted_happy['Country'].str.replace('*', '')"
   ]
  },
  {
   "cell_type": "code",
   "execution_count": 7,
   "id": "18f4fdad",
   "metadata": {},
   "outputs": [],
   "source": [
    "# Use merge to join the two DataFrames on the \"name\" column\n",
    "merged_df = pd.merge(pivoted_happy, country_codes[['name', 'alpha-3']], \n",
    "                     how='left', left_on='Country', right_on='name')\n",
    "\n",
    "merged_df = merged_df.rename(columns={'alpha-3': 'Country Code'})\n",
    "merged_df = merged_df.drop(columns=['name'])\n",
    "\n",
    "# Save the modified DataFrame back to the original variable\n",
    "pivoted_happy = merged_df"
   ]
  },
  {
   "cell_type": "code",
   "execution_count": 8,
   "id": "67bc0bd9",
   "metadata": {},
   "outputs": [
    {
     "data": {
      "text/html": [
       "<div>\n",
       "<style scoped>\n",
       "    .dataframe tbody tr th:only-of-type {\n",
       "        vertical-align: middle;\n",
       "    }\n",
       "\n",
       "    .dataframe tbody tr th {\n",
       "        vertical-align: top;\n",
       "    }\n",
       "\n",
       "    .dataframe thead th {\n",
       "        text-align: right;\n",
       "    }\n",
       "</style>\n",
       "<table border=\"1\" class=\"dataframe\">\n",
       "  <thead>\n",
       "    <tr style=\"text-align: right;\">\n",
       "      <th></th>\n",
       "      <th>Country</th>\n",
       "      <th>2015</th>\n",
       "      <th>2016</th>\n",
       "      <th>2017</th>\n",
       "      <th>2018</th>\n",
       "      <th>2019</th>\n",
       "      <th>2020</th>\n",
       "      <th>2021</th>\n",
       "      <th>2022</th>\n",
       "      <th>Country Code</th>\n",
       "    </tr>\n",
       "  </thead>\n",
       "  <tbody>\n",
       "    <tr>\n",
       "      <th>0</th>\n",
       "      <td>Finland</td>\n",
       "      <td>7.587</td>\n",
       "      <td>7.526</td>\n",
       "      <td>7.537</td>\n",
       "      <td>7.632</td>\n",
       "      <td>7.769</td>\n",
       "      <td>7.8087</td>\n",
       "      <td>7.842</td>\n",
       "      <td>7.821</td>\n",
       "      <td>FIN</td>\n",
       "    </tr>\n",
       "    <tr>\n",
       "      <th>1</th>\n",
       "      <td>Denmark</td>\n",
       "      <td>7.561</td>\n",
       "      <td>7.509</td>\n",
       "      <td>7.522</td>\n",
       "      <td>7.594</td>\n",
       "      <td>7.600</td>\n",
       "      <td>7.6456</td>\n",
       "      <td>7.620</td>\n",
       "      <td>7.636</td>\n",
       "      <td>DNK</td>\n",
       "    </tr>\n",
       "    <tr>\n",
       "      <th>2</th>\n",
       "      <td>Iceland</td>\n",
       "      <td>7.527</td>\n",
       "      <td>7.501</td>\n",
       "      <td>7.504</td>\n",
       "      <td>7.555</td>\n",
       "      <td>7.554</td>\n",
       "      <td>7.5599</td>\n",
       "      <td>7.571</td>\n",
       "      <td>7.557</td>\n",
       "      <td>ISL</td>\n",
       "    </tr>\n",
       "    <tr>\n",
       "      <th>3</th>\n",
       "      <td>Switzerland</td>\n",
       "      <td>7.522</td>\n",
       "      <td>7.498</td>\n",
       "      <td>7.494</td>\n",
       "      <td>7.495</td>\n",
       "      <td>7.494</td>\n",
       "      <td>7.5045</td>\n",
       "      <td>7.554</td>\n",
       "      <td>7.512</td>\n",
       "      <td>CHE</td>\n",
       "    </tr>\n",
       "    <tr>\n",
       "      <th>4</th>\n",
       "      <td>Netherlands</td>\n",
       "      <td>7.427</td>\n",
       "      <td>7.413</td>\n",
       "      <td>7.469</td>\n",
       "      <td>7.487</td>\n",
       "      <td>7.488</td>\n",
       "      <td>7.4880</td>\n",
       "      <td>7.464</td>\n",
       "      <td>7.415</td>\n",
       "      <td>NLD</td>\n",
       "    </tr>\n",
       "    <tr>\n",
       "      <th>...</th>\n",
       "      <td>...</td>\n",
       "      <td>...</td>\n",
       "      <td>...</td>\n",
       "      <td>...</td>\n",
       "      <td>...</td>\n",
       "      <td>...</td>\n",
       "      <td>...</td>\n",
       "      <td>...</td>\n",
       "      <td>...</td>\n",
       "      <td>...</td>\n",
       "    </tr>\n",
       "    <tr>\n",
       "      <th>141</th>\n",
       "      <td>Botswana</td>\n",
       "      <td>3.904</td>\n",
       "      <td>3.856</td>\n",
       "      <td>3.766</td>\n",
       "      <td>3.795</td>\n",
       "      <td>3.973</td>\n",
       "      <td>3.7208</td>\n",
       "      <td>3.623</td>\n",
       "      <td>3.471</td>\n",
       "      <td>BWA</td>\n",
       "    </tr>\n",
       "    <tr>\n",
       "      <th>142</th>\n",
       "      <td>Rwanda</td>\n",
       "      <td>3.896</td>\n",
       "      <td>3.832</td>\n",
       "      <td>3.657</td>\n",
       "      <td>3.774</td>\n",
       "      <td>3.933</td>\n",
       "      <td>3.6528</td>\n",
       "      <td>3.615</td>\n",
       "      <td>3.268</td>\n",
       "      <td>RWA</td>\n",
       "    </tr>\n",
       "    <tr>\n",
       "      <th>143</th>\n",
       "      <td>Zimbabwe</td>\n",
       "      <td>3.845</td>\n",
       "      <td>3.763</td>\n",
       "      <td>3.644</td>\n",
       "      <td>3.692</td>\n",
       "      <td>3.802</td>\n",
       "      <td>3.5733</td>\n",
       "      <td>3.600</td>\n",
       "      <td>2.995</td>\n",
       "      <td>ZWE</td>\n",
       "    </tr>\n",
       "    <tr>\n",
       "      <th>144</th>\n",
       "      <td>Lebanon</td>\n",
       "      <td>3.819</td>\n",
       "      <td>3.739</td>\n",
       "      <td>3.603</td>\n",
       "      <td>3.632</td>\n",
       "      <td>3.775</td>\n",
       "      <td>3.5380</td>\n",
       "      <td>3.512</td>\n",
       "      <td>2.955</td>\n",
       "      <td>LBN</td>\n",
       "    </tr>\n",
       "    <tr>\n",
       "      <th>145</th>\n",
       "      <td>Afghanistan</td>\n",
       "      <td>3.781</td>\n",
       "      <td>3.739</td>\n",
       "      <td>3.593</td>\n",
       "      <td>3.590</td>\n",
       "      <td>3.663</td>\n",
       "      <td>3.5274</td>\n",
       "      <td>3.467</td>\n",
       "      <td>2.404</td>\n",
       "      <td>AFG</td>\n",
       "    </tr>\n",
       "  </tbody>\n",
       "</table>\n",
       "<p>146 rows × 10 columns</p>\n",
       "</div>"
      ],
      "text/plain": [
       "         Country   2015   2016   2017   2018   2019    2020   2021   2022  \\\n",
       "0        Finland  7.587  7.526  7.537  7.632  7.769  7.8087  7.842  7.821   \n",
       "1        Denmark  7.561  7.509  7.522  7.594  7.600  7.6456  7.620  7.636   \n",
       "2        Iceland  7.527  7.501  7.504  7.555  7.554  7.5599  7.571  7.557   \n",
       "3    Switzerland  7.522  7.498  7.494  7.495  7.494  7.5045  7.554  7.512   \n",
       "4    Netherlands  7.427  7.413  7.469  7.487  7.488  7.4880  7.464  7.415   \n",
       "..           ...    ...    ...    ...    ...    ...     ...    ...    ...   \n",
       "141     Botswana  3.904  3.856  3.766  3.795  3.973  3.7208  3.623  3.471   \n",
       "142       Rwanda  3.896  3.832  3.657  3.774  3.933  3.6528  3.615  3.268   \n",
       "143     Zimbabwe  3.845  3.763  3.644  3.692  3.802  3.5733  3.600  2.995   \n",
       "144      Lebanon  3.819  3.739  3.603  3.632  3.775  3.5380  3.512  2.955   \n",
       "145  Afghanistan  3.781  3.739  3.593  3.590  3.663  3.5274  3.467  2.404   \n",
       "\n",
       "    Country Code  \n",
       "0            FIN  \n",
       "1            DNK  \n",
       "2            ISL  \n",
       "3            CHE  \n",
       "4            NLD  \n",
       "..           ...  \n",
       "141          BWA  \n",
       "142          RWA  \n",
       "143          ZWE  \n",
       "144          LBN  \n",
       "145          AFG  \n",
       "\n",
       "[146 rows x 10 columns]"
      ]
     },
     "execution_count": 8,
     "metadata": {},
     "output_type": "execute_result"
    }
   ],
   "source": [
    "pivoted_happy"
   ]
  },
  {
   "cell_type": "code",
   "execution_count": 17,
   "id": "ea25fb14",
   "metadata": {},
   "outputs": [
    {
     "name": "stdout",
     "output_type": "stream",
     "text": [
      "                       Country   2015   2016   2017   2018   2019    2020  \\\n",
      "16              United Kingdom  6.946  6.952  6.891  6.910  6.985  7.0758   \n",
      "25    Taiwan Province of China  6.750  6.650  6.572  6.441  6.444  6.4401   \n",
      "31                      Kosovo  6.485  6.478  6.424  6.374  6.300  6.3756   \n",
      "58                 South Korea  5.813  5.822  5.822  5.810  5.860  5.9109   \n",
      "61                     Moldova  5.759  5.771  5.758  5.752  5.758  5.8708   \n",
      "70                     Bolivia  5.477  5.528  5.472  5.524  5.529  5.5557   \n",
      "76                     Vietnam  5.286  5.401  5.293  5.410  5.425  5.5150   \n",
      "78                North Cyprus  5.253  5.314  5.273  5.358  5.373  5.5047   \n",
      "80   Hong Kong S.A.R. of China  5.194  5.291  5.262  5.347  5.323  5.4562   \n",
      "87                 Ivory Coast  5.102  5.161  5.225  5.199  5.211  5.1944   \n",
      "94                        Laos  4.959  5.121  5.074  5.103  5.082  5.1191   \n",
      "107                  Venezuela  4.715  4.754  4.692  4.657  4.707  4.8293   \n",
      "109                       Iran  4.686  4.643  4.608  4.623  4.696  4.7848   \n",
      "121    Palestinian Territories  4.512  4.356  4.315  4.419  4.490  4.5711   \n",
      "124       Eswatini, Kingdom of  4.419  4.272  4.286  4.377  4.456  4.5528   \n",
      "138                   Tanzania  3.989  3.916  3.808  3.999  4.085  3.9264   \n",
      "\n",
      "      2021   2022 Country Code  \n",
      "16   7.064  6.943          NaN  \n",
      "25   6.494  6.512          NaN  \n",
      "31   6.377  6.455          NaN  \n",
      "58   5.919  5.935          NaN  \n",
      "61   5.845  5.857          NaN  \n",
      "70   5.653  5.600          NaN  \n",
      "76   5.477  5.485          NaN  \n",
      "78   5.411  5.467          NaN  \n",
      "80   5.384  5.425          NaN  \n",
      "87   5.266  5.235          NaN  \n",
      "94   5.088  5.140          NaN  \n",
      "107  4.891  4.925          NaN  \n",
      "109  4.875  4.888          NaN  \n",
      "121  4.596  4.483          NaN  \n",
      "124  4.517  4.396          NaN  \n",
      "138  3.819  3.702          NaN  \n"
     ]
    }
   ],
   "source": [
    "nan_rows = pivoted_happy[pd.isna(pivoted_happy['Country Code'])]\n",
    "print(nan_rows)"
   ]
  },
  {
   "cell_type": "code",
   "execution_count": 18,
   "id": "3f40a9f6",
   "metadata": {},
   "outputs": [],
   "source": [
    "# manually adding all country codes where the ISO uses different names than happiness\n",
    "\n",
    "pivoted_happy.loc[pivoted_happy['Country'] == 'United States', 'Country Code'] = 'USA'\n",
    "pivoted_happy.loc[pivoted_happy['Country'] == 'Russia', 'Country Code'] = 'RUS'\n",
    "pivoted_happy.loc[pivoted_happy['Country'] == 'United Kingdom', 'Country Code'] = 'GBR'\n",
    "pivoted_happy.loc[pivoted_happy['Country'] == 'Taiwan Province of China', 'Country Code'] = 'TWN'\n",
    "pivoted_happy.loc[pivoted_happy['Country'] == 'South Korea', 'Country Code'] = 'KOR'\n",
    "pivoted_happy.loc[pivoted_happy['Country'] == 'Bolivia', 'Country Code'] = 'BOL'\n",
    "pivoted_happy.loc[pivoted_happy['Country'] == 'Vietnam', 'Country Code'] = 'VNM'\n",
    "pivoted_happy.loc[pivoted_happy['Country'] == 'North Cyprus', 'Country Code'] = 'CYP'\n",
    "pivoted_happy.loc[pivoted_happy['Country'] == 'Hong Kong S.A.R. of China', 'Country Code'] = 'HKG'\n",
    "pivoted_happy.loc[pivoted_happy['Country'] == 'Ivory Coast', 'Country Code'] = 'CIV'\n",
    "pivoted_happy.loc[pivoted_happy['Country'] == 'Laos', 'Country Code'] = 'LAO'\n",
    "pivoted_happy.loc[pivoted_happy['Country'] == 'Venezuela', 'Country Code'] = 'VEN'\n",
    "pivoted_happy.loc[pivoted_happy['Country'] == 'Iran', 'Country Code'] = 'IRN'\n",
    "pivoted_happy.loc[pivoted_happy['Country'] == 'Tanzania', 'Country Code'] = 'TZA'"
   ]
  },
  {
   "cell_type": "code",
   "execution_count": 19,
   "id": "ffa204c9",
   "metadata": {},
   "outputs": [
    {
     "name": "stdout",
     "output_type": "stream",
     "text": [
      "   Country   2015   2016   2017   2018   2019    2020  2021   2022  \\\n",
      "79  Russia  5.212  5.303  5.269  5.358  5.339  5.4888  5.41  5.459   \n",
      "\n",
      "   Country Code  \n",
      "79          RUS  \n"
     ]
    }
   ],
   "source": [
    "us_row = pivoted_happy[pivoted_happy['Country'] == 'Russia']\n",
    "print(us_row)"
   ]
  },
  {
   "cell_type": "code",
   "execution_count": 22,
   "id": "ec47fda2",
   "metadata": {},
   "outputs": [
    {
     "data": {
      "application/vnd.plotly.v1+json": {
       "config": {
        "plotlyServerURL": "https://plot.ly"
       },
       "data": [
        {
         "coloraxis": "coloraxis",
         "geo": "geo",
         "hovertemplate": "<b>%{hovertext}</b><br><br>Country Code=%{location}<br>2022=%{z}<extra></extra>",
         "hovertext": [
          "Finland",
          "Denmark",
          "Iceland",
          "Switzerland",
          "Netherlands",
          "Luxembourg",
          "Sweden",
          "Norway",
          "Israel",
          "New Zealand",
          "Austria",
          "Australia",
          "Ireland",
          "Germany",
          "Canada",
          "United States",
          "United Kingdom",
          "Czechia",
          "Belgium",
          "France",
          "Bahrain",
          "Slovenia",
          "Costa Rica",
          "United Arab Emirates",
          "Saudi Arabia",
          "Taiwan Province of China",
          "Singapore",
          "Romania",
          "Spain",
          "Uruguay",
          "Italy",
          "Kosovo",
          "Malta",
          "Lithuania",
          "Slovakia",
          "Estonia",
          "Panama",
          "Brazil",
          "Guatemala",
          "Kazakhstan",
          "Cyprus",
          "Latvia",
          "Serbia",
          "Chile",
          "Nicaragua",
          "Mexico",
          "Croatia",
          "Poland",
          "El Salvador",
          "Kuwait",
          "Hungary",
          "Mauritius",
          "Uzbekistan",
          "Japan",
          "Honduras",
          "Portugal",
          "Argentina",
          "Greece",
          "South Korea",
          "Philippines",
          "Thailand",
          "Moldova",
          "Jamaica",
          "Kyrgyzstan",
          "Belarus",
          "Colombia",
          "Bosnia and Herzegovina",
          "Mongolia",
          "Dominican Republic",
          "Malaysia",
          "Bolivia",
          "China",
          "Paraguay",
          "Peru",
          "Montenegro",
          "Ecuador",
          "Vietnam",
          "Turkmenistan",
          "North Cyprus",
          "Russia",
          "Hong Kong S.A.R. of China",
          "Armenia",
          "Tajikistan",
          "Nepal",
          "Bulgaria",
          "Libya",
          "Indonesia",
          "Ivory Coast",
          "North Macedonia",
          "Albania",
          "South Africa",
          "Azerbaijan",
          "Gambia",
          "Bangladesh",
          "Laos",
          "Algeria",
          "Liberia",
          "Ukraine",
          "Congo",
          "Morocco",
          "Mozambique",
          "Cameroon",
          "Senegal",
          "Niger",
          "Georgia",
          "Gabon",
          "Iraq",
          "Venezuela",
          "Guinea",
          "Iran",
          "Ghana",
          "Turkey",
          "Burkina Faso",
          "Cambodia",
          "Benin",
          "Comoros",
          "Uganda",
          "Nigeria",
          "Kenya",
          "Tunisia",
          "Pakistan",
          "Palestinian Territories",
          "Mali",
          "Namibia",
          "Eswatini, Kingdom of",
          "Myanmar",
          "Sri Lanka",
          "Madagascar",
          "Egypt",
          "Chad",
          "Ethiopia",
          "Yemen",
          "Mauritania",
          "Jordan",
          "Togo",
          "India",
          "Zambia",
          "Malawi",
          "Tanzania",
          "Sierra Leone",
          "Lesotho",
          "Botswana",
          "Rwanda",
          "Zimbabwe",
          "Lebanon",
          "Afghanistan"
         ],
         "locationmode": "ISO-3",
         "locations": [
          "FIN",
          "DNK",
          "ISL",
          "CHE",
          "NLD",
          "LUX",
          "SWE",
          "NOR",
          "ISR",
          "NZL",
          "AUT",
          "AUS",
          "IRL",
          "DEU",
          "CAN",
          "USA",
          "GBR",
          "CZE",
          "BEL",
          "FRA",
          "BHR",
          "SVN",
          "CRI",
          "ARE",
          "SAU",
          "TWN",
          "SGP",
          "ROU",
          "ESP",
          "URY",
          "ITA",
          null,
          "MLT",
          "LTU",
          "SVK",
          "EST",
          "PAN",
          "BRA",
          "GTM",
          "KAZ",
          "CYP",
          "LVA",
          "SRB",
          "CHL",
          "NIC",
          "MEX",
          "HRV",
          "POL",
          "SLV",
          "KWT",
          "HUN",
          "MUS",
          "UZB",
          "JPN",
          "HND",
          "PRT",
          "ARG",
          "GRC",
          "KOR",
          "PHL",
          "THA",
          null,
          "JAM",
          "KGZ",
          "BLR",
          "COL",
          "BIH",
          "MNG",
          "DOM",
          "MYS",
          "BOL",
          "CHN",
          "PRY",
          "PER",
          "MNE",
          "ECU",
          "VNM",
          "TKM",
          "CYP",
          "RUS",
          "HKG",
          "ARM",
          "TJK",
          "NPL",
          "BGR",
          "LBY",
          "IDN",
          "CIV",
          "MKD",
          "ALB",
          "ZAF",
          "AZE",
          "GMB",
          "BGD",
          "LAO",
          "DZA",
          "LBR",
          "UKR",
          "COG",
          "MAR",
          "MOZ",
          "CMR",
          "SEN",
          "NER",
          "GEO",
          "GAB",
          "IRQ",
          "VEN",
          "GIN",
          "IRN",
          "GHA",
          "TUR",
          "BFA",
          "KHM",
          "BEN",
          "COM",
          "UGA",
          "NGA",
          "KEN",
          "TUN",
          "PAK",
          null,
          "MLI",
          "NAM",
          null,
          "MMR",
          "LKA",
          "MDG",
          "EGY",
          "TCD",
          "ETH",
          "YEM",
          "MRT",
          "JOR",
          "TGO",
          "IND",
          "ZMB",
          "MWI",
          "TZA",
          "SLE",
          "LSO",
          "BWA",
          "RWA",
          "ZWE",
          "LBN",
          "AFG"
         ],
         "name": "",
         "type": "choropleth",
         "z": [
          7.821,
          7.636,
          7.557,
          7.512,
          7.415,
          7.404,
          7.384,
          7.365,
          7.364,
          7.2,
          7.163,
          7.162,
          7.041,
          7.034,
          7.025,
          6.977,
          6.943,
          6.92,
          6.805,
          6.687,
          6.647,
          6.63,
          6.582,
          6.576,
          6.523,
          6.512,
          6.48,
          6.477,
          6.476,
          6.474,
          6.467,
          6.455,
          6.447,
          6.446,
          6.391,
          6.341,
          6.309,
          6.293,
          6.262,
          6.234,
          6.221,
          6.18,
          6.178,
          6.172,
          6.165,
          6.128,
          6.125,
          6.123,
          6.12,
          6.106,
          6.086,
          6.071,
          6.063,
          6.039,
          6.022,
          6.016,
          5.967,
          5.948,
          5.935,
          5.904,
          5.891,
          5.857,
          5.85,
          5.828,
          5.821,
          5.781,
          5.768,
          5.761,
          5.737,
          5.711,
          5.6,
          5.585,
          5.578,
          5.559,
          5.547,
          5.533,
          5.485,
          5.474,
          5.467,
          5.459,
          5.425,
          5.399,
          5.377,
          5.377,
          5.371,
          5.33,
          5.24,
          5.235,
          5.199,
          5.199,
          5.194,
          5.173,
          5.164,
          5.155,
          5.14,
          5.122,
          5.122,
          5.084,
          5.075,
          5.06,
          5.048,
          5.048,
          5.046,
          5.003,
          4.973,
          4.958,
          4.941,
          4.925,
          4.891,
          4.888,
          4.872,
          4.744,
          4.67,
          4.64,
          4.623,
          4.609,
          4.603,
          4.552,
          4.543,
          4.516,
          4.516,
          4.483,
          4.479,
          4.459,
          4.396,
          4.394,
          4.362,
          4.339,
          4.288,
          4.251,
          4.241,
          4.197,
          4.153,
          4.152,
          4.112,
          3.777,
          3.76,
          3.75,
          3.702,
          3.574,
          3.512,
          3.471,
          3.268,
          2.995,
          2.955,
          2.404
         ]
        }
       ],
       "layout": {
        "coloraxis": {
         "colorbar": {
          "title": {
           "text": "2022"
          }
         },
         "colorscale": [
          [
           0,
           "#8B0000"
          ],
          [
           0.3333333333333333,
           "#FF4500"
          ],
          [
           0.6666666666666666,
           "#FFA500"
          ],
          [
           1,
           "#FFFF00"
          ]
         ]
        },
        "geo": {
         "center": {},
         "domain": {
          "x": [
           0,
           1
          ],
          "y": [
           0,
           1
          ]
         }
        },
        "legend": {
         "tracegroupgap": 0
        },
        "template": {
         "data": {
          "bar": [
           {
            "error_x": {
             "color": "#2a3f5f"
            },
            "error_y": {
             "color": "#2a3f5f"
            },
            "marker": {
             "line": {
              "color": "#E5ECF6",
              "width": 0.5
             },
             "pattern": {
              "fillmode": "overlay",
              "size": 10,
              "solidity": 0.2
             }
            },
            "type": "bar"
           }
          ],
          "barpolar": [
           {
            "marker": {
             "line": {
              "color": "#E5ECF6",
              "width": 0.5
             },
             "pattern": {
              "fillmode": "overlay",
              "size": 10,
              "solidity": 0.2
             }
            },
            "type": "barpolar"
           }
          ],
          "carpet": [
           {
            "aaxis": {
             "endlinecolor": "#2a3f5f",
             "gridcolor": "white",
             "linecolor": "white",
             "minorgridcolor": "white",
             "startlinecolor": "#2a3f5f"
            },
            "baxis": {
             "endlinecolor": "#2a3f5f",
             "gridcolor": "white",
             "linecolor": "white",
             "minorgridcolor": "white",
             "startlinecolor": "#2a3f5f"
            },
            "type": "carpet"
           }
          ],
          "choropleth": [
           {
            "colorbar": {
             "outlinewidth": 0,
             "ticks": ""
            },
            "type": "choropleth"
           }
          ],
          "contour": [
           {
            "colorbar": {
             "outlinewidth": 0,
             "ticks": ""
            },
            "colorscale": [
             [
              0,
              "#0d0887"
             ],
             [
              0.1111111111111111,
              "#46039f"
             ],
             [
              0.2222222222222222,
              "#7201a8"
             ],
             [
              0.3333333333333333,
              "#9c179e"
             ],
             [
              0.4444444444444444,
              "#bd3786"
             ],
             [
              0.5555555555555556,
              "#d8576b"
             ],
             [
              0.6666666666666666,
              "#ed7953"
             ],
             [
              0.7777777777777778,
              "#fb9f3a"
             ],
             [
              0.8888888888888888,
              "#fdca26"
             ],
             [
              1,
              "#f0f921"
             ]
            ],
            "type": "contour"
           }
          ],
          "contourcarpet": [
           {
            "colorbar": {
             "outlinewidth": 0,
             "ticks": ""
            },
            "type": "contourcarpet"
           }
          ],
          "heatmap": [
           {
            "colorbar": {
             "outlinewidth": 0,
             "ticks": ""
            },
            "colorscale": [
             [
              0,
              "#0d0887"
             ],
             [
              0.1111111111111111,
              "#46039f"
             ],
             [
              0.2222222222222222,
              "#7201a8"
             ],
             [
              0.3333333333333333,
              "#9c179e"
             ],
             [
              0.4444444444444444,
              "#bd3786"
             ],
             [
              0.5555555555555556,
              "#d8576b"
             ],
             [
              0.6666666666666666,
              "#ed7953"
             ],
             [
              0.7777777777777778,
              "#fb9f3a"
             ],
             [
              0.8888888888888888,
              "#fdca26"
             ],
             [
              1,
              "#f0f921"
             ]
            ],
            "type": "heatmap"
           }
          ],
          "heatmapgl": [
           {
            "colorbar": {
             "outlinewidth": 0,
             "ticks": ""
            },
            "colorscale": [
             [
              0,
              "#0d0887"
             ],
             [
              0.1111111111111111,
              "#46039f"
             ],
             [
              0.2222222222222222,
              "#7201a8"
             ],
             [
              0.3333333333333333,
              "#9c179e"
             ],
             [
              0.4444444444444444,
              "#bd3786"
             ],
             [
              0.5555555555555556,
              "#d8576b"
             ],
             [
              0.6666666666666666,
              "#ed7953"
             ],
             [
              0.7777777777777778,
              "#fb9f3a"
             ],
             [
              0.8888888888888888,
              "#fdca26"
             ],
             [
              1,
              "#f0f921"
             ]
            ],
            "type": "heatmapgl"
           }
          ],
          "histogram": [
           {
            "marker": {
             "pattern": {
              "fillmode": "overlay",
              "size": 10,
              "solidity": 0.2
             }
            },
            "type": "histogram"
           }
          ],
          "histogram2d": [
           {
            "colorbar": {
             "outlinewidth": 0,
             "ticks": ""
            },
            "colorscale": [
             [
              0,
              "#0d0887"
             ],
             [
              0.1111111111111111,
              "#46039f"
             ],
             [
              0.2222222222222222,
              "#7201a8"
             ],
             [
              0.3333333333333333,
              "#9c179e"
             ],
             [
              0.4444444444444444,
              "#bd3786"
             ],
             [
              0.5555555555555556,
              "#d8576b"
             ],
             [
              0.6666666666666666,
              "#ed7953"
             ],
             [
              0.7777777777777778,
              "#fb9f3a"
             ],
             [
              0.8888888888888888,
              "#fdca26"
             ],
             [
              1,
              "#f0f921"
             ]
            ],
            "type": "histogram2d"
           }
          ],
          "histogram2dcontour": [
           {
            "colorbar": {
             "outlinewidth": 0,
             "ticks": ""
            },
            "colorscale": [
             [
              0,
              "#0d0887"
             ],
             [
              0.1111111111111111,
              "#46039f"
             ],
             [
              0.2222222222222222,
              "#7201a8"
             ],
             [
              0.3333333333333333,
              "#9c179e"
             ],
             [
              0.4444444444444444,
              "#bd3786"
             ],
             [
              0.5555555555555556,
              "#d8576b"
             ],
             [
              0.6666666666666666,
              "#ed7953"
             ],
             [
              0.7777777777777778,
              "#fb9f3a"
             ],
             [
              0.8888888888888888,
              "#fdca26"
             ],
             [
              1,
              "#f0f921"
             ]
            ],
            "type": "histogram2dcontour"
           }
          ],
          "mesh3d": [
           {
            "colorbar": {
             "outlinewidth": 0,
             "ticks": ""
            },
            "type": "mesh3d"
           }
          ],
          "parcoords": [
           {
            "line": {
             "colorbar": {
              "outlinewidth": 0,
              "ticks": ""
             }
            },
            "type": "parcoords"
           }
          ],
          "pie": [
           {
            "automargin": true,
            "type": "pie"
           }
          ],
          "scatter": [
           {
            "fillpattern": {
             "fillmode": "overlay",
             "size": 10,
             "solidity": 0.2
            },
            "type": "scatter"
           }
          ],
          "scatter3d": [
           {
            "line": {
             "colorbar": {
              "outlinewidth": 0,
              "ticks": ""
             }
            },
            "marker": {
             "colorbar": {
              "outlinewidth": 0,
              "ticks": ""
             }
            },
            "type": "scatter3d"
           }
          ],
          "scattercarpet": [
           {
            "marker": {
             "colorbar": {
              "outlinewidth": 0,
              "ticks": ""
             }
            },
            "type": "scattercarpet"
           }
          ],
          "scattergeo": [
           {
            "marker": {
             "colorbar": {
              "outlinewidth": 0,
              "ticks": ""
             }
            },
            "type": "scattergeo"
           }
          ],
          "scattergl": [
           {
            "marker": {
             "colorbar": {
              "outlinewidth": 0,
              "ticks": ""
             }
            },
            "type": "scattergl"
           }
          ],
          "scattermapbox": [
           {
            "marker": {
             "colorbar": {
              "outlinewidth": 0,
              "ticks": ""
             }
            },
            "type": "scattermapbox"
           }
          ],
          "scatterpolar": [
           {
            "marker": {
             "colorbar": {
              "outlinewidth": 0,
              "ticks": ""
             }
            },
            "type": "scatterpolar"
           }
          ],
          "scatterpolargl": [
           {
            "marker": {
             "colorbar": {
              "outlinewidth": 0,
              "ticks": ""
             }
            },
            "type": "scatterpolargl"
           }
          ],
          "scatterternary": [
           {
            "marker": {
             "colorbar": {
              "outlinewidth": 0,
              "ticks": ""
             }
            },
            "type": "scatterternary"
           }
          ],
          "surface": [
           {
            "colorbar": {
             "outlinewidth": 0,
             "ticks": ""
            },
            "colorscale": [
             [
              0,
              "#0d0887"
             ],
             [
              0.1111111111111111,
              "#46039f"
             ],
             [
              0.2222222222222222,
              "#7201a8"
             ],
             [
              0.3333333333333333,
              "#9c179e"
             ],
             [
              0.4444444444444444,
              "#bd3786"
             ],
             [
              0.5555555555555556,
              "#d8576b"
             ],
             [
              0.6666666666666666,
              "#ed7953"
             ],
             [
              0.7777777777777778,
              "#fb9f3a"
             ],
             [
              0.8888888888888888,
              "#fdca26"
             ],
             [
              1,
              "#f0f921"
             ]
            ],
            "type": "surface"
           }
          ],
          "table": [
           {
            "cells": {
             "fill": {
              "color": "#EBF0F8"
             },
             "line": {
              "color": "white"
             }
            },
            "header": {
             "fill": {
              "color": "#C8D4E3"
             },
             "line": {
              "color": "white"
             }
            },
            "type": "table"
           }
          ]
         },
         "layout": {
          "annotationdefaults": {
           "arrowcolor": "#2a3f5f",
           "arrowhead": 0,
           "arrowwidth": 1
          },
          "autotypenumbers": "strict",
          "coloraxis": {
           "colorbar": {
            "outlinewidth": 0,
            "ticks": ""
           }
          },
          "colorscale": {
           "diverging": [
            [
             0,
             "#8e0152"
            ],
            [
             0.1,
             "#c51b7d"
            ],
            [
             0.2,
             "#de77ae"
            ],
            [
             0.3,
             "#f1b6da"
            ],
            [
             0.4,
             "#fde0ef"
            ],
            [
             0.5,
             "#f7f7f7"
            ],
            [
             0.6,
             "#e6f5d0"
            ],
            [
             0.7,
             "#b8e186"
            ],
            [
             0.8,
             "#7fbc41"
            ],
            [
             0.9,
             "#4d9221"
            ],
            [
             1,
             "#276419"
            ]
           ],
           "sequential": [
            [
             0,
             "#0d0887"
            ],
            [
             0.1111111111111111,
             "#46039f"
            ],
            [
             0.2222222222222222,
             "#7201a8"
            ],
            [
             0.3333333333333333,
             "#9c179e"
            ],
            [
             0.4444444444444444,
             "#bd3786"
            ],
            [
             0.5555555555555556,
             "#d8576b"
            ],
            [
             0.6666666666666666,
             "#ed7953"
            ],
            [
             0.7777777777777778,
             "#fb9f3a"
            ],
            [
             0.8888888888888888,
             "#fdca26"
            ],
            [
             1,
             "#f0f921"
            ]
           ],
           "sequentialminus": [
            [
             0,
             "#0d0887"
            ],
            [
             0.1111111111111111,
             "#46039f"
            ],
            [
             0.2222222222222222,
             "#7201a8"
            ],
            [
             0.3333333333333333,
             "#9c179e"
            ],
            [
             0.4444444444444444,
             "#bd3786"
            ],
            [
             0.5555555555555556,
             "#d8576b"
            ],
            [
             0.6666666666666666,
             "#ed7953"
            ],
            [
             0.7777777777777778,
             "#fb9f3a"
            ],
            [
             0.8888888888888888,
             "#fdca26"
            ],
            [
             1,
             "#f0f921"
            ]
           ]
          },
          "colorway": [
           "#636efa",
           "#EF553B",
           "#00cc96",
           "#ab63fa",
           "#FFA15A",
           "#19d3f3",
           "#FF6692",
           "#B6E880",
           "#FF97FF",
           "#FECB52"
          ],
          "font": {
           "color": "#2a3f5f"
          },
          "geo": {
           "bgcolor": "white",
           "lakecolor": "white",
           "landcolor": "#E5ECF6",
           "showlakes": true,
           "showland": true,
           "subunitcolor": "white"
          },
          "hoverlabel": {
           "align": "left"
          },
          "hovermode": "closest",
          "mapbox": {
           "style": "light"
          },
          "paper_bgcolor": "white",
          "plot_bgcolor": "#E5ECF6",
          "polar": {
           "angularaxis": {
            "gridcolor": "white",
            "linecolor": "white",
            "ticks": ""
           },
           "bgcolor": "#E5ECF6",
           "radialaxis": {
            "gridcolor": "white",
            "linecolor": "white",
            "ticks": ""
           }
          },
          "scene": {
           "xaxis": {
            "backgroundcolor": "#E5ECF6",
            "gridcolor": "white",
            "gridwidth": 2,
            "linecolor": "white",
            "showbackground": true,
            "ticks": "",
            "zerolinecolor": "white"
           },
           "yaxis": {
            "backgroundcolor": "#E5ECF6",
            "gridcolor": "white",
            "gridwidth": 2,
            "linecolor": "white",
            "showbackground": true,
            "ticks": "",
            "zerolinecolor": "white"
           },
           "zaxis": {
            "backgroundcolor": "#E5ECF6",
            "gridcolor": "white",
            "gridwidth": 2,
            "linecolor": "white",
            "showbackground": true,
            "ticks": "",
            "zerolinecolor": "white"
           }
          },
          "shapedefaults": {
           "line": {
            "color": "#2a3f5f"
           }
          },
          "ternary": {
           "aaxis": {
            "gridcolor": "white",
            "linecolor": "white",
            "ticks": ""
           },
           "baxis": {
            "gridcolor": "white",
            "linecolor": "white",
            "ticks": ""
           },
           "bgcolor": "#E5ECF6",
           "caxis": {
            "gridcolor": "white",
            "linecolor": "white",
            "ticks": ""
           }
          },
          "title": {
           "x": 0.05
          },
          "xaxis": {
           "automargin": true,
           "gridcolor": "white",
           "linecolor": "white",
           "ticks": "",
           "title": {
            "standoff": 15
           },
           "zerolinecolor": "white",
           "zerolinewidth": 2
          },
          "yaxis": {
           "automargin": true,
           "gridcolor": "white",
           "linecolor": "white",
           "ticks": "",
           "title": {
            "standoff": 15
           },
           "zerolinecolor": "white",
           "zerolinewidth": 2
          }
         }
        },
        "title": {
         "text": "Happiness Scores by Country in 2022"
        }
       }
      },
      "text/html": [
       "<div>                            <div id=\"27fb2211-72c0-47c7-a9e8-bd8f96f714b9\" class=\"plotly-graph-div\" style=\"height:525px; width:100%;\"></div>            <script type=\"text/javascript\">                require([\"plotly\"], function(Plotly) {                    window.PLOTLYENV=window.PLOTLYENV || {};                                    if (document.getElementById(\"27fb2211-72c0-47c7-a9e8-bd8f96f714b9\")) {                    Plotly.newPlot(                        \"27fb2211-72c0-47c7-a9e8-bd8f96f714b9\",                        [{\"coloraxis\":\"coloraxis\",\"geo\":\"geo\",\"hovertemplate\":\"<b>%{hovertext}</b><br><br>Country Code=%{location}<br>2022=%{z}<extra></extra>\",\"hovertext\":[\"Finland\",\"Denmark\",\"Iceland\",\"Switzerland\",\"Netherlands\",\"Luxembourg\",\"Sweden\",\"Norway\",\"Israel\",\"New Zealand\",\"Austria\",\"Australia\",\"Ireland\",\"Germany\",\"Canada\",\"United States\",\"United Kingdom\",\"Czechia\",\"Belgium\",\"France\",\"Bahrain\",\"Slovenia\",\"Costa Rica\",\"United Arab Emirates\",\"Saudi Arabia\",\"Taiwan Province of China\",\"Singapore\",\"Romania\",\"Spain\",\"Uruguay\",\"Italy\",\"Kosovo\",\"Malta\",\"Lithuania\",\"Slovakia\",\"Estonia\",\"Panama\",\"Brazil\",\"Guatemala\",\"Kazakhstan\",\"Cyprus\",\"Latvia\",\"Serbia\",\"Chile\",\"Nicaragua\",\"Mexico\",\"Croatia\",\"Poland\",\"El Salvador\",\"Kuwait\",\"Hungary\",\"Mauritius\",\"Uzbekistan\",\"Japan\",\"Honduras\",\"Portugal\",\"Argentina\",\"Greece\",\"South Korea\",\"Philippines\",\"Thailand\",\"Moldova\",\"Jamaica\",\"Kyrgyzstan\",\"Belarus\",\"Colombia\",\"Bosnia and Herzegovina\",\"Mongolia\",\"Dominican Republic\",\"Malaysia\",\"Bolivia\",\"China\",\"Paraguay\",\"Peru\",\"Montenegro\",\"Ecuador\",\"Vietnam\",\"Turkmenistan\",\"North Cyprus\",\"Russia\",\"Hong Kong S.A.R. of China\",\"Armenia\",\"Tajikistan\",\"Nepal\",\"Bulgaria\",\"Libya\",\"Indonesia\",\"Ivory Coast\",\"North Macedonia\",\"Albania\",\"South Africa\",\"Azerbaijan\",\"Gambia\",\"Bangladesh\",\"Laos\",\"Algeria\",\"Liberia\",\"Ukraine\",\"Congo\",\"Morocco\",\"Mozambique\",\"Cameroon\",\"Senegal\",\"Niger\",\"Georgia\",\"Gabon\",\"Iraq\",\"Venezuela\",\"Guinea\",\"Iran\",\"Ghana\",\"Turkey\",\"Burkina Faso\",\"Cambodia\",\"Benin\",\"Comoros\",\"Uganda\",\"Nigeria\",\"Kenya\",\"Tunisia\",\"Pakistan\",\"Palestinian Territories\",\"Mali\",\"Namibia\",\"Eswatini, Kingdom of\",\"Myanmar\",\"Sri Lanka\",\"Madagascar\",\"Egypt\",\"Chad\",\"Ethiopia\",\"Yemen\",\"Mauritania\",\"Jordan\",\"Togo\",\"India\",\"Zambia\",\"Malawi\",\"Tanzania\",\"Sierra Leone\",\"Lesotho\",\"Botswana\",\"Rwanda\",\"Zimbabwe\",\"Lebanon\",\"Afghanistan\"],\"locationmode\":\"ISO-3\",\"locations\":[\"FIN\",\"DNK\",\"ISL\",\"CHE\",\"NLD\",\"LUX\",\"SWE\",\"NOR\",\"ISR\",\"NZL\",\"AUT\",\"AUS\",\"IRL\",\"DEU\",\"CAN\",\"USA\",\"GBR\",\"CZE\",\"BEL\",\"FRA\",\"BHR\",\"SVN\",\"CRI\",\"ARE\",\"SAU\",\"TWN\",\"SGP\",\"ROU\",\"ESP\",\"URY\",\"ITA\",null,\"MLT\",\"LTU\",\"SVK\",\"EST\",\"PAN\",\"BRA\",\"GTM\",\"KAZ\",\"CYP\",\"LVA\",\"SRB\",\"CHL\",\"NIC\",\"MEX\",\"HRV\",\"POL\",\"SLV\",\"KWT\",\"HUN\",\"MUS\",\"UZB\",\"JPN\",\"HND\",\"PRT\",\"ARG\",\"GRC\",\"KOR\",\"PHL\",\"THA\",null,\"JAM\",\"KGZ\",\"BLR\",\"COL\",\"BIH\",\"MNG\",\"DOM\",\"MYS\",\"BOL\",\"CHN\",\"PRY\",\"PER\",\"MNE\",\"ECU\",\"VNM\",\"TKM\",\"CYP\",\"RUS\",\"HKG\",\"ARM\",\"TJK\",\"NPL\",\"BGR\",\"LBY\",\"IDN\",\"CIV\",\"MKD\",\"ALB\",\"ZAF\",\"AZE\",\"GMB\",\"BGD\",\"LAO\",\"DZA\",\"LBR\",\"UKR\",\"COG\",\"MAR\",\"MOZ\",\"CMR\",\"SEN\",\"NER\",\"GEO\",\"GAB\",\"IRQ\",\"VEN\",\"GIN\",\"IRN\",\"GHA\",\"TUR\",\"BFA\",\"KHM\",\"BEN\",\"COM\",\"UGA\",\"NGA\",\"KEN\",\"TUN\",\"PAK\",null,\"MLI\",\"NAM\",null,\"MMR\",\"LKA\",\"MDG\",\"EGY\",\"TCD\",\"ETH\",\"YEM\",\"MRT\",\"JOR\",\"TGO\",\"IND\",\"ZMB\",\"MWI\",\"TZA\",\"SLE\",\"LSO\",\"BWA\",\"RWA\",\"ZWE\",\"LBN\",\"AFG\"],\"name\":\"\",\"z\":[7.821,7.636,7.557,7.512,7.415,7.404,7.384,7.365,7.364,7.2,7.163,7.162,7.041,7.034,7.025,6.977,6.943,6.92,6.805,6.687,6.647,6.63,6.582,6.576,6.523,6.512,6.48,6.477,6.476,6.474,6.467,6.455,6.447,6.446,6.391,6.341,6.309,6.293,6.262,6.234,6.221,6.18,6.178,6.172,6.165,6.128,6.125,6.123,6.12,6.106,6.086,6.071,6.063,6.039,6.022,6.016,5.967,5.948,5.935,5.904,5.891,5.857,5.85,5.828,5.821,5.781,5.768,5.761,5.737,5.711,5.6,5.585,5.578,5.559,5.547,5.533,5.485,5.474,5.467,5.459,5.425,5.399,5.377,5.377,5.371,5.33,5.24,5.235,5.199,5.199,5.194,5.173,5.164,5.155,5.14,5.122,5.122,5.084,5.075,5.06,5.048,5.048,5.046,5.003,4.973,4.958,4.941,4.925,4.891,4.888,4.872,4.744,4.67,4.64,4.623,4.609,4.603,4.552,4.543,4.516,4.516,4.483,4.479,4.459,4.396,4.394,4.362,4.339,4.288,4.251,4.241,4.197,4.153,4.152,4.112,3.777,3.76,3.75,3.702,3.574,3.512,3.471,3.268,2.995,2.955,2.404],\"type\":\"choropleth\"}],                        {\"template\":{\"data\":{\"histogram2dcontour\":[{\"type\":\"histogram2dcontour\",\"colorbar\":{\"outlinewidth\":0,\"ticks\":\"\"},\"colorscale\":[[0.0,\"#0d0887\"],[0.1111111111111111,\"#46039f\"],[0.2222222222222222,\"#7201a8\"],[0.3333333333333333,\"#9c179e\"],[0.4444444444444444,\"#bd3786\"],[0.5555555555555556,\"#d8576b\"],[0.6666666666666666,\"#ed7953\"],[0.7777777777777778,\"#fb9f3a\"],[0.8888888888888888,\"#fdca26\"],[1.0,\"#f0f921\"]]}],\"choropleth\":[{\"type\":\"choropleth\",\"colorbar\":{\"outlinewidth\":0,\"ticks\":\"\"}}],\"histogram2d\":[{\"type\":\"histogram2d\",\"colorbar\":{\"outlinewidth\":0,\"ticks\":\"\"},\"colorscale\":[[0.0,\"#0d0887\"],[0.1111111111111111,\"#46039f\"],[0.2222222222222222,\"#7201a8\"],[0.3333333333333333,\"#9c179e\"],[0.4444444444444444,\"#bd3786\"],[0.5555555555555556,\"#d8576b\"],[0.6666666666666666,\"#ed7953\"],[0.7777777777777778,\"#fb9f3a\"],[0.8888888888888888,\"#fdca26\"],[1.0,\"#f0f921\"]]}],\"heatmap\":[{\"type\":\"heatmap\",\"colorbar\":{\"outlinewidth\":0,\"ticks\":\"\"},\"colorscale\":[[0.0,\"#0d0887\"],[0.1111111111111111,\"#46039f\"],[0.2222222222222222,\"#7201a8\"],[0.3333333333333333,\"#9c179e\"],[0.4444444444444444,\"#bd3786\"],[0.5555555555555556,\"#d8576b\"],[0.6666666666666666,\"#ed7953\"],[0.7777777777777778,\"#fb9f3a\"],[0.8888888888888888,\"#fdca26\"],[1.0,\"#f0f921\"]]}],\"heatmapgl\":[{\"type\":\"heatmapgl\",\"colorbar\":{\"outlinewidth\":0,\"ticks\":\"\"},\"colorscale\":[[0.0,\"#0d0887\"],[0.1111111111111111,\"#46039f\"],[0.2222222222222222,\"#7201a8\"],[0.3333333333333333,\"#9c179e\"],[0.4444444444444444,\"#bd3786\"],[0.5555555555555556,\"#d8576b\"],[0.6666666666666666,\"#ed7953\"],[0.7777777777777778,\"#fb9f3a\"],[0.8888888888888888,\"#fdca26\"],[1.0,\"#f0f921\"]]}],\"contourcarpet\":[{\"type\":\"contourcarpet\",\"colorbar\":{\"outlinewidth\":0,\"ticks\":\"\"}}],\"contour\":[{\"type\":\"contour\",\"colorbar\":{\"outlinewidth\":0,\"ticks\":\"\"},\"colorscale\":[[0.0,\"#0d0887\"],[0.1111111111111111,\"#46039f\"],[0.2222222222222222,\"#7201a8\"],[0.3333333333333333,\"#9c179e\"],[0.4444444444444444,\"#bd3786\"],[0.5555555555555556,\"#d8576b\"],[0.6666666666666666,\"#ed7953\"],[0.7777777777777778,\"#fb9f3a\"],[0.8888888888888888,\"#fdca26\"],[1.0,\"#f0f921\"]]}],\"surface\":[{\"type\":\"surface\",\"colorbar\":{\"outlinewidth\":0,\"ticks\":\"\"},\"colorscale\":[[0.0,\"#0d0887\"],[0.1111111111111111,\"#46039f\"],[0.2222222222222222,\"#7201a8\"],[0.3333333333333333,\"#9c179e\"],[0.4444444444444444,\"#bd3786\"],[0.5555555555555556,\"#d8576b\"],[0.6666666666666666,\"#ed7953\"],[0.7777777777777778,\"#fb9f3a\"],[0.8888888888888888,\"#fdca26\"],[1.0,\"#f0f921\"]]}],\"mesh3d\":[{\"type\":\"mesh3d\",\"colorbar\":{\"outlinewidth\":0,\"ticks\":\"\"}}],\"scatter\":[{\"fillpattern\":{\"fillmode\":\"overlay\",\"size\":10,\"solidity\":0.2},\"type\":\"scatter\"}],\"parcoords\":[{\"type\":\"parcoords\",\"line\":{\"colorbar\":{\"outlinewidth\":0,\"ticks\":\"\"}}}],\"scatterpolargl\":[{\"type\":\"scatterpolargl\",\"marker\":{\"colorbar\":{\"outlinewidth\":0,\"ticks\":\"\"}}}],\"bar\":[{\"error_x\":{\"color\":\"#2a3f5f\"},\"error_y\":{\"color\":\"#2a3f5f\"},\"marker\":{\"line\":{\"color\":\"#E5ECF6\",\"width\":0.5},\"pattern\":{\"fillmode\":\"overlay\",\"size\":10,\"solidity\":0.2}},\"type\":\"bar\"}],\"scattergeo\":[{\"type\":\"scattergeo\",\"marker\":{\"colorbar\":{\"outlinewidth\":0,\"ticks\":\"\"}}}],\"scatterpolar\":[{\"type\":\"scatterpolar\",\"marker\":{\"colorbar\":{\"outlinewidth\":0,\"ticks\":\"\"}}}],\"histogram\":[{\"marker\":{\"pattern\":{\"fillmode\":\"overlay\",\"size\":10,\"solidity\":0.2}},\"type\":\"histogram\"}],\"scattergl\":[{\"type\":\"scattergl\",\"marker\":{\"colorbar\":{\"outlinewidth\":0,\"ticks\":\"\"}}}],\"scatter3d\":[{\"type\":\"scatter3d\",\"line\":{\"colorbar\":{\"outlinewidth\":0,\"ticks\":\"\"}},\"marker\":{\"colorbar\":{\"outlinewidth\":0,\"ticks\":\"\"}}}],\"scattermapbox\":[{\"type\":\"scattermapbox\",\"marker\":{\"colorbar\":{\"outlinewidth\":0,\"ticks\":\"\"}}}],\"scatterternary\":[{\"type\":\"scatterternary\",\"marker\":{\"colorbar\":{\"outlinewidth\":0,\"ticks\":\"\"}}}],\"scattercarpet\":[{\"type\":\"scattercarpet\",\"marker\":{\"colorbar\":{\"outlinewidth\":0,\"ticks\":\"\"}}}],\"carpet\":[{\"aaxis\":{\"endlinecolor\":\"#2a3f5f\",\"gridcolor\":\"white\",\"linecolor\":\"white\",\"minorgridcolor\":\"white\",\"startlinecolor\":\"#2a3f5f\"},\"baxis\":{\"endlinecolor\":\"#2a3f5f\",\"gridcolor\":\"white\",\"linecolor\":\"white\",\"minorgridcolor\":\"white\",\"startlinecolor\":\"#2a3f5f\"},\"type\":\"carpet\"}],\"table\":[{\"cells\":{\"fill\":{\"color\":\"#EBF0F8\"},\"line\":{\"color\":\"white\"}},\"header\":{\"fill\":{\"color\":\"#C8D4E3\"},\"line\":{\"color\":\"white\"}},\"type\":\"table\"}],\"barpolar\":[{\"marker\":{\"line\":{\"color\":\"#E5ECF6\",\"width\":0.5},\"pattern\":{\"fillmode\":\"overlay\",\"size\":10,\"solidity\":0.2}},\"type\":\"barpolar\"}],\"pie\":[{\"automargin\":true,\"type\":\"pie\"}]},\"layout\":{\"autotypenumbers\":\"strict\",\"colorway\":[\"#636efa\",\"#EF553B\",\"#00cc96\",\"#ab63fa\",\"#FFA15A\",\"#19d3f3\",\"#FF6692\",\"#B6E880\",\"#FF97FF\",\"#FECB52\"],\"font\":{\"color\":\"#2a3f5f\"},\"hovermode\":\"closest\",\"hoverlabel\":{\"align\":\"left\"},\"paper_bgcolor\":\"white\",\"plot_bgcolor\":\"#E5ECF6\",\"polar\":{\"bgcolor\":\"#E5ECF6\",\"angularaxis\":{\"gridcolor\":\"white\",\"linecolor\":\"white\",\"ticks\":\"\"},\"radialaxis\":{\"gridcolor\":\"white\",\"linecolor\":\"white\",\"ticks\":\"\"}},\"ternary\":{\"bgcolor\":\"#E5ECF6\",\"aaxis\":{\"gridcolor\":\"white\",\"linecolor\":\"white\",\"ticks\":\"\"},\"baxis\":{\"gridcolor\":\"white\",\"linecolor\":\"white\",\"ticks\":\"\"},\"caxis\":{\"gridcolor\":\"white\",\"linecolor\":\"white\",\"ticks\":\"\"}},\"coloraxis\":{\"colorbar\":{\"outlinewidth\":0,\"ticks\":\"\"}},\"colorscale\":{\"sequential\":[[0.0,\"#0d0887\"],[0.1111111111111111,\"#46039f\"],[0.2222222222222222,\"#7201a8\"],[0.3333333333333333,\"#9c179e\"],[0.4444444444444444,\"#bd3786\"],[0.5555555555555556,\"#d8576b\"],[0.6666666666666666,\"#ed7953\"],[0.7777777777777778,\"#fb9f3a\"],[0.8888888888888888,\"#fdca26\"],[1.0,\"#f0f921\"]],\"sequentialminus\":[[0.0,\"#0d0887\"],[0.1111111111111111,\"#46039f\"],[0.2222222222222222,\"#7201a8\"],[0.3333333333333333,\"#9c179e\"],[0.4444444444444444,\"#bd3786\"],[0.5555555555555556,\"#d8576b\"],[0.6666666666666666,\"#ed7953\"],[0.7777777777777778,\"#fb9f3a\"],[0.8888888888888888,\"#fdca26\"],[1.0,\"#f0f921\"]],\"diverging\":[[0,\"#8e0152\"],[0.1,\"#c51b7d\"],[0.2,\"#de77ae\"],[0.3,\"#f1b6da\"],[0.4,\"#fde0ef\"],[0.5,\"#f7f7f7\"],[0.6,\"#e6f5d0\"],[0.7,\"#b8e186\"],[0.8,\"#7fbc41\"],[0.9,\"#4d9221\"],[1,\"#276419\"]]},\"xaxis\":{\"gridcolor\":\"white\",\"linecolor\":\"white\",\"ticks\":\"\",\"title\":{\"standoff\":15},\"zerolinecolor\":\"white\",\"automargin\":true,\"zerolinewidth\":2},\"yaxis\":{\"gridcolor\":\"white\",\"linecolor\":\"white\",\"ticks\":\"\",\"title\":{\"standoff\":15},\"zerolinecolor\":\"white\",\"automargin\":true,\"zerolinewidth\":2},\"scene\":{\"xaxis\":{\"backgroundcolor\":\"#E5ECF6\",\"gridcolor\":\"white\",\"linecolor\":\"white\",\"showbackground\":true,\"ticks\":\"\",\"zerolinecolor\":\"white\",\"gridwidth\":2},\"yaxis\":{\"backgroundcolor\":\"#E5ECF6\",\"gridcolor\":\"white\",\"linecolor\":\"white\",\"showbackground\":true,\"ticks\":\"\",\"zerolinecolor\":\"white\",\"gridwidth\":2},\"zaxis\":{\"backgroundcolor\":\"#E5ECF6\",\"gridcolor\":\"white\",\"linecolor\":\"white\",\"showbackground\":true,\"ticks\":\"\",\"zerolinecolor\":\"white\",\"gridwidth\":2}},\"shapedefaults\":{\"line\":{\"color\":\"#2a3f5f\"}},\"annotationdefaults\":{\"arrowcolor\":\"#2a3f5f\",\"arrowhead\":0,\"arrowwidth\":1},\"geo\":{\"bgcolor\":\"white\",\"landcolor\":\"#E5ECF6\",\"subunitcolor\":\"white\",\"showland\":true,\"showlakes\":true,\"lakecolor\":\"white\"},\"title\":{\"x\":0.05},\"mapbox\":{\"style\":\"light\"}}},\"geo\":{\"domain\":{\"x\":[0.0,1.0],\"y\":[0.0,1.0]},\"center\":{}},\"coloraxis\":{\"colorbar\":{\"title\":{\"text\":\"2022\"}},\"colorscale\":[[0.0,\"#8B0000\"],[0.3333333333333333,\"#FF4500\"],[0.6666666666666666,\"#FFA500\"],[1.0,\"#FFFF00\"]]},\"legend\":{\"tracegroupgap\":0},\"title\":{\"text\":\"Happiness Scores by Country in 2022\"}},                        {\"responsive\": true}                    ).then(function(){\n",
       "                            \n",
       "var gd = document.getElementById('27fb2211-72c0-47c7-a9e8-bd8f96f714b9');\n",
       "var x = new MutationObserver(function (mutations, observer) {{\n",
       "        var display = window.getComputedStyle(gd).display;\n",
       "        if (!display || display === 'none') {{\n",
       "            console.log([gd, 'removed!']);\n",
       "            Plotly.purge(gd);\n",
       "            observer.disconnect();\n",
       "        }}\n",
       "}});\n",
       "\n",
       "// Listen for the removal of the full notebook cells\n",
       "var notebookContainer = gd.closest('#notebook-container');\n",
       "if (notebookContainer) {{\n",
       "    x.observe(notebookContainer, {childList: true});\n",
       "}}\n",
       "\n",
       "// Listen for the clearing of the current output cell\n",
       "var outputEl = gd.closest('.output');\n",
       "if (outputEl) {{\n",
       "    x.observe(outputEl, {childList: true});\n",
       "}}\n",
       "\n",
       "                        })                };                });            </script>        </div>"
      ]
     },
     "metadata": {},
     "output_type": "display_data"
    }
   ],
   "source": [
    "import plotly.express as px\n",
    "\n",
    "df_2022 = pivoted_happy[['Country', 'Country Code', '2022']]\n",
    "color_scale = [\"#8B0000\", \"#FF4500\", \"#FFA500\", \"#FFFF00\"]\n",
    "\n",
    "# Create a choropleth map using Plotly Express\n",
    "fig = px.choropleth(df_2022, \n",
    "                    locations='Country Code', \n",
    "                    locationmode='ISO-3',\n",
    "                    color='2022', \n",
    "                    hover_name='Country',\n",
    "                    color_continuous_scale=color_scale, \n",
    "                    title='Happiness Scores by Country in 2022')\n",
    "\n",
    "# Display the map\n",
    "fig.show()"
   ]
  },
  {
   "cell_type": "code",
   "execution_count": 23,
   "id": "821df7dc",
   "metadata": {},
   "outputs": [
    {
     "data": {
      "text/html": [
       "<div>\n",
       "<style scoped>\n",
       "    .dataframe tbody tr th:only-of-type {\n",
       "        vertical-align: middle;\n",
       "    }\n",
       "\n",
       "    .dataframe tbody tr th {\n",
       "        vertical-align: top;\n",
       "    }\n",
       "\n",
       "    .dataframe thead th {\n",
       "        text-align: right;\n",
       "    }\n",
       "</style>\n",
       "<table border=\"1\" class=\"dataframe\">\n",
       "  <thead>\n",
       "    <tr style=\"text-align: right;\">\n",
       "      <th></th>\n",
       "      <th>Country</th>\n",
       "      <th>2015</th>\n",
       "      <th>2016</th>\n",
       "      <th>2017</th>\n",
       "      <th>2018</th>\n",
       "      <th>2019</th>\n",
       "      <th>2020</th>\n",
       "      <th>2021</th>\n",
       "      <th>2022</th>\n",
       "      <th>Country Code</th>\n",
       "    </tr>\n",
       "  </thead>\n",
       "  <tbody>\n",
       "    <tr>\n",
       "      <th>0</th>\n",
       "      <td>Finland</td>\n",
       "      <td>7.587</td>\n",
       "      <td>7.526</td>\n",
       "      <td>7.537</td>\n",
       "      <td>7.632</td>\n",
       "      <td>7.769</td>\n",
       "      <td>7.8087</td>\n",
       "      <td>7.842</td>\n",
       "      <td>7.821</td>\n",
       "      <td>FIN</td>\n",
       "    </tr>\n",
       "    <tr>\n",
       "      <th>1</th>\n",
       "      <td>Denmark</td>\n",
       "      <td>7.561</td>\n",
       "      <td>7.509</td>\n",
       "      <td>7.522</td>\n",
       "      <td>7.594</td>\n",
       "      <td>7.600</td>\n",
       "      <td>7.6456</td>\n",
       "      <td>7.620</td>\n",
       "      <td>7.636</td>\n",
       "      <td>DNK</td>\n",
       "    </tr>\n",
       "    <tr>\n",
       "      <th>2</th>\n",
       "      <td>Iceland</td>\n",
       "      <td>7.527</td>\n",
       "      <td>7.501</td>\n",
       "      <td>7.504</td>\n",
       "      <td>7.555</td>\n",
       "      <td>7.554</td>\n",
       "      <td>7.5599</td>\n",
       "      <td>7.571</td>\n",
       "      <td>7.557</td>\n",
       "      <td>ISL</td>\n",
       "    </tr>\n",
       "    <tr>\n",
       "      <th>3</th>\n",
       "      <td>Switzerland</td>\n",
       "      <td>7.522</td>\n",
       "      <td>7.498</td>\n",
       "      <td>7.494</td>\n",
       "      <td>7.495</td>\n",
       "      <td>7.494</td>\n",
       "      <td>7.5045</td>\n",
       "      <td>7.554</td>\n",
       "      <td>7.512</td>\n",
       "      <td>CHE</td>\n",
       "    </tr>\n",
       "    <tr>\n",
       "      <th>4</th>\n",
       "      <td>Netherlands</td>\n",
       "      <td>7.427</td>\n",
       "      <td>7.413</td>\n",
       "      <td>7.469</td>\n",
       "      <td>7.487</td>\n",
       "      <td>7.488</td>\n",
       "      <td>7.4880</td>\n",
       "      <td>7.464</td>\n",
       "      <td>7.415</td>\n",
       "      <td>NLD</td>\n",
       "    </tr>\n",
       "    <tr>\n",
       "      <th>...</th>\n",
       "      <td>...</td>\n",
       "      <td>...</td>\n",
       "      <td>...</td>\n",
       "      <td>...</td>\n",
       "      <td>...</td>\n",
       "      <td>...</td>\n",
       "      <td>...</td>\n",
       "      <td>...</td>\n",
       "      <td>...</td>\n",
       "      <td>...</td>\n",
       "    </tr>\n",
       "    <tr>\n",
       "      <th>141</th>\n",
       "      <td>Botswana</td>\n",
       "      <td>3.904</td>\n",
       "      <td>3.856</td>\n",
       "      <td>3.766</td>\n",
       "      <td>3.795</td>\n",
       "      <td>3.973</td>\n",
       "      <td>3.7208</td>\n",
       "      <td>3.623</td>\n",
       "      <td>3.471</td>\n",
       "      <td>BWA</td>\n",
       "    </tr>\n",
       "    <tr>\n",
       "      <th>142</th>\n",
       "      <td>Rwanda</td>\n",
       "      <td>3.896</td>\n",
       "      <td>3.832</td>\n",
       "      <td>3.657</td>\n",
       "      <td>3.774</td>\n",
       "      <td>3.933</td>\n",
       "      <td>3.6528</td>\n",
       "      <td>3.615</td>\n",
       "      <td>3.268</td>\n",
       "      <td>RWA</td>\n",
       "    </tr>\n",
       "    <tr>\n",
       "      <th>143</th>\n",
       "      <td>Zimbabwe</td>\n",
       "      <td>3.845</td>\n",
       "      <td>3.763</td>\n",
       "      <td>3.644</td>\n",
       "      <td>3.692</td>\n",
       "      <td>3.802</td>\n",
       "      <td>3.5733</td>\n",
       "      <td>3.600</td>\n",
       "      <td>2.995</td>\n",
       "      <td>ZWE</td>\n",
       "    </tr>\n",
       "    <tr>\n",
       "      <th>144</th>\n",
       "      <td>Lebanon</td>\n",
       "      <td>3.819</td>\n",
       "      <td>3.739</td>\n",
       "      <td>3.603</td>\n",
       "      <td>3.632</td>\n",
       "      <td>3.775</td>\n",
       "      <td>3.5380</td>\n",
       "      <td>3.512</td>\n",
       "      <td>2.955</td>\n",
       "      <td>LBN</td>\n",
       "    </tr>\n",
       "    <tr>\n",
       "      <th>145</th>\n",
       "      <td>Afghanistan</td>\n",
       "      <td>3.781</td>\n",
       "      <td>3.739</td>\n",
       "      <td>3.593</td>\n",
       "      <td>3.590</td>\n",
       "      <td>3.663</td>\n",
       "      <td>3.5274</td>\n",
       "      <td>3.467</td>\n",
       "      <td>2.404</td>\n",
       "      <td>AFG</td>\n",
       "    </tr>\n",
       "  </tbody>\n",
       "</table>\n",
       "<p>146 rows × 10 columns</p>\n",
       "</div>"
      ],
      "text/plain": [
       "         Country   2015   2016   2017   2018   2019    2020   2021   2022  \\\n",
       "0        Finland  7.587  7.526  7.537  7.632  7.769  7.8087  7.842  7.821   \n",
       "1        Denmark  7.561  7.509  7.522  7.594  7.600  7.6456  7.620  7.636   \n",
       "2        Iceland  7.527  7.501  7.504  7.555  7.554  7.5599  7.571  7.557   \n",
       "3    Switzerland  7.522  7.498  7.494  7.495  7.494  7.5045  7.554  7.512   \n",
       "4    Netherlands  7.427  7.413  7.469  7.487  7.488  7.4880  7.464  7.415   \n",
       "..           ...    ...    ...    ...    ...    ...     ...    ...    ...   \n",
       "141     Botswana  3.904  3.856  3.766  3.795  3.973  3.7208  3.623  3.471   \n",
       "142       Rwanda  3.896  3.832  3.657  3.774  3.933  3.6528  3.615  3.268   \n",
       "143     Zimbabwe  3.845  3.763  3.644  3.692  3.802  3.5733  3.600  2.995   \n",
       "144      Lebanon  3.819  3.739  3.603  3.632  3.775  3.5380  3.512  2.955   \n",
       "145  Afghanistan  3.781  3.739  3.593  3.590  3.663  3.5274  3.467  2.404   \n",
       "\n",
       "    Country Code  \n",
       "0            FIN  \n",
       "1            DNK  \n",
       "2            ISL  \n",
       "3            CHE  \n",
       "4            NLD  \n",
       "..           ...  \n",
       "141          BWA  \n",
       "142          RWA  \n",
       "143          ZWE  \n",
       "144          LBN  \n",
       "145          AFG  \n",
       "\n",
       "[146 rows x 10 columns]"
      ]
     },
     "execution_count": 23,
     "metadata": {},
     "output_type": "execute_result"
    }
   ],
   "source": [
    "pivoted_happy"
   ]
  },
  {
   "cell_type": "code",
   "execution_count": 25,
   "id": "faae6deb",
   "metadata": {},
   "outputs": [],
   "source": [
    "# Calculate the difference between 2022 and 2015 happiness scores\n",
    "pivoted_happy['Happiness Score Difference'] = pivoted_happy['2022'] - pivoted_happy['2015']"
   ]
  },
  {
   "cell_type": "code",
   "execution_count": 49,
   "id": "19e5e162",
   "metadata": {},
   "outputs": [],
   "source": [
    "def get_largest_9():\n",
    "    largest = pivoted_happy.nlargest(9, 'Happiness Score Difference')\n",
    "    return largest['Country'].tolist()\n",
    "    \n",
    "def get_smallest_9():\n",
    "    smallest = pivoted_happy.nsmallest(9, 'Happiness Score Difference')\n",
    "    return smallest['Country'].tolist()\n"
   ]
  },
  {
   "cell_type": "code",
   "execution_count": 53,
   "id": "55738883",
   "metadata": {},
   "outputs": [
    {
     "data": {
      "application/vnd.plotly.v1+json": {
       "config": {
        "plotlyServerURL": "https://plot.ly"
       },
       "data": [
        {
         "coloraxis": "coloraxis",
         "geo": "geo",
         "hovertemplate": "<b>%{hovertext}</b><br><br>Country Code=%{location}<br>Happiness Score Difference=%{z}<extra></extra>",
         "hovertext": [
          "Finland",
          "Denmark",
          "Iceland",
          "Switzerland",
          "Netherlands",
          "Luxembourg",
          "Sweden",
          "Norway",
          "Israel",
          "New Zealand",
          "Austria",
          "Australia",
          "Ireland",
          "Germany",
          "Canada",
          "United States",
          "United Kingdom",
          "Czechia",
          "Belgium",
          "France",
          "Bahrain",
          "Slovenia",
          "Costa Rica",
          "United Arab Emirates",
          "Saudi Arabia",
          "Taiwan Province of China",
          "Singapore",
          "Romania",
          "Spain",
          "Uruguay",
          "Italy",
          "Kosovo",
          "Malta",
          "Lithuania",
          "Slovakia",
          "Estonia",
          "Panama",
          "Brazil",
          "Guatemala",
          "Kazakhstan",
          "Cyprus",
          "Latvia",
          "Serbia",
          "Chile",
          "Nicaragua",
          "Mexico",
          "Croatia",
          "Poland",
          "El Salvador",
          "Kuwait",
          "Hungary",
          "Mauritius",
          "Uzbekistan",
          "Japan",
          "Honduras",
          "Portugal",
          "Argentina",
          "Greece",
          "South Korea",
          "Philippines",
          "Thailand",
          "Moldova",
          "Jamaica",
          "Kyrgyzstan",
          "Belarus",
          "Colombia",
          "Bosnia and Herzegovina",
          "Mongolia",
          "Dominican Republic",
          "Malaysia",
          "Bolivia",
          "China",
          "Paraguay",
          "Peru",
          "Montenegro",
          "Ecuador",
          "Vietnam",
          "Turkmenistan",
          "North Cyprus",
          "Russia",
          "Hong Kong S.A.R. of China",
          "Armenia",
          "Tajikistan",
          "Nepal",
          "Bulgaria",
          "Libya",
          "Indonesia",
          "Ivory Coast",
          "North Macedonia",
          "Albania",
          "South Africa",
          "Azerbaijan",
          "Gambia",
          "Bangladesh",
          "Laos",
          "Algeria",
          "Liberia",
          "Ukraine",
          "Congo",
          "Morocco",
          "Mozambique",
          "Cameroon",
          "Senegal",
          "Niger",
          "Georgia",
          "Gabon",
          "Iraq",
          "Venezuela",
          "Guinea",
          "Iran",
          "Ghana",
          "Turkey",
          "Burkina Faso",
          "Cambodia",
          "Benin",
          "Comoros",
          "Uganda",
          "Nigeria",
          "Kenya",
          "Tunisia",
          "Pakistan",
          "Palestinian Territories",
          "Mali",
          "Namibia",
          "Eswatini, Kingdom of",
          "Myanmar",
          "Sri Lanka",
          "Madagascar",
          "Egypt",
          "Chad",
          "Ethiopia",
          "Yemen",
          "Mauritania",
          "Jordan",
          "Togo",
          "India",
          "Zambia",
          "Malawi",
          "Tanzania",
          "Sierra Leone",
          "Lesotho",
          "Botswana",
          "Rwanda",
          "Zimbabwe",
          "Lebanon",
          "Afghanistan"
         ],
         "locationmode": "ISO-3",
         "locations": [
          "FIN",
          "DNK",
          "ISL",
          "CHE",
          "NLD",
          "LUX",
          "SWE",
          "NOR",
          "ISR",
          "NZL",
          "AUT",
          "AUS",
          "IRL",
          "DEU",
          "CAN",
          "USA",
          "GBR",
          "CZE",
          "BEL",
          "FRA",
          "BHR",
          "SVN",
          "CRI",
          "ARE",
          "SAU",
          "TWN",
          "SGP",
          "ROU",
          "ESP",
          "URY",
          "ITA",
          null,
          "MLT",
          "LTU",
          "SVK",
          "EST",
          "PAN",
          "BRA",
          "GTM",
          "KAZ",
          "CYP",
          "LVA",
          "SRB",
          "CHL",
          "NIC",
          "MEX",
          "HRV",
          "POL",
          "SLV",
          "KWT",
          "HUN",
          "MUS",
          "UZB",
          "JPN",
          "HND",
          "PRT",
          "ARG",
          "GRC",
          "KOR",
          "PHL",
          "THA",
          null,
          "JAM",
          "KGZ",
          "BLR",
          "COL",
          "BIH",
          "MNG",
          "DOM",
          "MYS",
          "BOL",
          "CHN",
          "PRY",
          "PER",
          "MNE",
          "ECU",
          "VNM",
          "TKM",
          "CYP",
          "RUS",
          "HKG",
          "ARM",
          "TJK",
          "NPL",
          "BGR",
          "LBY",
          "IDN",
          "CIV",
          "MKD",
          "ALB",
          "ZAF",
          "AZE",
          "GMB",
          "BGD",
          "LAO",
          "DZA",
          "LBR",
          "UKR",
          "COG",
          "MAR",
          "MOZ",
          "CMR",
          "SEN",
          "NER",
          "GEO",
          "GAB",
          "IRQ",
          "VEN",
          "GIN",
          "IRN",
          "GHA",
          "TUR",
          "BFA",
          "KHM",
          "BEN",
          "COM",
          "UGA",
          "NGA",
          "KEN",
          "TUN",
          "PAK",
          null,
          "MLI",
          "NAM",
          null,
          "MMR",
          "LKA",
          "MDG",
          "EGY",
          "TCD",
          "ETH",
          "YEM",
          "MRT",
          "JOR",
          "TGO",
          "IND",
          "ZMB",
          "MWI",
          "TZA",
          "SLE",
          "LSO",
          "BWA",
          "RWA",
          "ZWE",
          "LBN",
          "AFG"
         ],
         "name": "",
         "type": "choropleth",
         "z": [
          0.23399999999999999,
          0.07500000000000018,
          0.03000000000000025,
          -0.010000000000000675,
          -0.011999999999999567,
          -0.0019999999999997797,
          0.006000000000000227,
          0.001000000000000334,
          0.07800000000000029,
          -0.08399999999999963,
          -0.11499999999999932,
          -0.06400000000000006,
          -0.1589999999999998,
          -0.15300000000000047,
          -0.09399999999999942,
          -0.005999999999999339,
          -0.0030000000000001137,
          -0.020000000000000462,
          -0.13200000000000056,
          -0.21399999999999952,
          -0.21999999999999975,
          -0.22299999999999986,
          -0.22799999999999976,
          -0.22200000000000042,
          -0.2629999999999999,
          -0.23800000000000043,
          -0.1899999999999995,
          -0.13399999999999945,
          -0.0990000000000002,
          -0.09999999999999964,
          -0.038000000000000256,
          -0.03000000000000025,
          -0.03000000000000025,
          -0.009000000000000341,
          -0.019999999999999574,
          0.012000000000000455,
          0.007000000000000561,
          -0.004999999999999893,
          -0.03300000000000036,
          -0.03500000000000014,
          0.052999999999999936,
          0.04999999999999982,
          0.054999999999999716,
          0.1689999999999996,
          0.16999999999999993,
          0.14100000000000001,
          0.14100000000000001,
          0.14800000000000058,
          0.16000000000000014,
          0.15799999999999947,
          0.19600000000000062,
          0.1819999999999995,
          0.1849999999999996,
          0.18399999999999928,
          0.17400000000000038,
          0.18299999999999983,
          0.13899999999999935,
          0.12400000000000055,
          0.12199999999999989,
          0.11299999999999955,
          0.12100000000000044,
          0.09799999999999986,
          0.09600000000000009,
          0.1120000000000001,
          0.1120000000000001,
          0.08599999999999941,
          0.07899999999999974,
          0.1559999999999997,
          0.1479999999999997,
          0.16300000000000026,
          0.12299999999999933,
          0.11099999999999977,
          0.14900000000000002,
          0.16000000000000014,
          0.1869999999999994,
          0.2010000000000005,
          0.19900000000000073,
          0.2060000000000004,
          0.21399999999999952,
          0.2469999999999999,
          0.23099999999999987,
          0.20699999999999985,
          0.1849999999999996,
          0.2370000000000001,
          0.24200000000000088,
          0.2060000000000004,
          0.11699999999999999,
          0.133,
          0.10099999999999998,
          0.12599999999999945,
          0.13699999999999957,
          0.16000000000000014,
          0.15700000000000003,
          0.18400000000000016,
          0.18100000000000005,
          0.17300000000000004,
          0.2240000000000002,
          0.19899999999999984,
          0.19899999999999984,
          0.18599999999999994,
          0.18100000000000005,
          0.19099999999999984,
          0.20699999999999985,
          0.2030000000000003,
          0.1849999999999996,
          0.1720000000000006,
          0.20199999999999996,
          0.20999999999999996,
          0.19700000000000006,
          0.20199999999999996,
          0.19099999999999984,
          0.06700000000000017,
          0.02799999999999958,
          0.006999999999999673,
          0.0129999999999999,
          0.038000000000000256,
          0.03799999999999937,
          0.0019999999999997797,
          0.025000000000000355,
          -0.001000000000000334,
          0.0019999999999997797,
          -0.028999999999999915,
          -0.02799999999999958,
          0.022999999999999687,
          -0.022999999999999687,
          0.025000000000000355,
          0.012000000000000455,
          0.007000000000000561,
          -0.019000000000000128,
          -0.045999999999999375,
          -0.051000000000000156,
          -0.07399999999999984,
          -0.0990000000000002,
          -0.06599999999999984,
          -0.08199999999999985,
          -0.2999999999999998,
          -0.2730000000000006,
          -0.2450000000000001,
          -0.2869999999999999,
          -0.3820000000000001,
          -0.41900000000000004,
          -0.43299999999999983,
          -0.6280000000000001,
          -0.8500000000000001,
          -0.8639999999999999,
          -1.3770000000000002
         ]
        }
       ],
       "layout": {
        "coloraxis": {
         "colorbar": {
          "title": {
           "text": "Happiness Score Difference"
          }
         },
         "colorscale": [
          [
           0,
           "#8B0000"
          ],
          [
           0.5400246305418719,
           "#FF4500"
          ],
          [
           0.8479064039408867,
           "#FFA500"
          ],
          [
           1,
           "#FFFF00"
          ]
         ]
        },
        "geo": {
         "center": {},
         "domain": {
          "x": [
           0,
           1
          ],
          "y": [
           0,
           1
          ]
         }
        },
        "legend": {
         "tracegroupgap": 0
        },
        "template": {
         "data": {
          "bar": [
           {
            "error_x": {
             "color": "#2a3f5f"
            },
            "error_y": {
             "color": "#2a3f5f"
            },
            "marker": {
             "line": {
              "color": "#E5ECF6",
              "width": 0.5
             },
             "pattern": {
              "fillmode": "overlay",
              "size": 10,
              "solidity": 0.2
             }
            },
            "type": "bar"
           }
          ],
          "barpolar": [
           {
            "marker": {
             "line": {
              "color": "#E5ECF6",
              "width": 0.5
             },
             "pattern": {
              "fillmode": "overlay",
              "size": 10,
              "solidity": 0.2
             }
            },
            "type": "barpolar"
           }
          ],
          "carpet": [
           {
            "aaxis": {
             "endlinecolor": "#2a3f5f",
             "gridcolor": "white",
             "linecolor": "white",
             "minorgridcolor": "white",
             "startlinecolor": "#2a3f5f"
            },
            "baxis": {
             "endlinecolor": "#2a3f5f",
             "gridcolor": "white",
             "linecolor": "white",
             "minorgridcolor": "white",
             "startlinecolor": "#2a3f5f"
            },
            "type": "carpet"
           }
          ],
          "choropleth": [
           {
            "colorbar": {
             "outlinewidth": 0,
             "ticks": ""
            },
            "type": "choropleth"
           }
          ],
          "contour": [
           {
            "colorbar": {
             "outlinewidth": 0,
             "ticks": ""
            },
            "colorscale": [
             [
              0,
              "#0d0887"
             ],
             [
              0.1111111111111111,
              "#46039f"
             ],
             [
              0.2222222222222222,
              "#7201a8"
             ],
             [
              0.3333333333333333,
              "#9c179e"
             ],
             [
              0.4444444444444444,
              "#bd3786"
             ],
             [
              0.5555555555555556,
              "#d8576b"
             ],
             [
              0.6666666666666666,
              "#ed7953"
             ],
             [
              0.7777777777777778,
              "#fb9f3a"
             ],
             [
              0.8888888888888888,
              "#fdca26"
             ],
             [
              1,
              "#f0f921"
             ]
            ],
            "type": "contour"
           }
          ],
          "contourcarpet": [
           {
            "colorbar": {
             "outlinewidth": 0,
             "ticks": ""
            },
            "type": "contourcarpet"
           }
          ],
          "heatmap": [
           {
            "colorbar": {
             "outlinewidth": 0,
             "ticks": ""
            },
            "colorscale": [
             [
              0,
              "#0d0887"
             ],
             [
              0.1111111111111111,
              "#46039f"
             ],
             [
              0.2222222222222222,
              "#7201a8"
             ],
             [
              0.3333333333333333,
              "#9c179e"
             ],
             [
              0.4444444444444444,
              "#bd3786"
             ],
             [
              0.5555555555555556,
              "#d8576b"
             ],
             [
              0.6666666666666666,
              "#ed7953"
             ],
             [
              0.7777777777777778,
              "#fb9f3a"
             ],
             [
              0.8888888888888888,
              "#fdca26"
             ],
             [
              1,
              "#f0f921"
             ]
            ],
            "type": "heatmap"
           }
          ],
          "heatmapgl": [
           {
            "colorbar": {
             "outlinewidth": 0,
             "ticks": ""
            },
            "colorscale": [
             [
              0,
              "#0d0887"
             ],
             [
              0.1111111111111111,
              "#46039f"
             ],
             [
              0.2222222222222222,
              "#7201a8"
             ],
             [
              0.3333333333333333,
              "#9c179e"
             ],
             [
              0.4444444444444444,
              "#bd3786"
             ],
             [
              0.5555555555555556,
              "#d8576b"
             ],
             [
              0.6666666666666666,
              "#ed7953"
             ],
             [
              0.7777777777777778,
              "#fb9f3a"
             ],
             [
              0.8888888888888888,
              "#fdca26"
             ],
             [
              1,
              "#f0f921"
             ]
            ],
            "type": "heatmapgl"
           }
          ],
          "histogram": [
           {
            "marker": {
             "pattern": {
              "fillmode": "overlay",
              "size": 10,
              "solidity": 0.2
             }
            },
            "type": "histogram"
           }
          ],
          "histogram2d": [
           {
            "colorbar": {
             "outlinewidth": 0,
             "ticks": ""
            },
            "colorscale": [
             [
              0,
              "#0d0887"
             ],
             [
              0.1111111111111111,
              "#46039f"
             ],
             [
              0.2222222222222222,
              "#7201a8"
             ],
             [
              0.3333333333333333,
              "#9c179e"
             ],
             [
              0.4444444444444444,
              "#bd3786"
             ],
             [
              0.5555555555555556,
              "#d8576b"
             ],
             [
              0.6666666666666666,
              "#ed7953"
             ],
             [
              0.7777777777777778,
              "#fb9f3a"
             ],
             [
              0.8888888888888888,
              "#fdca26"
             ],
             [
              1,
              "#f0f921"
             ]
            ],
            "type": "histogram2d"
           }
          ],
          "histogram2dcontour": [
           {
            "colorbar": {
             "outlinewidth": 0,
             "ticks": ""
            },
            "colorscale": [
             [
              0,
              "#0d0887"
             ],
             [
              0.1111111111111111,
              "#46039f"
             ],
             [
              0.2222222222222222,
              "#7201a8"
             ],
             [
              0.3333333333333333,
              "#9c179e"
             ],
             [
              0.4444444444444444,
              "#bd3786"
             ],
             [
              0.5555555555555556,
              "#d8576b"
             ],
             [
              0.6666666666666666,
              "#ed7953"
             ],
             [
              0.7777777777777778,
              "#fb9f3a"
             ],
             [
              0.8888888888888888,
              "#fdca26"
             ],
             [
              1,
              "#f0f921"
             ]
            ],
            "type": "histogram2dcontour"
           }
          ],
          "mesh3d": [
           {
            "colorbar": {
             "outlinewidth": 0,
             "ticks": ""
            },
            "type": "mesh3d"
           }
          ],
          "parcoords": [
           {
            "line": {
             "colorbar": {
              "outlinewidth": 0,
              "ticks": ""
             }
            },
            "type": "parcoords"
           }
          ],
          "pie": [
           {
            "automargin": true,
            "type": "pie"
           }
          ],
          "scatter": [
           {
            "fillpattern": {
             "fillmode": "overlay",
             "size": 10,
             "solidity": 0.2
            },
            "type": "scatter"
           }
          ],
          "scatter3d": [
           {
            "line": {
             "colorbar": {
              "outlinewidth": 0,
              "ticks": ""
             }
            },
            "marker": {
             "colorbar": {
              "outlinewidth": 0,
              "ticks": ""
             }
            },
            "type": "scatter3d"
           }
          ],
          "scattercarpet": [
           {
            "marker": {
             "colorbar": {
              "outlinewidth": 0,
              "ticks": ""
             }
            },
            "type": "scattercarpet"
           }
          ],
          "scattergeo": [
           {
            "marker": {
             "colorbar": {
              "outlinewidth": 0,
              "ticks": ""
             }
            },
            "type": "scattergeo"
           }
          ],
          "scattergl": [
           {
            "marker": {
             "colorbar": {
              "outlinewidth": 0,
              "ticks": ""
             }
            },
            "type": "scattergl"
           }
          ],
          "scattermapbox": [
           {
            "marker": {
             "colorbar": {
              "outlinewidth": 0,
              "ticks": ""
             }
            },
            "type": "scattermapbox"
           }
          ],
          "scatterpolar": [
           {
            "marker": {
             "colorbar": {
              "outlinewidth": 0,
              "ticks": ""
             }
            },
            "type": "scatterpolar"
           }
          ],
          "scatterpolargl": [
           {
            "marker": {
             "colorbar": {
              "outlinewidth": 0,
              "ticks": ""
             }
            },
            "type": "scatterpolargl"
           }
          ],
          "scatterternary": [
           {
            "marker": {
             "colorbar": {
              "outlinewidth": 0,
              "ticks": ""
             }
            },
            "type": "scatterternary"
           }
          ],
          "surface": [
           {
            "colorbar": {
             "outlinewidth": 0,
             "ticks": ""
            },
            "colorscale": [
             [
              0,
              "#0d0887"
             ],
             [
              0.1111111111111111,
              "#46039f"
             ],
             [
              0.2222222222222222,
              "#7201a8"
             ],
             [
              0.3333333333333333,
              "#9c179e"
             ],
             [
              0.4444444444444444,
              "#bd3786"
             ],
             [
              0.5555555555555556,
              "#d8576b"
             ],
             [
              0.6666666666666666,
              "#ed7953"
             ],
             [
              0.7777777777777778,
              "#fb9f3a"
             ],
             [
              0.8888888888888888,
              "#fdca26"
             ],
             [
              1,
              "#f0f921"
             ]
            ],
            "type": "surface"
           }
          ],
          "table": [
           {
            "cells": {
             "fill": {
              "color": "#EBF0F8"
             },
             "line": {
              "color": "white"
             }
            },
            "header": {
             "fill": {
              "color": "#C8D4E3"
             },
             "line": {
              "color": "white"
             }
            },
            "type": "table"
           }
          ]
         },
         "layout": {
          "annotationdefaults": {
           "arrowcolor": "#2a3f5f",
           "arrowhead": 0,
           "arrowwidth": 1
          },
          "autotypenumbers": "strict",
          "coloraxis": {
           "colorbar": {
            "outlinewidth": 0,
            "ticks": ""
           }
          },
          "colorscale": {
           "diverging": [
            [
             0,
             "#8e0152"
            ],
            [
             0.1,
             "#c51b7d"
            ],
            [
             0.2,
             "#de77ae"
            ],
            [
             0.3,
             "#f1b6da"
            ],
            [
             0.4,
             "#fde0ef"
            ],
            [
             0.5,
             "#f7f7f7"
            ],
            [
             0.6,
             "#e6f5d0"
            ],
            [
             0.7,
             "#b8e186"
            ],
            [
             0.8,
             "#7fbc41"
            ],
            [
             0.9,
             "#4d9221"
            ],
            [
             1,
             "#276419"
            ]
           ],
           "sequential": [
            [
             0,
             "#0d0887"
            ],
            [
             0.1111111111111111,
             "#46039f"
            ],
            [
             0.2222222222222222,
             "#7201a8"
            ],
            [
             0.3333333333333333,
             "#9c179e"
            ],
            [
             0.4444444444444444,
             "#bd3786"
            ],
            [
             0.5555555555555556,
             "#d8576b"
            ],
            [
             0.6666666666666666,
             "#ed7953"
            ],
            [
             0.7777777777777778,
             "#fb9f3a"
            ],
            [
             0.8888888888888888,
             "#fdca26"
            ],
            [
             1,
             "#f0f921"
            ]
           ],
           "sequentialminus": [
            [
             0,
             "#0d0887"
            ],
            [
             0.1111111111111111,
             "#46039f"
            ],
            [
             0.2222222222222222,
             "#7201a8"
            ],
            [
             0.3333333333333333,
             "#9c179e"
            ],
            [
             0.4444444444444444,
             "#bd3786"
            ],
            [
             0.5555555555555556,
             "#d8576b"
            ],
            [
             0.6666666666666666,
             "#ed7953"
            ],
            [
             0.7777777777777778,
             "#fb9f3a"
            ],
            [
             0.8888888888888888,
             "#fdca26"
            ],
            [
             1,
             "#f0f921"
            ]
           ]
          },
          "colorway": [
           "#636efa",
           "#EF553B",
           "#00cc96",
           "#ab63fa",
           "#FFA15A",
           "#19d3f3",
           "#FF6692",
           "#B6E880",
           "#FF97FF",
           "#FECB52"
          ],
          "font": {
           "color": "#2a3f5f"
          },
          "geo": {
           "bgcolor": "white",
           "lakecolor": "white",
           "landcolor": "#E5ECF6",
           "showlakes": true,
           "showland": true,
           "subunitcolor": "white"
          },
          "hoverlabel": {
           "align": "left"
          },
          "hovermode": "closest",
          "mapbox": {
           "style": "light"
          },
          "paper_bgcolor": "white",
          "plot_bgcolor": "#E5ECF6",
          "polar": {
           "angularaxis": {
            "gridcolor": "white",
            "linecolor": "white",
            "ticks": ""
           },
           "bgcolor": "#E5ECF6",
           "radialaxis": {
            "gridcolor": "white",
            "linecolor": "white",
            "ticks": ""
           }
          },
          "scene": {
           "xaxis": {
            "backgroundcolor": "#E5ECF6",
            "gridcolor": "white",
            "gridwidth": 2,
            "linecolor": "white",
            "showbackground": true,
            "ticks": "",
            "zerolinecolor": "white"
           },
           "yaxis": {
            "backgroundcolor": "#E5ECF6",
            "gridcolor": "white",
            "gridwidth": 2,
            "linecolor": "white",
            "showbackground": true,
            "ticks": "",
            "zerolinecolor": "white"
           },
           "zaxis": {
            "backgroundcolor": "#E5ECF6",
            "gridcolor": "white",
            "gridwidth": 2,
            "linecolor": "white",
            "showbackground": true,
            "ticks": "",
            "zerolinecolor": "white"
           }
          },
          "shapedefaults": {
           "line": {
            "color": "#2a3f5f"
           }
          },
          "ternary": {
           "aaxis": {
            "gridcolor": "white",
            "linecolor": "white",
            "ticks": ""
           },
           "baxis": {
            "gridcolor": "white",
            "linecolor": "white",
            "ticks": ""
           },
           "bgcolor": "#E5ECF6",
           "caxis": {
            "gridcolor": "white",
            "linecolor": "white",
            "ticks": ""
           }
          },
          "title": {
           "x": 0.05
          },
          "xaxis": {
           "automargin": true,
           "gridcolor": "white",
           "linecolor": "white",
           "ticks": "",
           "title": {
            "standoff": 15
           },
           "zerolinecolor": "white",
           "zerolinewidth": 2
          },
          "yaxis": {
           "automargin": true,
           "gridcolor": "white",
           "linecolor": "white",
           "ticks": "",
           "title": {
            "standoff": 15
           },
           "zerolinecolor": "white",
           "zerolinewidth": 2
          }
         }
        },
        "title": {
         "text": "Happiness Score Difference from 2015 to 2022"
        }
       }
      },
      "text/html": [
       "<div>                            <div id=\"dc04a7ce-7a8d-41be-80ad-210cac1cd723\" class=\"plotly-graph-div\" style=\"height:525px; width:100%;\"></div>            <script type=\"text/javascript\">                require([\"plotly\"], function(Plotly) {                    window.PLOTLYENV=window.PLOTLYENV || {};                                    if (document.getElementById(\"dc04a7ce-7a8d-41be-80ad-210cac1cd723\")) {                    Plotly.newPlot(                        \"dc04a7ce-7a8d-41be-80ad-210cac1cd723\",                        [{\"coloraxis\":\"coloraxis\",\"geo\":\"geo\",\"hovertemplate\":\"<b>%{hovertext}</b><br><br>Country Code=%{location}<br>Happiness Score Difference=%{z}<extra></extra>\",\"hovertext\":[\"Finland\",\"Denmark\",\"Iceland\",\"Switzerland\",\"Netherlands\",\"Luxembourg\",\"Sweden\",\"Norway\",\"Israel\",\"New Zealand\",\"Austria\",\"Australia\",\"Ireland\",\"Germany\",\"Canada\",\"United States\",\"United Kingdom\",\"Czechia\",\"Belgium\",\"France\",\"Bahrain\",\"Slovenia\",\"Costa Rica\",\"United Arab Emirates\",\"Saudi Arabia\",\"Taiwan Province of China\",\"Singapore\",\"Romania\",\"Spain\",\"Uruguay\",\"Italy\",\"Kosovo\",\"Malta\",\"Lithuania\",\"Slovakia\",\"Estonia\",\"Panama\",\"Brazil\",\"Guatemala\",\"Kazakhstan\",\"Cyprus\",\"Latvia\",\"Serbia\",\"Chile\",\"Nicaragua\",\"Mexico\",\"Croatia\",\"Poland\",\"El Salvador\",\"Kuwait\",\"Hungary\",\"Mauritius\",\"Uzbekistan\",\"Japan\",\"Honduras\",\"Portugal\",\"Argentina\",\"Greece\",\"South Korea\",\"Philippines\",\"Thailand\",\"Moldova\",\"Jamaica\",\"Kyrgyzstan\",\"Belarus\",\"Colombia\",\"Bosnia and Herzegovina\",\"Mongolia\",\"Dominican Republic\",\"Malaysia\",\"Bolivia\",\"China\",\"Paraguay\",\"Peru\",\"Montenegro\",\"Ecuador\",\"Vietnam\",\"Turkmenistan\",\"North Cyprus\",\"Russia\",\"Hong Kong S.A.R. of China\",\"Armenia\",\"Tajikistan\",\"Nepal\",\"Bulgaria\",\"Libya\",\"Indonesia\",\"Ivory Coast\",\"North Macedonia\",\"Albania\",\"South Africa\",\"Azerbaijan\",\"Gambia\",\"Bangladesh\",\"Laos\",\"Algeria\",\"Liberia\",\"Ukraine\",\"Congo\",\"Morocco\",\"Mozambique\",\"Cameroon\",\"Senegal\",\"Niger\",\"Georgia\",\"Gabon\",\"Iraq\",\"Venezuela\",\"Guinea\",\"Iran\",\"Ghana\",\"Turkey\",\"Burkina Faso\",\"Cambodia\",\"Benin\",\"Comoros\",\"Uganda\",\"Nigeria\",\"Kenya\",\"Tunisia\",\"Pakistan\",\"Palestinian Territories\",\"Mali\",\"Namibia\",\"Eswatini, Kingdom of\",\"Myanmar\",\"Sri Lanka\",\"Madagascar\",\"Egypt\",\"Chad\",\"Ethiopia\",\"Yemen\",\"Mauritania\",\"Jordan\",\"Togo\",\"India\",\"Zambia\",\"Malawi\",\"Tanzania\",\"Sierra Leone\",\"Lesotho\",\"Botswana\",\"Rwanda\",\"Zimbabwe\",\"Lebanon\",\"Afghanistan\"],\"locationmode\":\"ISO-3\",\"locations\":[\"FIN\",\"DNK\",\"ISL\",\"CHE\",\"NLD\",\"LUX\",\"SWE\",\"NOR\",\"ISR\",\"NZL\",\"AUT\",\"AUS\",\"IRL\",\"DEU\",\"CAN\",\"USA\",\"GBR\",\"CZE\",\"BEL\",\"FRA\",\"BHR\",\"SVN\",\"CRI\",\"ARE\",\"SAU\",\"TWN\",\"SGP\",\"ROU\",\"ESP\",\"URY\",\"ITA\",null,\"MLT\",\"LTU\",\"SVK\",\"EST\",\"PAN\",\"BRA\",\"GTM\",\"KAZ\",\"CYP\",\"LVA\",\"SRB\",\"CHL\",\"NIC\",\"MEX\",\"HRV\",\"POL\",\"SLV\",\"KWT\",\"HUN\",\"MUS\",\"UZB\",\"JPN\",\"HND\",\"PRT\",\"ARG\",\"GRC\",\"KOR\",\"PHL\",\"THA\",null,\"JAM\",\"KGZ\",\"BLR\",\"COL\",\"BIH\",\"MNG\",\"DOM\",\"MYS\",\"BOL\",\"CHN\",\"PRY\",\"PER\",\"MNE\",\"ECU\",\"VNM\",\"TKM\",\"CYP\",\"RUS\",\"HKG\",\"ARM\",\"TJK\",\"NPL\",\"BGR\",\"LBY\",\"IDN\",\"CIV\",\"MKD\",\"ALB\",\"ZAF\",\"AZE\",\"GMB\",\"BGD\",\"LAO\",\"DZA\",\"LBR\",\"UKR\",\"COG\",\"MAR\",\"MOZ\",\"CMR\",\"SEN\",\"NER\",\"GEO\",\"GAB\",\"IRQ\",\"VEN\",\"GIN\",\"IRN\",\"GHA\",\"TUR\",\"BFA\",\"KHM\",\"BEN\",\"COM\",\"UGA\",\"NGA\",\"KEN\",\"TUN\",\"PAK\",null,\"MLI\",\"NAM\",null,\"MMR\",\"LKA\",\"MDG\",\"EGY\",\"TCD\",\"ETH\",\"YEM\",\"MRT\",\"JOR\",\"TGO\",\"IND\",\"ZMB\",\"MWI\",\"TZA\",\"SLE\",\"LSO\",\"BWA\",\"RWA\",\"ZWE\",\"LBN\",\"AFG\"],\"name\":\"\",\"z\":[0.23399999999999999,0.07500000000000018,0.03000000000000025,-0.010000000000000675,-0.011999999999999567,-0.0019999999999997797,0.006000000000000227,0.001000000000000334,0.07800000000000029,-0.08399999999999963,-0.11499999999999932,-0.06400000000000006,-0.1589999999999998,-0.15300000000000047,-0.09399999999999942,-0.005999999999999339,-0.0030000000000001137,-0.020000000000000462,-0.13200000000000056,-0.21399999999999952,-0.21999999999999975,-0.22299999999999986,-0.22799999999999976,-0.22200000000000042,-0.2629999999999999,-0.23800000000000043,-0.1899999999999995,-0.13399999999999945,-0.0990000000000002,-0.09999999999999964,-0.038000000000000256,-0.03000000000000025,-0.03000000000000025,-0.009000000000000341,-0.019999999999999574,0.012000000000000455,0.007000000000000561,-0.004999999999999893,-0.03300000000000036,-0.03500000000000014,0.052999999999999936,0.04999999999999982,0.054999999999999716,0.1689999999999996,0.16999999999999993,0.14100000000000001,0.14100000000000001,0.14800000000000058,0.16000000000000014,0.15799999999999947,0.19600000000000062,0.1819999999999995,0.1849999999999996,0.18399999999999928,0.17400000000000038,0.18299999999999983,0.13899999999999935,0.12400000000000055,0.12199999999999989,0.11299999999999955,0.12100000000000044,0.09799999999999986,0.09600000000000009,0.1120000000000001,0.1120000000000001,0.08599999999999941,0.07899999999999974,0.1559999999999997,0.1479999999999997,0.16300000000000026,0.12299999999999933,0.11099999999999977,0.14900000000000002,0.16000000000000014,0.1869999999999994,0.2010000000000005,0.19900000000000073,0.2060000000000004,0.21399999999999952,0.2469999999999999,0.23099999999999987,0.20699999999999985,0.1849999999999996,0.2370000000000001,0.24200000000000088,0.2060000000000004,0.11699999999999999,0.133,0.10099999999999998,0.12599999999999945,0.13699999999999957,0.16000000000000014,0.15700000000000003,0.18400000000000016,0.18100000000000005,0.17300000000000004,0.2240000000000002,0.19899999999999984,0.19899999999999984,0.18599999999999994,0.18100000000000005,0.19099999999999984,0.20699999999999985,0.2030000000000003,0.1849999999999996,0.1720000000000006,0.20199999999999996,0.20999999999999996,0.19700000000000006,0.20199999999999996,0.19099999999999984,0.06700000000000017,0.02799999999999958,0.006999999999999673,0.0129999999999999,0.038000000000000256,0.03799999999999937,0.0019999999999997797,0.025000000000000355,-0.001000000000000334,0.0019999999999997797,-0.028999999999999915,-0.02799999999999958,0.022999999999999687,-0.022999999999999687,0.025000000000000355,0.012000000000000455,0.007000000000000561,-0.019000000000000128,-0.045999999999999375,-0.051000000000000156,-0.07399999999999984,-0.0990000000000002,-0.06599999999999984,-0.08199999999999985,-0.2999999999999998,-0.2730000000000006,-0.2450000000000001,-0.2869999999999999,-0.3820000000000001,-0.41900000000000004,-0.43299999999999983,-0.6280000000000001,-0.8500000000000001,-0.8639999999999999,-1.3770000000000002],\"type\":\"choropleth\"}],                        {\"template\":{\"data\":{\"histogram2dcontour\":[{\"type\":\"histogram2dcontour\",\"colorbar\":{\"outlinewidth\":0,\"ticks\":\"\"},\"colorscale\":[[0.0,\"#0d0887\"],[0.1111111111111111,\"#46039f\"],[0.2222222222222222,\"#7201a8\"],[0.3333333333333333,\"#9c179e\"],[0.4444444444444444,\"#bd3786\"],[0.5555555555555556,\"#d8576b\"],[0.6666666666666666,\"#ed7953\"],[0.7777777777777778,\"#fb9f3a\"],[0.8888888888888888,\"#fdca26\"],[1.0,\"#f0f921\"]]}],\"choropleth\":[{\"type\":\"choropleth\",\"colorbar\":{\"outlinewidth\":0,\"ticks\":\"\"}}],\"histogram2d\":[{\"type\":\"histogram2d\",\"colorbar\":{\"outlinewidth\":0,\"ticks\":\"\"},\"colorscale\":[[0.0,\"#0d0887\"],[0.1111111111111111,\"#46039f\"],[0.2222222222222222,\"#7201a8\"],[0.3333333333333333,\"#9c179e\"],[0.4444444444444444,\"#bd3786\"],[0.5555555555555556,\"#d8576b\"],[0.6666666666666666,\"#ed7953\"],[0.7777777777777778,\"#fb9f3a\"],[0.8888888888888888,\"#fdca26\"],[1.0,\"#f0f921\"]]}],\"heatmap\":[{\"type\":\"heatmap\",\"colorbar\":{\"outlinewidth\":0,\"ticks\":\"\"},\"colorscale\":[[0.0,\"#0d0887\"],[0.1111111111111111,\"#46039f\"],[0.2222222222222222,\"#7201a8\"],[0.3333333333333333,\"#9c179e\"],[0.4444444444444444,\"#bd3786\"],[0.5555555555555556,\"#d8576b\"],[0.6666666666666666,\"#ed7953\"],[0.7777777777777778,\"#fb9f3a\"],[0.8888888888888888,\"#fdca26\"],[1.0,\"#f0f921\"]]}],\"heatmapgl\":[{\"type\":\"heatmapgl\",\"colorbar\":{\"outlinewidth\":0,\"ticks\":\"\"},\"colorscale\":[[0.0,\"#0d0887\"],[0.1111111111111111,\"#46039f\"],[0.2222222222222222,\"#7201a8\"],[0.3333333333333333,\"#9c179e\"],[0.4444444444444444,\"#bd3786\"],[0.5555555555555556,\"#d8576b\"],[0.6666666666666666,\"#ed7953\"],[0.7777777777777778,\"#fb9f3a\"],[0.8888888888888888,\"#fdca26\"],[1.0,\"#f0f921\"]]}],\"contourcarpet\":[{\"type\":\"contourcarpet\",\"colorbar\":{\"outlinewidth\":0,\"ticks\":\"\"}}],\"contour\":[{\"type\":\"contour\",\"colorbar\":{\"outlinewidth\":0,\"ticks\":\"\"},\"colorscale\":[[0.0,\"#0d0887\"],[0.1111111111111111,\"#46039f\"],[0.2222222222222222,\"#7201a8\"],[0.3333333333333333,\"#9c179e\"],[0.4444444444444444,\"#bd3786\"],[0.5555555555555556,\"#d8576b\"],[0.6666666666666666,\"#ed7953\"],[0.7777777777777778,\"#fb9f3a\"],[0.8888888888888888,\"#fdca26\"],[1.0,\"#f0f921\"]]}],\"surface\":[{\"type\":\"surface\",\"colorbar\":{\"outlinewidth\":0,\"ticks\":\"\"},\"colorscale\":[[0.0,\"#0d0887\"],[0.1111111111111111,\"#46039f\"],[0.2222222222222222,\"#7201a8\"],[0.3333333333333333,\"#9c179e\"],[0.4444444444444444,\"#bd3786\"],[0.5555555555555556,\"#d8576b\"],[0.6666666666666666,\"#ed7953\"],[0.7777777777777778,\"#fb9f3a\"],[0.8888888888888888,\"#fdca26\"],[1.0,\"#f0f921\"]]}],\"mesh3d\":[{\"type\":\"mesh3d\",\"colorbar\":{\"outlinewidth\":0,\"ticks\":\"\"}}],\"scatter\":[{\"fillpattern\":{\"fillmode\":\"overlay\",\"size\":10,\"solidity\":0.2},\"type\":\"scatter\"}],\"parcoords\":[{\"type\":\"parcoords\",\"line\":{\"colorbar\":{\"outlinewidth\":0,\"ticks\":\"\"}}}],\"scatterpolargl\":[{\"type\":\"scatterpolargl\",\"marker\":{\"colorbar\":{\"outlinewidth\":0,\"ticks\":\"\"}}}],\"bar\":[{\"error_x\":{\"color\":\"#2a3f5f\"},\"error_y\":{\"color\":\"#2a3f5f\"},\"marker\":{\"line\":{\"color\":\"#E5ECF6\",\"width\":0.5},\"pattern\":{\"fillmode\":\"overlay\",\"size\":10,\"solidity\":0.2}},\"type\":\"bar\"}],\"scattergeo\":[{\"type\":\"scattergeo\",\"marker\":{\"colorbar\":{\"outlinewidth\":0,\"ticks\":\"\"}}}],\"scatterpolar\":[{\"type\":\"scatterpolar\",\"marker\":{\"colorbar\":{\"outlinewidth\":0,\"ticks\":\"\"}}}],\"histogram\":[{\"marker\":{\"pattern\":{\"fillmode\":\"overlay\",\"size\":10,\"solidity\":0.2}},\"type\":\"histogram\"}],\"scattergl\":[{\"type\":\"scattergl\",\"marker\":{\"colorbar\":{\"outlinewidth\":0,\"ticks\":\"\"}}}],\"scatter3d\":[{\"type\":\"scatter3d\",\"line\":{\"colorbar\":{\"outlinewidth\":0,\"ticks\":\"\"}},\"marker\":{\"colorbar\":{\"outlinewidth\":0,\"ticks\":\"\"}}}],\"scattermapbox\":[{\"type\":\"scattermapbox\",\"marker\":{\"colorbar\":{\"outlinewidth\":0,\"ticks\":\"\"}}}],\"scatterternary\":[{\"type\":\"scatterternary\",\"marker\":{\"colorbar\":{\"outlinewidth\":0,\"ticks\":\"\"}}}],\"scattercarpet\":[{\"type\":\"scattercarpet\",\"marker\":{\"colorbar\":{\"outlinewidth\":0,\"ticks\":\"\"}}}],\"carpet\":[{\"aaxis\":{\"endlinecolor\":\"#2a3f5f\",\"gridcolor\":\"white\",\"linecolor\":\"white\",\"minorgridcolor\":\"white\",\"startlinecolor\":\"#2a3f5f\"},\"baxis\":{\"endlinecolor\":\"#2a3f5f\",\"gridcolor\":\"white\",\"linecolor\":\"white\",\"minorgridcolor\":\"white\",\"startlinecolor\":\"#2a3f5f\"},\"type\":\"carpet\"}],\"table\":[{\"cells\":{\"fill\":{\"color\":\"#EBF0F8\"},\"line\":{\"color\":\"white\"}},\"header\":{\"fill\":{\"color\":\"#C8D4E3\"},\"line\":{\"color\":\"white\"}},\"type\":\"table\"}],\"barpolar\":[{\"marker\":{\"line\":{\"color\":\"#E5ECF6\",\"width\":0.5},\"pattern\":{\"fillmode\":\"overlay\",\"size\":10,\"solidity\":0.2}},\"type\":\"barpolar\"}],\"pie\":[{\"automargin\":true,\"type\":\"pie\"}]},\"layout\":{\"autotypenumbers\":\"strict\",\"colorway\":[\"#636efa\",\"#EF553B\",\"#00cc96\",\"#ab63fa\",\"#FFA15A\",\"#19d3f3\",\"#FF6692\",\"#B6E880\",\"#FF97FF\",\"#FECB52\"],\"font\":{\"color\":\"#2a3f5f\"},\"hovermode\":\"closest\",\"hoverlabel\":{\"align\":\"left\"},\"paper_bgcolor\":\"white\",\"plot_bgcolor\":\"#E5ECF6\",\"polar\":{\"bgcolor\":\"#E5ECF6\",\"angularaxis\":{\"gridcolor\":\"white\",\"linecolor\":\"white\",\"ticks\":\"\"},\"radialaxis\":{\"gridcolor\":\"white\",\"linecolor\":\"white\",\"ticks\":\"\"}},\"ternary\":{\"bgcolor\":\"#E5ECF6\",\"aaxis\":{\"gridcolor\":\"white\",\"linecolor\":\"white\",\"ticks\":\"\"},\"baxis\":{\"gridcolor\":\"white\",\"linecolor\":\"white\",\"ticks\":\"\"},\"caxis\":{\"gridcolor\":\"white\",\"linecolor\":\"white\",\"ticks\":\"\"}},\"coloraxis\":{\"colorbar\":{\"outlinewidth\":0,\"ticks\":\"\"}},\"colorscale\":{\"sequential\":[[0.0,\"#0d0887\"],[0.1111111111111111,\"#46039f\"],[0.2222222222222222,\"#7201a8\"],[0.3333333333333333,\"#9c179e\"],[0.4444444444444444,\"#bd3786\"],[0.5555555555555556,\"#d8576b\"],[0.6666666666666666,\"#ed7953\"],[0.7777777777777778,\"#fb9f3a\"],[0.8888888888888888,\"#fdca26\"],[1.0,\"#f0f921\"]],\"sequentialminus\":[[0.0,\"#0d0887\"],[0.1111111111111111,\"#46039f\"],[0.2222222222222222,\"#7201a8\"],[0.3333333333333333,\"#9c179e\"],[0.4444444444444444,\"#bd3786\"],[0.5555555555555556,\"#d8576b\"],[0.6666666666666666,\"#ed7953\"],[0.7777777777777778,\"#fb9f3a\"],[0.8888888888888888,\"#fdca26\"],[1.0,\"#f0f921\"]],\"diverging\":[[0,\"#8e0152\"],[0.1,\"#c51b7d\"],[0.2,\"#de77ae\"],[0.3,\"#f1b6da\"],[0.4,\"#fde0ef\"],[0.5,\"#f7f7f7\"],[0.6,\"#e6f5d0\"],[0.7,\"#b8e186\"],[0.8,\"#7fbc41\"],[0.9,\"#4d9221\"],[1,\"#276419\"]]},\"xaxis\":{\"gridcolor\":\"white\",\"linecolor\":\"white\",\"ticks\":\"\",\"title\":{\"standoff\":15},\"zerolinecolor\":\"white\",\"automargin\":true,\"zerolinewidth\":2},\"yaxis\":{\"gridcolor\":\"white\",\"linecolor\":\"white\",\"ticks\":\"\",\"title\":{\"standoff\":15},\"zerolinecolor\":\"white\",\"automargin\":true,\"zerolinewidth\":2},\"scene\":{\"xaxis\":{\"backgroundcolor\":\"#E5ECF6\",\"gridcolor\":\"white\",\"linecolor\":\"white\",\"showbackground\":true,\"ticks\":\"\",\"zerolinecolor\":\"white\",\"gridwidth\":2},\"yaxis\":{\"backgroundcolor\":\"#E5ECF6\",\"gridcolor\":\"white\",\"linecolor\":\"white\",\"showbackground\":true,\"ticks\":\"\",\"zerolinecolor\":\"white\",\"gridwidth\":2},\"zaxis\":{\"backgroundcolor\":\"#E5ECF6\",\"gridcolor\":\"white\",\"linecolor\":\"white\",\"showbackground\":true,\"ticks\":\"\",\"zerolinecolor\":\"white\",\"gridwidth\":2}},\"shapedefaults\":{\"line\":{\"color\":\"#2a3f5f\"}},\"annotationdefaults\":{\"arrowcolor\":\"#2a3f5f\",\"arrowhead\":0,\"arrowwidth\":1},\"geo\":{\"bgcolor\":\"white\",\"landcolor\":\"#E5ECF6\",\"subunitcolor\":\"white\",\"showland\":true,\"showlakes\":true,\"lakecolor\":\"white\"},\"title\":{\"x\":0.05},\"mapbox\":{\"style\":\"light\"}}},\"geo\":{\"domain\":{\"x\":[0.0,1.0],\"y\":[0.0,1.0]},\"center\":{}},\"coloraxis\":{\"colorbar\":{\"title\":{\"text\":\"Happiness Score Difference\"}},\"colorscale\":[[0.0,\"#8B0000\"],[0.5400246305418719,\"#FF4500\"],[0.8479064039408867,\"#FFA500\"],[1.0,\"#FFFF00\"]]},\"legend\":{\"tracegroupgap\":0},\"title\":{\"text\":\"Happiness Score Difference from 2015 to 2022\"}},                        {\"responsive\": true}                    ).then(function(){\n",
       "                            \n",
       "var gd = document.getElementById('dc04a7ce-7a8d-41be-80ad-210cac1cd723');\n",
       "var x = new MutationObserver(function (mutations, observer) {{\n",
       "        var display = window.getComputedStyle(gd).display;\n",
       "        if (!display || display === 'none') {{\n",
       "            console.log([gd, 'removed!']);\n",
       "            Plotly.purge(gd);\n",
       "            observer.disconnect();\n",
       "        }}\n",
       "}});\n",
       "\n",
       "// Listen for the removal of the full notebook cells\n",
       "var notebookContainer = gd.closest('#notebook-container');\n",
       "if (notebookContainer) {{\n",
       "    x.observe(notebookContainer, {childList: true});\n",
       "}}\n",
       "\n",
       "// Listen for the clearing of the current output cell\n",
       "var outputEl = gd.closest('.output');\n",
       "if (outputEl) {{\n",
       "    x.observe(outputEl, {childList: true});\n",
       "}}\n",
       "\n",
       "                        })                };                });            </script>        </div>"
      ]
     },
     "metadata": {},
     "output_type": "display_data"
    }
   ],
   "source": [
    "df_2022 = pivoted_happy[['Country', 'Country Code', 'Happiness Score Difference']]\n",
    "#color_scale = [\"#8B0000\", \"#FF4500\", \"#FFA500\", \"#FFFF00\"]\n",
    "norm = plt.Normalize(vmin=-1.377, vmax=0.247)\n",
    "color_scale = [[norm(-1.377), \"#8B0000\"], \n",
    "               [norm(-0.5), \"#FF4500\"], \n",
    "               [norm(0), \"#FFA500\"], \n",
    "               [norm(0.247), \"#FFFF00\"]]\n",
    "\n",
    "# Create a choropleth map using Plotly Express\n",
    "fig = px.choropleth(df_2022, \n",
    "                    locations='Country Code', \n",
    "                    locationmode='ISO-3',\n",
    "                    color='Happiness Score Difference', \n",
    "                    hover_name='Country',\n",
    "                    color_continuous_scale=color_scale, \n",
    "                    title='Happiness Score Difference from 2015 to 2022')\n",
    "\n",
    "# Display the map\n",
    "fig.show()"
   ]
  },
  {
   "cell_type": "code",
   "execution_count": 51,
   "id": "00add0af",
   "metadata": {},
   "outputs": [
    {
     "data": {
      "text/plain": [
       "['Afghanistan',\n",
       " 'Lebanon',\n",
       " 'Zimbabwe',\n",
       " 'Rwanda',\n",
       " 'Botswana',\n",
       " 'Lesotho',\n",
       " 'Sierra Leone',\n",
       " 'India',\n",
       " 'Tanzania']"
      ]
     },
     "execution_count": 51,
     "metadata": {},
     "output_type": "execute_result"
    }
   ],
   "source": [
    "get_smallest_9()"
   ]
  },
  {
   "cell_type": "code",
   "execution_count": 52,
   "id": "57b67503",
   "metadata": {},
   "outputs": [
    {
     "data": {
      "text/plain": [
       "['Russia',\n",
       " 'Bulgaria',\n",
       " 'Nepal',\n",
       " 'Finland',\n",
       " 'Hong Kong S.A.R. of China',\n",
       " 'Liberia',\n",
       " 'North Cyprus',\n",
       " 'Venezuela',\n",
       " 'Armenia']"
      ]
     },
     "execution_count": 52,
     "metadata": {},
     "output_type": "execute_result"
    }
   ],
   "source": [
    "get_largest_9()"
   ]
  },
  {
   "cell_type": "code",
   "execution_count": null,
   "id": "eed2d47e",
   "metadata": {},
   "outputs": [],
   "source": []
  }
 ],
 "metadata": {
  "kernelspec": {
   "display_name": "Python 3 (ipykernel)",
   "language": "python",
   "name": "python3"
  },
  "language_info": {
   "codemirror_mode": {
    "name": "ipython",
    "version": 3
   },
   "file_extension": ".py",
   "mimetype": "text/x-python",
   "name": "python",
   "nbconvert_exporter": "python",
   "pygments_lexer": "ipython3",
   "version": "3.9.13"
  }
 },
 "nbformat": 4,
 "nbformat_minor": 5
}
