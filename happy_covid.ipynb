{
 "cells": [
  {
   "cell_type": "code",
   "execution_count": 2,
   "id": "3fa324fe",
   "metadata": {},
   "outputs": [],
   "source": [
    "import pandas as pd\n",
    "import matplotlib.pyplot as plt"
   ]
  },
  {
   "cell_type": "code",
   "execution_count": 3,
   "id": "a25ee2ec",
   "metadata": {},
   "outputs": [],
   "source": [
    "data_15 = pd.read_csv(\"2015.csv\")\n",
    "data_16 = pd.read_csv(\"2016.csv\")\n",
    "data_17 = pd.read_csv(\"2017.csv\")\n",
    "data_18 = pd.read_csv(\"2018.csv\")\n",
    "data_19 = pd.read_csv(\"2019.csv\")\n",
    "data_20 = pd.read_csv(\"2020.csv\")\n",
    "data_21 = pd.read_csv(\"2021.csv\")\n",
    "data_22 = pd.read_csv(\"2022.csv\")"
   ]
  },
  {
   "cell_type": "code",
   "execution_count": 4,
   "id": "0e505184",
   "metadata": {},
   "outputs": [],
   "source": [
    "data_15 = data_15.iloc[:, :4]\n",
    "data_16 = data_16.iloc[:, :4]\n",
    "data_17 = data_17.iloc[:, :4]\n",
    "data_18 = data_18.iloc[:, :4]\n",
    "data_19 = data_19.iloc[:, :4]\n",
    "data_20 = data_20.iloc[:, :4]\n",
    "data_21 = data_21.iloc[:, :4]\n",
    "data_22 = data_22.iloc[:, :4]"
   ]
  },
  {
   "cell_type": "code",
   "execution_count": 5,
   "id": "d3589f81",
   "metadata": {},
   "outputs": [],
   "source": [
    "data_15['Year'] = 2015\n",
    "data_16['Year'] = 2016\n",
    "data_17['Year'] = 2017\n",
    "data_18['Year'] = 2018\n",
    "data_19['Year'] = 2019\n",
    "data_20['Year'] = 2020\n",
    "data_21['Year'] = 2021\n",
    "data_22['Year'] = 2022"
   ]
  },
  {
   "cell_type": "code",
   "execution_count": 6,
   "id": "a8e29b80",
   "metadata": {},
   "outputs": [],
   "source": [
    "data_15 = data_15.drop(columns='Region')\n",
    "data_15 = data_15.drop(columns='Happiness Rank')\n",
    "data_16 = data_16.drop(columns='Region')\n",
    "data_16 = data_16.drop(columns='Happiness Rank')"
   ]
  },
  {
   "cell_type": "code",
   "execution_count": 7,
   "id": "1c7f8028",
   "metadata": {},
   "outputs": [],
   "source": [
    "data_17 = data_17.drop(columns='Whisker.high')\n",
    "data_17 = data_17.rename(columns={'Happiness.Rank': 'Happiness Rank', 'Happiness.Score': 'Happiness Score'})\n",
    "data_17 = data_17.drop(columns='Happiness Rank')"
   ]
  },
  {
   "cell_type": "code",
   "execution_count": 8,
   "id": "b6d5d90e",
   "metadata": {},
   "outputs": [],
   "source": [
    "data_18 = data_18.drop(columns='GDP per capita')\n",
    "data_18 = data_18.drop(columns='Overall rank')\n",
    "data_18 = data_18.rename(columns={'Country or region': 'Country'})\n",
    "data_18 = data_18.rename(columns={'Score': 'Happiness Score'})\n",
    "data_19 = data_19.drop(columns='GDP per capita')\n",
    "data_19 = data_19.drop(columns='Overall rank')\n",
    "data_19 = data_19.rename(columns={'Country or region': 'Country'})\n",
    "data_19 = data_19.rename(columns={'Score': 'Happiness Score'})"
   ]
  },
  {
   "cell_type": "code",
   "execution_count": 9,
   "id": "c57d4465",
   "metadata": {},
   "outputs": [],
   "source": [
    "data_20 = data_20.drop(columns='Regional indicator')\n",
    "data_20 = data_20.drop(columns='Standard error of ladder score')\n",
    "data_20 = data_20.rename(columns={'Ladder score': 'Happiness Score'})\n",
    "data_20 = data_20.rename(columns={'Country name': 'Country'})\n",
    "data_21 = data_21.drop(columns='Regional indicator')\n",
    "data_21 = data_21.drop(columns='Standard error of ladder score')\n",
    "data_21 = data_21.rename(columns={'Ladder score': 'Happiness Score'})\n",
    "data_21 = data_21.rename(columns={'Country name': 'Country'})"
   ]
  },
  {
   "cell_type": "code",
   "execution_count": 10,
   "id": "5ab8f2d7",
   "metadata": {},
   "outputs": [],
   "source": [
    "data_22 = data_22.drop(columns='Whisker-high')\n",
    "data_22 = data_22.drop(columns='RANK')\n",
    "data_22 = data_22.drop(data_22.index[-1])\n",
    "data_22 = data_22.rename(columns={'Happiness score': 'Happiness Score'})\n",
    "data_22['Happiness Score'] = data_22['Happiness Score'].str.replace(',', '').astype(float)\n",
    "data_22['Happiness Score'] = data_22['Happiness Score'] / 1000"
   ]
  },
  {
   "cell_type": "code",
   "execution_count": 11,
   "id": "432deea7",
   "metadata": {},
   "outputs": [],
   "source": [
    "happy_df = pd.concat([data_15, data_16, data_17, data_18, data_19, data_20, data_21, data_22])\n",
    "happy_df['Country'] = data_22['Country'].replace('*', '') #not working"
   ]
  },
  {
   "cell_type": "code",
   "execution_count": 12,
   "id": "79458f3b",
   "metadata": {},
   "outputs": [],
   "source": [
    "population_df = pd.read_csv(\"population_by_country_2020.csv\")\n",
    "population_df = population_df.iloc[:, :2]"
   ]
  },
  {
   "cell_type": "code",
   "execution_count": 13,
   "id": "880c766e",
   "metadata": {},
   "outputs": [],
   "source": [
    "data = pd.read_csv(\"total_deaths.csv\")\n",
    "death_df = pd.DataFrame(data)\n",
    "death_df = death_df.iloc[12:]\n",
    "death_df = death_df.iloc[::60, :]\n",
    "death_df.fillna(0, inplace=True)"
   ]
  },
  {
   "cell_type": "code",
   "execution_count": 14,
   "id": "207bffd1",
   "metadata": {},
   "outputs": [],
   "source": [
    "pop_series = population_df.set_index('Country (or dependency)')['Population (2020)']\n",
    "death_div_pop = death_df.div(pop_series, axis=1)\n",
    "death_div_pop.fillna(0, inplace=True)"
   ]
  },
  {
   "cell_type": "code",
   "execution_count": 20,
   "id": "5d1fe3a9",
   "metadata": {},
   "outputs": [],
   "source": [
    "#           4 main dataframes have been created at this point       #\n",
    "\n",
    "# happy_df: big dataframe of all countries happiness scores from 2015-2022\n",
    "# population_df: dataframe of country populations in 2020\n",
    "# death_df: cumulative deaths per country in COVID\n",
    "# death_div_pop: deaths/population for countries\n",
    "happy_df.to_csv(\"happiness_df.csv\")\n",
    "population_df.to_csv(\"population_df.csv\")\n",
    "death_df.to_csv(\"death_df.csv\")\n",
    "death_div_pop.to_csv(\"death_div_pop_df.csv\")"
   ]
  },
  {
   "cell_type": "code",
   "execution_count": 16,
   "id": "6eb9f73b",
   "metadata": {},
   "outputs": [
    {
     "name": "stdout",
     "output_type": "stream",
     "text": [
      "['Peru', 'Bulgaria', 'Hungary', 'Bosnia and Herzegovina', 'North Macedonia', 'Montenegro', 'Slovenia', 'Croatia', 'Georgia', 'Slovakia']\n"
     ]
    }
   ],
   "source": [
    "highest_vals = death_div_pop.iloc[-1].nlargest(10)\n",
    "highest_cols = highest_vals.index.tolist()\n",
    "print(highest_cols)"
   ]
  },
  {
   "cell_type": "code",
   "execution_count": 17,
   "id": "3e183f15",
   "metadata": {},
   "outputs": [
    {
     "data": {
      "text/plain": "         Country  Happiness Score  Year\n0        Finland            7.587  2015\n1        Denmark            7.561  2015\n2        Iceland            7.527  2015\n3    Switzerland            7.522  2015\n4    Netherlands            7.427  2015\n..           ...              ...   ...\n141    Botswana*            3.471  2022\n142      Rwanda*            3.268  2022\n143     Zimbabwe            2.995  2022\n144      Lebanon            2.955  2022\n145  Afghanistan            2.404  2022\n\n[1230 rows x 3 columns]",
      "text/html": "<div>\n<style scoped>\n    .dataframe tbody tr th:only-of-type {\n        vertical-align: middle;\n    }\n\n    .dataframe tbody tr th {\n        vertical-align: top;\n    }\n\n    .dataframe thead th {\n        text-align: right;\n    }\n</style>\n<table border=\"1\" class=\"dataframe\">\n  <thead>\n    <tr style=\"text-align: right;\">\n      <th></th>\n      <th>Country</th>\n      <th>Happiness Score</th>\n      <th>Year</th>\n    </tr>\n  </thead>\n  <tbody>\n    <tr>\n      <th>0</th>\n      <td>Finland</td>\n      <td>7.587</td>\n      <td>2015</td>\n    </tr>\n    <tr>\n      <th>1</th>\n      <td>Denmark</td>\n      <td>7.561</td>\n      <td>2015</td>\n    </tr>\n    <tr>\n      <th>2</th>\n      <td>Iceland</td>\n      <td>7.527</td>\n      <td>2015</td>\n    </tr>\n    <tr>\n      <th>3</th>\n      <td>Switzerland</td>\n      <td>7.522</td>\n      <td>2015</td>\n    </tr>\n    <tr>\n      <th>4</th>\n      <td>Netherlands</td>\n      <td>7.427</td>\n      <td>2015</td>\n    </tr>\n    <tr>\n      <th>...</th>\n      <td>...</td>\n      <td>...</td>\n      <td>...</td>\n    </tr>\n    <tr>\n      <th>141</th>\n      <td>Botswana*</td>\n      <td>3.471</td>\n      <td>2022</td>\n    </tr>\n    <tr>\n      <th>142</th>\n      <td>Rwanda*</td>\n      <td>3.268</td>\n      <td>2022</td>\n    </tr>\n    <tr>\n      <th>143</th>\n      <td>Zimbabwe</td>\n      <td>2.995</td>\n      <td>2022</td>\n    </tr>\n    <tr>\n      <th>144</th>\n      <td>Lebanon</td>\n      <td>2.955</td>\n      <td>2022</td>\n    </tr>\n    <tr>\n      <th>145</th>\n      <td>Afghanistan</td>\n      <td>2.404</td>\n      <td>2022</td>\n    </tr>\n  </tbody>\n</table>\n<p>1230 rows × 3 columns</p>\n</div>"
     },
     "execution_count": 17,
     "metadata": {},
     "output_type": "execute_result"
    }
   ],
   "source": [
    "happy_df"
   ]
  },
  {
   "cell_type": "code",
   "execution_count": 18,
   "id": "1374040a",
   "metadata": {},
   "outputs": [],
   "source": [
    "def get_happiness_scores(country_name):\n",
    "    mask = happy_df['Country'] == country_name\n",
    "    happiness_scores = happy_df.loc[mask, 'Happiness Score'].tolist()\n",
    "    return happiness_scores\n",
    "\n",
    "def plot_country(happiness_scores):\n",
    "    years = range(2015, 2023)\n",
    "    plt.plot(years, happiness_scores)\n",
    "    plt.xlabel('Year')\n",
    "    plt.ylabel('Happiness Scores')\n",
    "    plt.title('Change in Happiness from 2015 to 2022')\n",
    "    plt.show()"
   ]
  },
  {
   "cell_type": "code",
   "execution_count": 19,
   "id": "04130241",
   "metadata": {},
   "outputs": [
    {
     "data": {
      "text/plain": "<Figure size 640x480 with 1 Axes>",
      "image/png": "[encoded data removed]"
     },
     "metadata": {},
     "output_type": "display_data"
    }
   ],
   "source": [
    "scores = get_happiness_scores(\"Finland\")\n",
    "plot_country(scores)"
   ]
  },
  {
   "cell_type": "code",
   "execution_count": 19,
   "id": "43150c7e",
   "metadata": {},
   "outputs": [],
   "source": []
  }
 ],
 "metadata": {
  "kernelspec": {
   "display_name": "Python 3 (ipykernel)",
   "language": "python",
   "name": "python3"
  },
  "language_info": {
   "codemirror_mode": {
    "name": "ipython",
    "version": 3
   },
   "file_extension": ".py",
   "mimetype": "text/x-python",
   "name": "python",
   "nbconvert_exporter": "python",
   "pygments_lexer": "ipython3",
   "version": "3.9.13"
  }
 },
 "nbformat": 4,
 "nbformat_minor": 5
}
